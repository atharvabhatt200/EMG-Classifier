{
  "cells": [
    {
      "cell_type": "code",
      "execution_count": 1,
      "metadata": {
        "id": "mL6xX9dggxHW"
      },
      "outputs": [],
      "source": [
        "import torch\n",
        "import torchvision\n",
        "import torch.nn as nn\n",
        "import math\n",
        "import torch.nn.functional as F\n",
        "import numpy as np\n",
        "from torch.utils.data import Dataset\n",
        "import pandas as pd\n",
        "from torch.utils.data import DataLoader\n",
        "from torchvision import transforms\n",
        "import cv2\n",
        "import matplotlib.pyplot as plt"
      ]
    },
    {
      "cell_type": "code",
      "execution_count": 2,
      "metadata": {
        "id": "yXjYWn_HPDy8"
      },
      "outputs": [],
      "source": [
        "# !cp ./working/audio-images/test_class_0/*  ./working/audio-images/class_0\n",
        "# !cp ./working/audio-images/test_class_1/*  ./working/audio-images/class_1"
      ]
    },
    {
      "cell_type": "code",
      "execution_count": 3,
      "metadata": {
        "id": "tr80dCNiHxvf"
      },
      "outputs": [],
      "source": [
        "# from google.colab import drive\n",
        "# drive.mount('/content/drive')"
      ]
    },
    {
      "cell_type": "code",
      "execution_count": 4,
      "metadata": {
        "id": "ayoLVj0ig3V6"
      },
      "outputs": [],
      "source": [
        "num_epochs = 300\n",
        "sz = (256, 192)\n",
        "learning_rate = 0.005\n",
        "batch_size = 32\n",
        "device = 'cuda'"
      ]
    },
    {
      "cell_type": "code",
      "execution_count": 5,
      "metadata": {
        "id": "oQNm2jMJg55v"
      },
      "outputs": [],
      "source": [
        "class CapDataset(Dataset):\n",
        "    def __init__(self, annotation_file):\n",
        "        self.annotations = pd.read_csv(annotation_file)\n",
        "        self.transform = transforms.Compose([None])\n",
        "\n",
        "    def __len__(self):\n",
        "        return len(self.annotations)\n",
        "\n",
        "    def __getitem__(self, index):\n",
        "        img_vec = torch.tensor(self.annotations.iloc[index, 1:], dtype=torch.float)\n",
        "        img = torch.reshape(img_vec,(1, sz[1], sz[0]))\n",
        "        # img = torch.transpose(img,1,2)\n",
        "\n",
        "        y_label = torch.tensor(self.annotations.iloc[index, 0],dtype=torch.long)\n",
        "        # if (y_label <= 61 ):\n",
        "        #     img = torch.transpose(img,1,2)\n",
        "\n",
        "        return (img, y_label)"
      ]
    },
    {
      "cell_type": "code",
      "execution_count": 6,
      "metadata": {
        "id": "0ucA30iFIjOi"
      },
      "outputs": [],
      "source": [
        "# !unzip /content/drive/MyDrive/working.zip"
      ]
    },
    {
      "cell_type": "code",
      "execution_count": null,
      "metadata": {
        "id": "q8QwRlFsL1zw"
      },
      "outputs": [],
      "source": []
    },
    {
      "cell_type": "code",
      "execution_count": 7,
      "metadata": {
        "colab": {
          "base_uri": "https://localhost:8080/"
        },
        "id": "y1C1mVIEKyoW",
        "outputId": "6b0608b3-d042-4079-f96c-914e291d9189"
      },
      "outputs": [],
      "source": [
        "import cv2\n",
        "import numpy as np\n",
        "import pandas as pd\n",
        "import os\n",
        "\n",
        "df = pd.DataFrame()\n",
        "smt = False\n",
        "\n",
        "image_folder = './class_0/'\n",
        "for filename in os.listdir(image_folder):\n",
        "    if filename.endswith(\".jpg\") or filename.endswith(\".png\"):\n",
        "        image_path = os.path.join(image_folder, filename)\n",
        "        # Load and convert the image to grayscale\n",
        "        # image_path = '/content/working/audio-images/class_0/1000_index.png'\n",
        "        image = cv2.imread(image_path)\n",
        "        gray_image = cv2.cvtColor(image, cv2.COLOR_BGR2GRAY)\n",
        "        gray_image = cv2.resize(gray_image, sz)\n",
        "        # print(gray_image.shape)\n",
        "        if not smt:\n",
        "            cv2.imshow(\"img\", gray_image)\n",
        "            cv2.waitKey(0)\n",
        "            smt = True\n",
        "        # Reshape the grayscale image array\n",
        "        gray_array_reshaped = gray_image.reshape(-1)\n",
        "        gray_array_reshaped = np.insert(gray_array_reshaped, 0, 0)\n",
        "\n",
        "        # Create a DataFrame with pixel columns\n",
        "        dfl = pd.DataFrame(gray_array_reshaped.reshape(-1, len(gray_array_reshaped)))\n",
        "        df = pd.concat([df, dfl], ignore_index=True)\n",
        "\n",
        "image_folder = './class_1/'\n",
        "for filename in os.listdir(image_folder):\n",
        "    if filename.endswith(\".jpg\") or filename.endswith(\".png\"):\n",
        "        image_path = os.path.join(image_folder, filename)\n",
        "        # Load and convert the image to grayscale\n",
        "        # image_path = '/content/working/audio-images/class_0/1000_index.png'\n",
        "        image = cv2.imread(image_path)\n",
        "        gray_image = cv2.cvtColor(image, cv2.COLOR_BGR2GRAY)\n",
        "        gray_image = cv2.resize(gray_image, sz)\n",
        "        # print(gray_image.shape)\n",
        "\n",
        "        # Reshape the grayscale image array\n",
        "        gray_array_reshaped = gray_image.reshape(-1)\n",
        "        gray_array_reshaped = np.insert(gray_array_reshaped, 0, 1)\n",
        "\n",
        "        # Create a DataFrame with pixel columns\n",
        "        dfl = pd.DataFrame(gray_array_reshaped.reshape(-1, len(gray_array_reshaped)))\n",
        "        df = pd.concat([df, dfl], ignore_index=True)\n",
        "\n",
        "# Print the first few rows of the DataFrame\n",
        "print(df.head())\n",
        "df.to_csv('output_train_large.csv', header=False, index=False)\n",
        "\n",
        "df = pd.DataFrame()\n",
        "\n",
        "image_folder = './test_class_0/'\n",
        "for filename in os.listdir(image_folder):\n",
        "    if filename.endswith(\".jpg\") or filename.endswith(\".png\"):\n",
        "        image_path = os.path.join(image_folder, filename)\n",
        "        # Load and convert the image to grayscale\n",
        "        # image_path = '/content/working/audio-images/class_0/1000_index.png'\n",
        "        image = cv2.imread(image_path)\n",
        "        gray_image = cv2.cvtColor(image, cv2.COLOR_BGR2GRAY)\n",
        "        gray_image = cv2.resize(gray_image, sz)\n",
        "        # print(gray_image.shape)\n",
        "\n",
        "        # Reshape the grayscale image array\n",
        "        gray_array_reshaped = gray_image.reshape(-1)\n",
        "        gray_array_reshaped = np.insert(gray_array_reshaped, 0, 0)\n",
        "\n",
        "        # Create a DataFrame with pixel columns\n",
        "        dfl = pd.DataFrame(gray_array_reshaped.reshape(-1, len(gray_array_reshaped)))\n",
        "        df = pd.concat([df, dfl], ignore_index=True)\n",
        "\n",
        "image_folder = './test_class_1/'\n",
        "for filename in os.listdir(image_folder):\n",
        "    if filename.endswith(\".jpg\") or filename.endswith(\".png\"):\n",
        "        image_path = os.path.join(image_folder, filename)\n",
        "        # Load and convert the image to grayscale\n",
        "        # image_path = '/content/working/audio-images/class_0/1000_index.png'\n",
        "        image = cv2.imread(image_path)\n",
        "        gray_image = cv2.cvtColor(image, cv2.COLOR_BGR2GRAY)\n",
        "        gray_image = cv2.resize(gray_image, sz)\n",
        "        # print(gray_image.shape)\n",
        "\n",
        "        # Reshape the grayscale image array\n",
        "        gray_array_reshaped = gray_image.reshape(-1)\n",
        "        gray_array_reshaped = np.insert(gray_array_reshaped, 0, 1)\n",
        "\n",
        "        # Create a DataFrame with pixel columns\n",
        "        dfl = pd.DataFrame(gray_array_reshaped.reshape(-1, len(gray_array_reshaped)))\n",
        "        df = pd.concat([df, dfl], ignore_index=True)\n",
        "\n",
        "# Print the first few rows of the DataFrame\n",
        "print(df.head())\n",
        "df.to_csv('output_test_large.csv', header=False, index=False)\n"
      ]
    },
    {
      "cell_type": "code",
      "execution_count": 8,
      "metadata": {
        "colab": {
          "base_uri": "https://localhost:8080/"
        },
        "id": "pNf_zZc4Huhe",
        "outputId": "ca8ea9ac-29df-4c94-96dd-a5a3995a84cf"
      },
      "outputs": [],
      "source": [
        "df = pd.read_csv(\"output_train.csv\")\n",
        "num_samples = df.shape[0]\n",
        "df.shape"
      ]
    },
    {
      "cell_type": "code",
      "execution_count": 9,
      "metadata": {
        "colab": {
          "base_uri": "https://localhost:8080/"
        },
        "id": "GQ0lKujiHuhe",
        "outputId": "764fa6a6-aa11-4b10-a246-2534f9706fc4"
      },
      "outputs": [
        {
          "name": "stdout",
          "output_type": "stream",
          "text": [
            "2656\n"
          ]
        }
      ],
      "source": [
        "dataset = CapDataset(\"output_train_large.csv\")\n",
        "dataset_test = CapDataset(\"output_test_large.csv\")\n",
        "print(len(dataset))\n",
        "# train_set, validation_set = torch.utils.data.random_split(dataset,[((int)(0.9*num_samples)),num_samples - ((int)(0.9*num_samples))])\n",
        "train_loader = DataLoader(dataset=dataset, shuffle=True, batch_size=batch_size)\n",
        "test_loader = DataLoader(dataset=dataset_test, shuffle=True, batch_size=batch_size)"
      ]
    },
    {
      "cell_type": "code",
      "execution_count": 10,
      "metadata": {
        "colab": {
          "base_uri": "https://localhost:8080/",
          "height": 438
        },
        "id": "K47rajdAg-pw",
        "outputId": "dd8e5da0-48b0-4b9a-99b4-84a2249b6ce8"
      },
      "outputs": [
        {
          "name": "stderr",
          "output_type": "stream",
          "text": [
            "C:\\Users\\Asus\\AppData\\Local\\Temp\\ipykernel_7572\\43906973.py:10: FutureWarning: Series.__getitem__ treating keys as positions is deprecated. In a future version, integer keys will always be treated as labels (consistent with DataFrame behavior). To access a value by position, use `ser.iloc[pos]`\n",
            "  img_vec = torch.tensor(self.annotations.iloc[index, 1:], dtype=torch.float)\n",
            "C:\\Users\\Asus\\AppData\\Local\\Temp\\ipykernel_7572\\1362613775.py:7: UserWarning: The figure layout has changed to tight\n",
            "  plt.tight_layout()\n",
            "C:\\Users\\Asus\\AppData\\Local\\Temp\\ipykernel_7572\\1362613775.py:6: MatplotlibDeprecationWarning: Auto-removal of overlapping axes is deprecated since 3.6 and will be removed two minor releases later; explicitly call ax.remove() as needed.\n",
            "  plt.subplot(2,3,i+1)\n"
          ]
        },
        {
          "data": {
            "image/png": "[encoded data removed]",
            "text/plain": [
              "<Figure size 640x480 with 5 Axes>"
            ]
          },
          "metadata": {},
          "output_type": "display_data"
        }
      ],
      "source": [
        "examples = enumerate(train_loader)\n",
        "batch_idx, (example_data, example_targets) = next(examples)\n",
        "\n",
        "fig = plt.figure()\n",
        "for i in range(6):\n",
        "  plt.subplot(2,3,i+1)\n",
        "  plt.tight_layout()\n",
        "  plt.imshow(example_data[i][0], cmap='gray', interpolation='none')\n",
        "  plt.title(\"Ground Truth: {}\".format(example_targets[i]))\n",
        "  plt.xticks([])\n",
        "  plt.yticks([])"
      ]
    },
    {
      "cell_type": "code",
      "execution_count": 11,
      "metadata": {
        "id": "pHX_N9j0h2ws"
      },
      "outputs": [],
      "source": [
        "Half_width = 128\n",
        "layer_width = 128\n",
        "\n",
        "\n",
        "class SpinalVGG(nn.Module):\n",
        "\n",
        "    def two_conv_pool(self, in_channels, f1, f2):\n",
        "        s = nn.Sequential(\n",
        "            nn.Conv2d(in_channels, f1, kernel_size=3, stride=1, padding=1),\n",
        "            nn.BatchNorm2d(f1),\n",
        "            nn.ReLU(inplace=True),\n",
        "            nn.Conv2d(f1, f2, kernel_size=3, stride=1, padding=1),\n",
        "            nn.BatchNorm2d(f2),\n",
        "            nn.ReLU(inplace=True),\n",
        "            nn.MaxPool2d(kernel_size=2, stride=2),\n",
        "        )\n",
        "        for m in s.children():\n",
        "            if isinstance(m, nn.Conv2d):\n",
        "                n = m.kernel_size[0] * m.kernel_size[1] * m.out_channels\n",
        "                m.weight.data.normal_(0, math.sqrt(2. / n))\n",
        "            elif isinstance(m, nn.BatchNorm2d):\n",
        "                m.weight.data.fill_(1)\n",
        "                m.bias.data.zero_()\n",
        "        return s\n",
        "\n",
        "    def three_conv_pool(self, in_channels, f1, f2, f3):\n",
        "        s = nn.Sequential(\n",
        "            nn.Conv2d(in_channels, f1, kernel_size=3, stride=1, padding=1),\n",
        "            nn.BatchNorm2d(f1),\n",
        "            nn.ReLU(inplace=True),\n",
        "            nn.Conv2d(f1, f2, kernel_size=3, stride=1, padding=1),\n",
        "            nn.BatchNorm2d(f2),\n",
        "            nn.ReLU(inplace=True),\n",
        "            nn.Conv2d(f2, f3, kernel_size=3, stride=1, padding=1),\n",
        "            nn.BatchNorm2d(f3),\n",
        "            nn.ReLU(inplace=True),\n",
        "            nn.MaxPool2d(kernel_size=2, stride=2),\n",
        "        )\n",
        "        for m in s.children():\n",
        "            if isinstance(m, nn.Conv2d):\n",
        "                n = m.kernel_size[0] * m.kernel_size[1] * m.out_channels\n",
        "                m.weight.data.normal_(0, math.sqrt(2. / n))\n",
        "            elif isinstance(m, nn.BatchNorm2d):\n",
        "                m.weight.data.fill_(1)\n",
        "                m.bias.data.zero_()\n",
        "        return s\n",
        "\n",
        "    def __init__(self, num_classes=2):\n",
        "        super(SpinalVGG, self).__init__()\n",
        "        self.l1 = self.two_conv_pool(1, 64, 64)\n",
        "        self.l2 = self.two_conv_pool(64, 128, 128)\n",
        "        self.l3 = self.three_conv_pool(128, 256, 256, 256)\n",
        "        self.l4 = self.three_conv_pool(256, 256, 256, 256)\n",
        "\n",
        "        self.fc_spinal_layer1 = nn.Sequential(\n",
        "            nn.Dropout(p=0.5), nn.Linear(Half_width, layer_width),\n",
        "            nn.BatchNorm1d(layer_width), nn.ReLU(inplace=True),)\n",
        "        self.fc_spinal_layer2 = nn.Sequential(\n",
        "            nn.Dropout(p=0.5), nn.Linear(Half_width+layer_width, layer_width),\n",
        "            nn.BatchNorm1d(layer_width), nn.ReLU(inplace=True),)\n",
        "        self.fc_spinal_layer3 = nn.Sequential(\n",
        "            nn.Dropout(p=0.5), nn.Linear(Half_width+layer_width, layer_width),\n",
        "            nn.BatchNorm1d(layer_width), nn.ReLU(inplace=True),)\n",
        "        self.fc_spinal_layer4 = nn.Sequential(\n",
        "            nn.Dropout(p=0.5), nn.Linear(Half_width+layer_width, layer_width),\n",
        "            nn.BatchNorm1d(layer_width), nn.ReLU(inplace=True),)\n",
        "        self.fc_out = nn.Sequential(\n",
        "            nn.Dropout(p=0.5), nn.Linear(layer_width*4, num_classes),)\n",
        "\n",
        "    def forward(self, x):\n",
        "        x = self.l1(x)\n",
        "        x = self.l2(x)\n",
        "        x = self.l3(x)\n",
        "        x = self.l4(x)\n",
        "        x = x.view(x.size(0), -1)\n",
        "\n",
        "        x1 = self.fc_spinal_layer1(x[:, 0:Half_width])\n",
        "        x2 = self.fc_spinal_layer2(\n",
        "            torch.cat([x[:, Half_width:2*Half_width], x1], dim=1))\n",
        "        x3 = self.fc_spinal_layer3(torch.cat([x[:, 0:Half_width], x2], dim=1))\n",
        "        x4 = self.fc_spinal_layer4(\n",
        "            torch.cat([x[:, Half_width:2*Half_width], x3], dim=1))\n",
        "\n",
        "        x = torch.cat([x1, x2], dim=1)\n",
        "        x = torch.cat([x, x3], dim=1)\n",
        "        x = torch.cat([x, x4], dim=1)\n",
        "\n",
        "        x = self.fc_out(x)\n",
        "\n",
        "        return F.log_softmax(x, dim=1)\n"
      ]
    },
    {
      "cell_type": "code",
      "execution_count": 12,
      "metadata": {
        "id": "_CWzt-_QiQ4r"
      },
      "outputs": [],
      "source": [
        "def update_lr(optimizer, lr):\n",
        "    for param_group in optimizer.param_groups:\n",
        "        param_group['lr'] = lr\n",
        "\n",
        "# Train the model\n",
        "total_step = len(train_loader)\n",
        "curr_lr1 = learning_rate"
      ]
    },
    {
      "cell_type": "code",
      "execution_count": 13,
      "metadata": {
        "id": "f947oF4iiSO1"
      },
      "outputs": [],
      "source": [
        "model1 = SpinalVGG().to(device)\n",
        "# model1.load_state_dict(torch.load(\"WEIGHT\\\\model.h5\"))"
      ]
    },
    {
      "cell_type": "code",
      "execution_count": 14,
      "metadata": {
        "id": "8cLHkShEiXlb"
      },
      "outputs": [],
      "source": [
        "criterion = nn.CrossEntropyLoss()\n",
        "optimizer1 = torch.optim.Adam(model1.parameters(), lr=learning_rate)"
      ]
    },
    {
      "cell_type": "code",
      "execution_count": 15,
      "metadata": {
        "id": "sTirt1u5iow7"
      },
      "outputs": [],
      "source": [
        "from tqdm import tqdm"
      ]
    },
    {
      "cell_type": "code",
      "execution_count": 16,
      "metadata": {
        "colab": {
          "base_uri": "https://localhost:8080/",
          "height": 632,
          "referenced_widgets": [
            "11ac08e090454a4e82ff9a915e375082",
            "c528ccf0c3c04ad0b76fcb74d2cf0f5e",
            "dfca444753214a7f9def7f857b8e1b17",
            "2f44a59a68bd4dd093b91082796e4884",
            "76dbfdb2e21c4bc48a279995f6300886",
            "4432bad7ee584743accdadc09771d212",
            "41c516323d3d47288242ff82a5d8e21a",
            "5ca78c31788b4580b92e83e0fa02eac4",
            "21a2355a1b8f4619b92f49debdf2e8c0",
            "de649be7dcf94ce5878664a94f99eead",
            "7e75f08f847e42c8b4af87146e43907c",
            "75e7410b0abd45ee9bb097172a792e90",
            "b0ae28d55e0646eaabb69dfd24cf0a14",
            "3158a0f9f06942b08d144a5bcc4fa846",
            "81b5151e02cd4998bfb02bff7a84674f",
            "076f61be78984460b7737f4e0d0d1413",
            "58a4414cec784bdfba552acd689b0005",
            "92d55c3072434c27af4c7dbd2afaa975",
            "444b991e836e488d9c45f918c2ba2934",
            "161ea520a7f840aba3d683903e9ec457",
            "9ef3e4e822334bc1996a559703d49321",
            "37b188628c89408e925b59b359bc6084",
            "54f11f073b1d47db85ca65867fa40831",
            "4d76586a56da4968a6f96b7504b7b24c",
            "3c65a701c4fe4547ade8f114a35a7627",
            "4033bb7daf034e32b9faa9fadf23f2b2",
            "37c8502267c5482485d44af361fcd61b",
            "d5fb2ab030814d309bd98fb0452c9c4a",
            "2315c45d3c9c4a15b2cebfef46041208",
            "ff98afe7f8d14a869ed566da7802984b",
            "72006944b12e4cc888d6ef921cdaa0a4",
            "b46847621334413fa827242a3394de81",
            "950cde7733c94c11b89cb254f88a00bd",
            "19c34e2025f2468aba951da12275ff55",
            "ec9becf5f2f64bba92775185bfe0b8db",
            "91c94e0eb5784f06b7774bc6a6f514f7",
            "46f039fc9b654964be1ea1e23a7c629b",
            "ddb099de98ce4083b80e45570bc67432",
            "0e98dd86d7334e41926545aac3756d09",
            "c090b39807014949a3638c99db67a8e8",
            "6894f97793e747e5a87b347146c06f7b",
            "a40ba787290f4169b43fc8558ddbb94d",
            "5782247564644008ac331789b9cb2eea",
            "f06c11f797694368bc800ed5dd690c20",
            "d1d972f12de547bd86e292433df0727b",
            "be735b40dd574bc5947b56f590a59205",
            "11c669350194464c84e06cf266b60b90",
            "677e18abf5114e49944f64cca1998bb2",
            "13387f3928994ac6beafeaef3a68331d",
            "63ce5b968bf94f3f855144b536a15c04",
            "70be4cfb6a95402e92e3faaeddd45e1b",
            "8dab7857345e483aab46e487c6f098bc",
            "4860930bf6484633990c384d8209daff",
            "d28b3904129642c789b78426dc644522",
            "dc7b4c39a2df4bcfa3801095344f3679",
            "e82a345c65734ca09307857608259298",
            "016fdeae011a4317b2dffc976755eb40",
            "041650f499db45de812b15b13311524b",
            "da7ab8f3f24142149f897fb09d6aeadc",
            "2a14a8c2f4584b36b5f47bbcab28cfbd",
            "b0f9bf55ee2e47728d5548da14623160",
            "3587c1b973fd474e95ec49e0e4287f01",
            "0808c743c35349f29b7b82a5c533f9d9",
            "c489a490d48042b98936ea39f2da1b54",
            "5c81142f56804ced80059d181429c9f0",
            "b970b33f76dd480ab70168c1ade888a3",
            "51246acf2e8c441fae0f2b24c080e8af",
            "5e7dba4b390a4d3ea122fb9c6b59fea0",
            "aa346d54e53c461e9ad8402b1f312ac5",
            "b4db0d58b4a449d1989961639d6ff9d3",
            "931fc0c35fbd4175a01475a96554f50b",
            "4e24ab7154d942a79f0d600bbc581d9b",
            "36ff38e04e1c43c6b923969b6323ec0c",
            "7f8a4905c58242e98f1c18a512044173",
            "3f04fdd498dd4fdf937f8372762fb6cd",
            "6ea4882317b645e2b24f870aca8bb25e",
            "be279e8943af42198e1cb5d91cce2819",
            "2877e649708a4c1eb61b0c9750e1a081",
            "2a651b1ff94f4539899f9362928c794b",
            "c65779dd435c498a88bf6943361b9fd0",
            "b8082d9e2e4b4beabf9e37510c736eb8",
            "e65e99661c764c7c950302cbaa4e357f",
            "356a7903bda94a41801c1a6b75d05ccf",
            "03f176d797eb4d4db8f80e48b1e452a8",
            "954ce19737914847a346763b72092e5a",
            "86b787d8236d4bd09eb4be5de2b8637b",
            "d9d3b9b6212a4a6a99a051e329eef764",
            "7ef4bdc7d93e4a22ae219460b05d01f4",
            "cbddb459762b40d8bc5afcf5bbfe30bb",
            "a07fae883bd74692b154e2bc666d2dd3",
            "4eac7dfa5cd94cb4a28fefb45b83c4a2",
            "5948cfaabad54ff1a8a559aaba8d7af6",
            "47df2e7b6e914639a97a5be59feb6913",
            "9e2ec12c970c428a9149d281c1c0a005",
            "8c1a2221cd894a82909349ff4ffd45d5",
            "b169cd2b92514963bb8d5cc079fa51d2",
            "12be6b89f3a0483481a8dae7285827eb",
            "ef895acdda814bd987741c3110c94fc3",
            "07ca51df0f1f419086c7dab250d67e45",
            "31d7c17b57b74775bb55c8ee80f43e93",
            "f2fdd402727d4c07ae1a144fd28ef6d0",
            "b051ecfafb9d4e2f896430dec206c24b",
            "01d6987737db40d6a70db199cd161fe3",
            "55ef53c126954d5ebe9e732fad44cc7f",
            "277fd7db78724bea9ea50a6467d39879",
            "7401704a6976486da0905f269e663b69",
            "bd1e0876ec824e82b916ca457554c514",
            "7aa309698e984b52bc7b391e32b61c16",
            "c98bc4230bd6477880984bf4c168efd9",
            "e7dbce0fc4c54404ace04dff09cb7428"
          ]
        },
        "id": "dEsdoc3tiaQ7",
        "outputId": "dd442f5c-3922-49f0-ecc0-bd3efc90c0f0"
      },
      "outputs": [
        {
          "name": "stderr",
          "output_type": "stream",
          "text": [
            "  0%|          | 0/300 [00:00<?, ?it/s]C:\\Users\\Asus\\AppData\\Local\\Temp\\ipykernel_7572\\43906973.py:10: FutureWarning: Series.__getitem__ treating keys as positions is deprecated. In a future version, integer keys will always be treated as labels (consistent with DataFrame behavior). To access a value by position, use `ser.iloc[pos]`\n",
            "  img_vec = torch.tensor(self.annotations.iloc[index, 1:], dtype=torch.float)\n"
          ]
        },
        {
          "name": "stdout",
          "output_type": "stream",
          "text": [
            "Ordinary Epoch [1/300], Step [1/83] Loss: 0.8319\n"
          ]
        },
        {
          "name": "stderr",
          "output_type": "stream",
          "text": [
            "83it [00:44,  1.88it/s]\n",
            "  0%|          | 1/300 [00:53<4:28:24, 53.86s/it]"
          ]
        },
        {
          "name": "stdout",
          "output_type": "stream",
          "text": [
            "Test Accuracy of NN: 53.31325301204819 % (improvement)\n"
          ]
        },
        {
          "name": "stderr",
          "output_type": "stream",
          "text": []
        },
        {
          "name": "stdout",
          "output_type": "stream",
          "text": [
            "Ordinary Epoch [2/300], Step [1/83] Loss: 0.5420\n"
          ]
        },
        {
          "name": "stderr",
          "output_type": "stream",
          "text": [
            "83it [00:44,  1.86it/s]\n",
            "  1%|          | 2/300 [01:49<4:31:47, 54.72s/it]"
          ]
        },
        {
          "name": "stdout",
          "output_type": "stream",
          "text": [
            "Test Accuracy of NN: 53.91566265060241 % (improvement)\n"
          ]
        },
        {
          "name": "stderr",
          "output_type": "stream",
          "text": []
        },
        {
          "name": "stdout",
          "output_type": "stream",
          "text": [
            "Ordinary Epoch [3/300], Step [1/83] Loss: 0.8001\n"
          ]
        },
        {
          "name": "stderr",
          "output_type": "stream",
          "text": [
            "83it [00:48,  1.73it/s]\n",
            "  1%|          | 3/300 [02:48<4:41:33, 56.88s/it]"
          ]
        },
        {
          "name": "stdout",
          "output_type": "stream",
          "text": [
            "Test Accuracy of NN: 62.80120481927711 % (improvement)\n"
          ]
        },
        {
          "name": "stderr",
          "output_type": "stream",
          "text": []
        },
        {
          "name": "stdout",
          "output_type": "stream",
          "text": [
            "Ordinary Epoch [4/300], Step [1/83] Loss: 0.5778\n"
          ]
        },
        {
          "name": "stderr",
          "output_type": "stream",
          "text": [
            "83it [00:56,  1.48it/s]\n",
            "  1%|▏         | 4/300 [03:55<5:00:53, 60.99s/it]"
          ]
        },
        {
          "name": "stdout",
          "output_type": "stream",
          "text": [
            "Test Accuracy of NN: 57.53012048192771 % Best: 62.80120481927711 %\n"
          ]
        },
        {
          "name": "stderr",
          "output_type": "stream",
          "text": []
        },
        {
          "name": "stdout",
          "output_type": "stream",
          "text": [
            "Ordinary Epoch [5/300], Step [1/83] Loss: 0.5744\n"
          ]
        },
        {
          "name": "stderr",
          "output_type": "stream",
          "text": [
            "83it [00:45,  1.84it/s]\n",
            "  2%|▏         | 5/300 [04:52<4:51:26, 59.27s/it]"
          ]
        },
        {
          "name": "stdout",
          "output_type": "stream",
          "text": [
            "Test Accuracy of NN: 86.89759036144578 % (improvement)\n"
          ]
        },
        {
          "name": "stderr",
          "output_type": "stream",
          "text": []
        },
        {
          "name": "stdout",
          "output_type": "stream",
          "text": [
            "Ordinary Epoch [6/300], Step [1/83] Loss: 0.3555\n"
          ]
        },
        {
          "name": "stderr",
          "output_type": "stream",
          "text": [
            "83it [00:44,  1.87it/s]\n",
            "  2%|▏         | 6/300 [05:47<4:44:02, 57.97s/it]"
          ]
        },
        {
          "name": "stdout",
          "output_type": "stream",
          "text": [
            "Test Accuracy of NN: 85.5421686746988 % Best: 86.8975903614458 %\n"
          ]
        },
        {
          "name": "stderr",
          "output_type": "stream",
          "text": []
        },
        {
          "name": "stdout",
          "output_type": "stream",
          "text": [
            "Ordinary Epoch [7/300], Step [1/83] Loss: 0.5304\n"
          ]
        },
        {
          "name": "stderr",
          "output_type": "stream",
          "text": [
            "83it [00:46,  1.77it/s]\n",
            "  2%|▏         | 7/300 [06:48<4:47:22, 58.85s/it]"
          ]
        },
        {
          "name": "stdout",
          "output_type": "stream",
          "text": [
            "Test Accuracy of NN: 88.855421686747 % (improvement)\n"
          ]
        },
        {
          "name": "stderr",
          "output_type": "stream",
          "text": []
        },
        {
          "name": "stdout",
          "output_type": "stream",
          "text": [
            "Ordinary Epoch [8/300], Step [1/83] Loss: 0.2527\n"
          ]
        },
        {
          "name": "stderr",
          "output_type": "stream",
          "text": [
            "83it [00:46,  1.78it/s]\n",
            "  3%|▎         | 8/300 [07:46<4:44:49, 58.53s/it]"
          ]
        },
        {
          "name": "stdout",
          "output_type": "stream",
          "text": [
            "Test Accuracy of NN: 70.48192771084338 % Best: 88.85542168674698 %\n"
          ]
        },
        {
          "name": "stderr",
          "output_type": "stream",
          "text": []
        },
        {
          "name": "stdout",
          "output_type": "stream",
          "text": [
            "Ordinary Epoch [9/300], Step [1/83] Loss: 0.2899\n"
          ]
        },
        {
          "name": "stderr",
          "output_type": "stream",
          "text": [
            "83it [00:44,  1.87it/s]\n",
            "  3%|▎         | 9/300 [08:41<4:39:24, 57.61s/it]"
          ]
        },
        {
          "name": "stdout",
          "output_type": "stream",
          "text": [
            "Test Accuracy of NN: 87.8012048192771 % Best: 88.85542168674698 %\n"
          ]
        },
        {
          "name": "stderr",
          "output_type": "stream",
          "text": []
        },
        {
          "name": "stdout",
          "output_type": "stream",
          "text": [
            "Ordinary Epoch [10/300], Step [1/83] Loss: 0.3741\n"
          ]
        },
        {
          "name": "stderr",
          "output_type": "stream",
          "text": [
            "83it [00:49,  1.67it/s]\n",
            "  3%|▎         | 10/300 [09:42<4:42:57, 58.54s/it]"
          ]
        },
        {
          "name": "stdout",
          "output_type": "stream",
          "text": [
            "Test Accuracy of NN: 53.31325301204819 % Best: 88.85542168674698 %\n"
          ]
        },
        {
          "name": "stderr",
          "output_type": "stream",
          "text": []
        },
        {
          "name": "stdout",
          "output_type": "stream",
          "text": [
            "Ordinary Epoch [11/300], Step [1/83] Loss: 0.5470\n"
          ]
        },
        {
          "name": "stderr",
          "output_type": "stream",
          "text": [
            "83it [00:44,  1.87it/s]\n",
            "  4%|▎         | 11/300 [10:39<4:40:00, 58.13s/it]"
          ]
        },
        {
          "name": "stdout",
          "output_type": "stream",
          "text": [
            "Test Accuracy of NN: 74.39759036144578 % Best: 88.85542168674698 %\n"
          ]
        },
        {
          "name": "stderr",
          "output_type": "stream",
          "text": []
        },
        {
          "name": "stdout",
          "output_type": "stream",
          "text": [
            "Ordinary Epoch [12/300], Step [1/83] Loss: 0.5196\n"
          ]
        },
        {
          "name": "stderr",
          "output_type": "stream",
          "text": [
            "83it [00:46,  1.78it/s]\n",
            "  4%|▍         | 12/300 [11:38<4:40:39, 58.47s/it]"
          ]
        },
        {
          "name": "stdout",
          "output_type": "stream",
          "text": [
            "Test Accuracy of NN: 83.13253012048193 % Best: 88.85542168674698 %\n"
          ]
        },
        {
          "name": "stderr",
          "output_type": "stream",
          "text": []
        },
        {
          "name": "stdout",
          "output_type": "stream",
          "text": [
            "Ordinary Epoch [13/300], Step [1/83] Loss: 0.2936\n"
          ]
        },
        {
          "name": "stderr",
          "output_type": "stream",
          "text": [
            "83it [00:46,  1.80it/s]\n",
            "  4%|▍         | 13/300 [12:36<4:38:20, 58.19s/it]"
          ]
        },
        {
          "name": "stdout",
          "output_type": "stream",
          "text": [
            "Test Accuracy of NN: 90.66265060240964 % (improvement)\n"
          ]
        },
        {
          "name": "stderr",
          "output_type": "stream",
          "text": []
        },
        {
          "name": "stdout",
          "output_type": "stream",
          "text": [
            "Ordinary Epoch [14/300], Step [1/83] Loss: 0.1821\n"
          ]
        },
        {
          "name": "stderr",
          "output_type": "stream",
          "text": [
            "83it [00:45,  1.83it/s]\n",
            "  5%|▍         | 14/300 [13:32<4:35:02, 57.70s/it]"
          ]
        },
        {
          "name": "stdout",
          "output_type": "stream",
          "text": [
            "Test Accuracy of NN: 53.16265060240964 % Best: 90.66265060240963 %\n"
          ]
        },
        {
          "name": "stderr",
          "output_type": "stream",
          "text": []
        },
        {
          "name": "stdout",
          "output_type": "stream",
          "text": [
            "Ordinary Epoch [15/300], Step [1/83] Loss: 0.4481\n"
          ]
        },
        {
          "name": "stderr",
          "output_type": "stream",
          "text": [
            "83it [00:43,  1.89it/s]\n",
            "  5%|▌         | 15/300 [14:28<4:30:26, 56.93s/it]"
          ]
        },
        {
          "name": "stdout",
          "output_type": "stream",
          "text": [
            "Test Accuracy of NN: 57.68072289156626 % Best: 90.66265060240963 %\n"
          ]
        },
        {
          "name": "stderr",
          "output_type": "stream",
          "text": []
        },
        {
          "name": "stdout",
          "output_type": "stream",
          "text": [
            "Ordinary Epoch [16/300], Step [1/83] Loss: 0.2759\n"
          ]
        },
        {
          "name": "stderr",
          "output_type": "stream",
          "text": [
            "83it [00:46,  1.78it/s]\n",
            "  5%|▌         | 16/300 [15:28<4:34:08, 57.92s/it]"
          ]
        },
        {
          "name": "stdout",
          "output_type": "stream",
          "text": [
            "Test Accuracy of NN: 91.56626506024097 % (improvement)\n"
          ]
        },
        {
          "name": "stderr",
          "output_type": "stream",
          "text": []
        },
        {
          "name": "stdout",
          "output_type": "stream",
          "text": [
            "Ordinary Epoch [17/300], Step [1/83] Loss: 0.1799\n"
          ]
        },
        {
          "name": "stderr",
          "output_type": "stream",
          "text": [
            "83it [00:49,  1.69it/s]\n",
            "  6%|▌         | 17/300 [16:29<4:38:03, 58.95s/it]"
          ]
        },
        {
          "name": "stdout",
          "output_type": "stream",
          "text": [
            "Test Accuracy of NN: 85.24096385542168 % Best: 91.56626506024097 %\n"
          ]
        },
        {
          "name": "stderr",
          "output_type": "stream",
          "text": []
        },
        {
          "name": "stdout",
          "output_type": "stream",
          "text": [
            "Ordinary Epoch [18/300], Step [1/83] Loss: 0.1732\n"
          ]
        },
        {
          "name": "stderr",
          "output_type": "stream",
          "text": [
            "83it [00:48,  1.72it/s]\n",
            "  6%|▌         | 18/300 [17:30<4:39:35, 59.49s/it]"
          ]
        },
        {
          "name": "stdout",
          "output_type": "stream",
          "text": [
            "Test Accuracy of NN: 83.58433734939759 % Best: 91.56626506024097 %\n"
          ]
        },
        {
          "name": "stderr",
          "output_type": "stream",
          "text": []
        },
        {
          "name": "stdout",
          "output_type": "stream",
          "text": [
            "Ordinary Epoch [19/300], Step [1/83] Loss: 0.3423\n"
          ]
        },
        {
          "name": "stderr",
          "output_type": "stream",
          "text": [
            "83it [00:50,  1.65it/s]\n",
            "  6%|▋         | 19/300 [18:32<4:42:55, 60.41s/it]"
          ]
        },
        {
          "name": "stdout",
          "output_type": "stream",
          "text": [
            "Test Accuracy of NN: 50.75301204819277 % Best: 91.56626506024097 %\n"
          ]
        },
        {
          "name": "stderr",
          "output_type": "stream",
          "text": []
        },
        {
          "name": "stdout",
          "output_type": "stream",
          "text": [
            "Ordinary Epoch [20/300], Step [1/83] Loss: 0.4260\n"
          ]
        },
        {
          "name": "stderr",
          "output_type": "stream",
          "text": [
            "83it [00:48,  1.73it/s]\n",
            "  7%|▋         | 20/300 [19:33<4:41:41, 60.36s/it]"
          ]
        },
        {
          "name": "stdout",
          "output_type": "stream",
          "text": [
            "Test Accuracy of NN: 92.62048192771084 % (improvement)\n"
          ]
        },
        {
          "name": "stderr",
          "output_type": "stream",
          "text": []
        },
        {
          "name": "stdout",
          "output_type": "stream",
          "text": [
            "Ordinary Epoch [21/300], Step [1/83] Loss: 0.1562\n"
          ]
        },
        {
          "name": "stderr",
          "output_type": "stream",
          "text": [
            "83it [00:50,  1.64it/s]\n",
            "  7%|▋         | 21/300 [20:35<4:43:50, 61.04s/it]"
          ]
        },
        {
          "name": "stdout",
          "output_type": "stream",
          "text": [
            "Test Accuracy of NN: 50.45180722891566 % Best: 92.62048192771084 %\n"
          ]
        },
        {
          "name": "stderr",
          "output_type": "stream",
          "text": []
        },
        {
          "name": "stdout",
          "output_type": "stream",
          "text": [
            "Ordinary Epoch [22/300], Step [1/83] Loss: 0.2578\n"
          ]
        },
        {
          "name": "stderr",
          "output_type": "stream",
          "text": [
            "83it [00:47,  1.75it/s]\n",
            "  7%|▋         | 22/300 [21:35<4:40:20, 60.50s/it]"
          ]
        },
        {
          "name": "stdout",
          "output_type": "stream",
          "text": [
            "Test Accuracy of NN: 92.31927710843374 % Best: 92.62048192771084 %\n"
          ]
        },
        {
          "name": "stderr",
          "output_type": "stream",
          "text": []
        },
        {
          "name": "stdout",
          "output_type": "stream",
          "text": [
            "Ordinary Epoch [23/300], Step [1/83] Loss: 0.2746\n"
          ]
        },
        {
          "name": "stderr",
          "output_type": "stream",
          "text": [
            "83it [00:51,  1.63it/s]\n",
            "  8%|▊         | 23/300 [22:38<4:43:31, 61.41s/it]"
          ]
        },
        {
          "name": "stdout",
          "output_type": "stream",
          "text": [
            "Test Accuracy of NN: 83.8855421686747 % Best: 92.62048192771084 %\n"
          ]
        },
        {
          "name": "stderr",
          "output_type": "stream",
          "text": []
        },
        {
          "name": "stdout",
          "output_type": "stream",
          "text": [
            "Ordinary Epoch [24/300], Step [1/83] Loss: 0.2357\n"
          ]
        },
        {
          "name": "stderr",
          "output_type": "stream",
          "text": [
            "83it [00:52,  1.59it/s]\n",
            "  8%|▊         | 24/300 [23:43<4:47:35, 62.52s/it]"
          ]
        },
        {
          "name": "stdout",
          "output_type": "stream",
          "text": [
            "Test Accuracy of NN: 92.62048192771084 % Best: 92.62048192771084 %\n"
          ]
        },
        {
          "name": "stderr",
          "output_type": "stream",
          "text": []
        },
        {
          "name": "stdout",
          "output_type": "stream",
          "text": [
            "Ordinary Epoch [25/300], Step [1/83] Loss: 0.1321\n"
          ]
        },
        {
          "name": "stderr",
          "output_type": "stream",
          "text": [
            "83it [00:48,  1.71it/s]\n",
            "  8%|▊         | 25/300 [24:44<4:43:41, 61.89s/it]"
          ]
        },
        {
          "name": "stdout",
          "output_type": "stream",
          "text": [
            "Test Accuracy of NN: 63.704819277108435 % Best: 92.62048192771084 %\n"
          ]
        },
        {
          "name": "stderr",
          "output_type": "stream",
          "text": []
        },
        {
          "name": "stdout",
          "output_type": "stream",
          "text": [
            "Ordinary Epoch [26/300], Step [1/83] Loss: 0.2940\n"
          ]
        },
        {
          "name": "stderr",
          "output_type": "stream",
          "text": [
            "83it [00:50,  1.65it/s]\n",
            "  9%|▊         | 26/300 [25:47<4:44:50, 62.37s/it]"
          ]
        },
        {
          "name": "stdout",
          "output_type": "stream",
          "text": [
            "Test Accuracy of NN: 93.07228915662651 % (improvement)\n"
          ]
        },
        {
          "name": "stderr",
          "output_type": "stream",
          "text": []
        },
        {
          "name": "stdout",
          "output_type": "stream",
          "text": [
            "Ordinary Epoch [27/300], Step [1/83] Loss: 0.1327\n"
          ]
        },
        {
          "name": "stderr",
          "output_type": "stream",
          "text": [
            "83it [00:49,  1.69it/s]\n",
            "  9%|▉         | 27/300 [26:48<4:42:00, 61.98s/it]"
          ]
        },
        {
          "name": "stdout",
          "output_type": "stream",
          "text": [
            "Test Accuracy of NN: 72.28915662650603 % Best: 93.07228915662651 %\n"
          ]
        },
        {
          "name": "stderr",
          "output_type": "stream",
          "text": []
        },
        {
          "name": "stdout",
          "output_type": "stream",
          "text": [
            "Ordinary Epoch [28/300], Step [1/83] Loss: 0.2903\n"
          ]
        },
        {
          "name": "stderr",
          "output_type": "stream",
          "text": [
            "83it [00:49,  1.68it/s]\n",
            "  9%|▉         | 28/300 [27:49<4:40:04, 61.78s/it]"
          ]
        },
        {
          "name": "stdout",
          "output_type": "stream",
          "text": [
            "Test Accuracy of NN: 93.82530120481928 % (improvement)\n"
          ]
        },
        {
          "name": "stderr",
          "output_type": "stream",
          "text": []
        },
        {
          "name": "stdout",
          "output_type": "stream",
          "text": [
            "Ordinary Epoch [29/300], Step [1/83] Loss: 0.1281\n"
          ]
        },
        {
          "name": "stderr",
          "output_type": "stream",
          "text": [
            "83it [00:49,  1.69it/s]\n",
            " 10%|▉         | 29/300 [28:51<4:38:04, 61.57s/it]"
          ]
        },
        {
          "name": "stdout",
          "output_type": "stream",
          "text": [
            "Test Accuracy of NN: 64.60843373493977 % Best: 93.82530120481928 %\n"
          ]
        },
        {
          "name": "stderr",
          "output_type": "stream",
          "text": []
        },
        {
          "name": "stdout",
          "output_type": "stream",
          "text": [
            "Ordinary Epoch [30/300], Step [1/83] Loss: 0.4200\n"
          ]
        },
        {
          "name": "stderr",
          "output_type": "stream",
          "text": [
            "83it [00:49,  1.66it/s]\n",
            " 10%|█         | 30/300 [29:52<4:37:15, 61.61s/it]"
          ]
        },
        {
          "name": "stdout",
          "output_type": "stream",
          "text": [
            "Test Accuracy of NN: 94.12650602409639 % (improvement)\n"
          ]
        },
        {
          "name": "stderr",
          "output_type": "stream",
          "text": []
        },
        {
          "name": "stdout",
          "output_type": "stream",
          "text": [
            "Ordinary Epoch [31/300], Step [1/83] Loss: 0.2062\n"
          ]
        },
        {
          "name": "stderr",
          "output_type": "stream",
          "text": [
            "83it [00:46,  1.79it/s]\n",
            " 10%|█         | 31/300 [30:51<4:31:53, 60.65s/it]"
          ]
        },
        {
          "name": "stdout",
          "output_type": "stream",
          "text": [
            "Test Accuracy of NN: 94.42771084337349 % (improvement)\n"
          ]
        },
        {
          "name": "stderr",
          "output_type": "stream",
          "text": []
        },
        {
          "name": "stdout",
          "output_type": "stream",
          "text": [
            "Ordinary Epoch [32/300], Step [1/83] Loss: 0.3533\n"
          ]
        },
        {
          "name": "stderr",
          "output_type": "stream",
          "text": [
            "83it [00:47,  1.74it/s]\n",
            " 11%|█         | 32/300 [31:50<4:29:32, 60.34s/it]"
          ]
        },
        {
          "name": "stdout",
          "output_type": "stream",
          "text": [
            "Test Accuracy of NN: 93.07228915662651 % Best: 94.42771084337349 %\n"
          ]
        },
        {
          "name": "stderr",
          "output_type": "stream",
          "text": []
        },
        {
          "name": "stdout",
          "output_type": "stream",
          "text": [
            "Ordinary Epoch [33/300], Step [1/83] Loss: 0.1560\n"
          ]
        },
        {
          "name": "stderr",
          "output_type": "stream",
          "text": [
            "83it [00:49,  1.67it/s]\n",
            " 11%|█         | 33/300 [32:52<4:29:45, 60.62s/it]"
          ]
        },
        {
          "name": "stdout",
          "output_type": "stream",
          "text": [
            "Test Accuracy of NN: 88.25301204819277 % Best: 94.42771084337349 %\n"
          ]
        },
        {
          "name": "stderr",
          "output_type": "stream",
          "text": []
        },
        {
          "name": "stdout",
          "output_type": "stream",
          "text": [
            "Ordinary Epoch [34/300], Step [1/83] Loss: 0.2889\n"
          ]
        },
        {
          "name": "stderr",
          "output_type": "stream",
          "text": [
            "83it [00:49,  1.69it/s]\n",
            " 11%|█▏        | 34/300 [33:54<4:30:32, 61.02s/it]"
          ]
        },
        {
          "name": "stdout",
          "output_type": "stream",
          "text": [
            "Test Accuracy of NN: 47.89156626506024 % Best: 94.42771084337349 %\n"
          ]
        },
        {
          "name": "stderr",
          "output_type": "stream",
          "text": []
        },
        {
          "name": "stdout",
          "output_type": "stream",
          "text": [
            "Ordinary Epoch [35/300], Step [1/83] Loss: 0.1786\n"
          ]
        },
        {
          "name": "stderr",
          "output_type": "stream",
          "text": [
            "83it [00:50,  1.63it/s]\n",
            " 12%|█▏        | 35/300 [34:57<4:33:05, 61.83s/it]"
          ]
        },
        {
          "name": "stdout",
          "output_type": "stream",
          "text": [
            "Test Accuracy of NN: 93.97590361445783 % Best: 94.42771084337349 %\n"
          ]
        },
        {
          "name": "stderr",
          "output_type": "stream",
          "text": []
        },
        {
          "name": "stdout",
          "output_type": "stream",
          "text": [
            "Ordinary Epoch [36/300], Step [1/83] Loss: 0.2393\n"
          ]
        },
        {
          "name": "stderr",
          "output_type": "stream",
          "text": [
            "83it [00:51,  1.61it/s]\n",
            " 12%|█▏        | 36/300 [36:02<4:35:42, 62.66s/it]"
          ]
        },
        {
          "name": "stdout",
          "output_type": "stream",
          "text": [
            "Test Accuracy of NN: 94.27710843373494 % Best: 94.42771084337349 %\n"
          ]
        },
        {
          "name": "stderr",
          "output_type": "stream",
          "text": []
        },
        {
          "name": "stdout",
          "output_type": "stream",
          "text": [
            "Ordinary Epoch [37/300], Step [1/83] Loss: 0.4746\n"
          ]
        },
        {
          "name": "stderr",
          "output_type": "stream",
          "text": [
            "83it [00:52,  1.59it/s]\n",
            " 12%|█▏        | 37/300 [37:07<4:37:56, 63.41s/it]"
          ]
        },
        {
          "name": "stdout",
          "output_type": "stream",
          "text": [
            "Test Accuracy of NN: 59.33734939759036 % Best: 94.42771084337349 %\n"
          ]
        },
        {
          "name": "stderr",
          "output_type": "stream",
          "text": []
        },
        {
          "name": "stdout",
          "output_type": "stream",
          "text": [
            "Ordinary Epoch [38/300], Step [1/83] Loss: 0.1289\n"
          ]
        },
        {
          "name": "stderr",
          "output_type": "stream",
          "text": [
            "83it [00:50,  1.64it/s]\n",
            " 13%|█▎        | 38/300 [38:09<4:35:27, 63.08s/it]"
          ]
        },
        {
          "name": "stdout",
          "output_type": "stream",
          "text": [
            "Test Accuracy of NN: 93.07228915662651 % Best: 94.42771084337349 %\n"
          ]
        },
        {
          "name": "stderr",
          "output_type": "stream",
          "text": []
        },
        {
          "name": "stdout",
          "output_type": "stream",
          "text": [
            "Ordinary Epoch [39/300], Step [1/83] Loss: 0.1185\n"
          ]
        },
        {
          "name": "stderr",
          "output_type": "stream",
          "text": [
            "83it [00:52,  1.58it/s]\n",
            " 13%|█▎        | 39/300 [39:13<4:35:28, 63.33s/it]"
          ]
        },
        {
          "name": "stdout",
          "output_type": "stream",
          "text": [
            "Test Accuracy of NN: 47.28915662650602 % Best: 94.42771084337349 %\n"
          ]
        },
        {
          "name": "stderr",
          "output_type": "stream",
          "text": []
        },
        {
          "name": "stdout",
          "output_type": "stream",
          "text": [
            "Ordinary Epoch [40/300], Step [1/83] Loss: 0.1713\n"
          ]
        },
        {
          "name": "stderr",
          "output_type": "stream",
          "text": [
            "83it [00:43,  1.89it/s]\n",
            " 13%|█▎        | 40/300 [40:08<4:23:20, 60.77s/it]"
          ]
        },
        {
          "name": "stdout",
          "output_type": "stream",
          "text": [
            "Test Accuracy of NN: 95.18072289156626 % (improvement)\n"
          ]
        },
        {
          "name": "stderr",
          "output_type": "stream",
          "text": []
        },
        {
          "name": "stdout",
          "output_type": "stream",
          "text": [
            "Ordinary Epoch [41/300], Step [1/83] Loss: 0.3859\n"
          ]
        },
        {
          "name": "stderr",
          "output_type": "stream",
          "text": [
            "83it [00:43,  1.91it/s]\n",
            " 14%|█▎        | 41/300 [41:02<4:14:00, 58.84s/it]"
          ]
        },
        {
          "name": "stdout",
          "output_type": "stream",
          "text": [
            "Test Accuracy of NN: 94.12650602409639 % Best: 95.18072289156626 %\n"
          ]
        },
        {
          "name": "stderr",
          "output_type": "stream",
          "text": []
        },
        {
          "name": "stdout",
          "output_type": "stream",
          "text": [
            "Ordinary Epoch [42/300], Step [1/83] Loss: 0.1160\n"
          ]
        },
        {
          "name": "stderr",
          "output_type": "stream",
          "text": [
            "83it [00:43,  1.92it/s]\n",
            " 14%|█▍        | 42/300 [41:56<4:06:36, 57.35s/it]"
          ]
        },
        {
          "name": "stdout",
          "output_type": "stream",
          "text": [
            "Test Accuracy of NN: 94.57831325301204 % Best: 95.18072289156626 %\n"
          ]
        },
        {
          "name": "stderr",
          "output_type": "stream",
          "text": []
        },
        {
          "name": "stdout",
          "output_type": "stream",
          "text": [
            "Ordinary Epoch [43/300], Step [1/83] Loss: 0.3262\n"
          ]
        },
        {
          "name": "stderr",
          "output_type": "stream",
          "text": [
            "83it [00:42,  1.93it/s]\n",
            " 14%|█▍        | 43/300 [42:50<4:01:16, 56.33s/it]"
          ]
        },
        {
          "name": "stdout",
          "output_type": "stream",
          "text": [
            "Test Accuracy of NN: 94.7289156626506 % Best: 95.18072289156626 %\n"
          ]
        },
        {
          "name": "stderr",
          "output_type": "stream",
          "text": []
        },
        {
          "name": "stdout",
          "output_type": "stream",
          "text": [
            "Ordinary Epoch [44/300], Step [1/83] Loss: 0.1119\n"
          ]
        },
        {
          "name": "stderr",
          "output_type": "stream",
          "text": [
            "83it [00:43,  1.92it/s]\n",
            " 15%|█▍        | 44/300 [43:44<3:57:23, 55.64s/it]"
          ]
        },
        {
          "name": "stdout",
          "output_type": "stream",
          "text": [
            "Test Accuracy of NN: 94.27710843373494 % Best: 95.18072289156626 %\n"
          ]
        },
        {
          "name": "stderr",
          "output_type": "stream",
          "text": []
        },
        {
          "name": "stdout",
          "output_type": "stream",
          "text": [
            "Ordinary Epoch [45/300], Step [1/83] Loss: 0.4479\n"
          ]
        },
        {
          "name": "stderr",
          "output_type": "stream",
          "text": [
            "83it [00:43,  1.93it/s]\n",
            " 15%|█▌        | 45/300 [44:38<3:54:20, 55.14s/it]"
          ]
        },
        {
          "name": "stdout",
          "output_type": "stream",
          "text": [
            "Test Accuracy of NN: 94.7289156626506 % Best: 95.18072289156626 %\n"
          ]
        },
        {
          "name": "stderr",
          "output_type": "stream",
          "text": []
        },
        {
          "name": "stdout",
          "output_type": "stream",
          "text": [
            "Ordinary Epoch [46/300], Step [1/83] Loss: 0.2292\n"
          ]
        },
        {
          "name": "stderr",
          "output_type": "stream",
          "text": [
            "83it [00:43,  1.92it/s]\n",
            " 15%|█▌        | 46/300 [45:33<3:52:28, 54.92s/it]"
          ]
        },
        {
          "name": "stdout",
          "output_type": "stream",
          "text": [
            "Test Accuracy of NN: 57.68072289156626 % Best: 95.18072289156626 %\n"
          ]
        },
        {
          "name": "stderr",
          "output_type": "stream",
          "text": []
        },
        {
          "name": "stdout",
          "output_type": "stream",
          "text": [
            "Ordinary Epoch [47/300], Step [1/83] Loss: 0.1757\n"
          ]
        },
        {
          "name": "stderr",
          "output_type": "stream",
          "text": [
            "83it [00:43,  1.93it/s]\n",
            " 16%|█▌        | 47/300 [46:27<3:50:45, 54.72s/it]"
          ]
        },
        {
          "name": "stdout",
          "output_type": "stream",
          "text": [
            "Test Accuracy of NN: 92.01807228915662 % Best: 95.18072289156626 %\n"
          ]
        },
        {
          "name": "stderr",
          "output_type": "stream",
          "text": []
        },
        {
          "name": "stdout",
          "output_type": "stream",
          "text": [
            "Ordinary Epoch [48/300], Step [1/83] Loss: 0.1740\n"
          ]
        },
        {
          "name": "stderr",
          "output_type": "stream",
          "text": [
            "83it [00:43,  1.92it/s]\n",
            " 16%|█▌        | 48/300 [47:21<3:49:17, 54.59s/it]"
          ]
        },
        {
          "name": "stdout",
          "output_type": "stream",
          "text": [
            "Test Accuracy of NN: 91.41566265060241 % Best: 95.18072289156626 %\n"
          ]
        },
        {
          "name": "stderr",
          "output_type": "stream",
          "text": []
        },
        {
          "name": "stdout",
          "output_type": "stream",
          "text": [
            "Ordinary Epoch [49/300], Step [1/83] Loss: 0.0992\n"
          ]
        },
        {
          "name": "stderr",
          "output_type": "stream",
          "text": [
            "83it [00:42,  1.93it/s]\n",
            " 16%|█▋        | 49/300 [48:15<3:47:28, 54.38s/it]"
          ]
        },
        {
          "name": "stdout",
          "output_type": "stream",
          "text": [
            "Test Accuracy of NN: 50.75301204819277 % Best: 95.18072289156626 %\n"
          ]
        },
        {
          "name": "stderr",
          "output_type": "stream",
          "text": []
        },
        {
          "name": "stdout",
          "output_type": "stream",
          "text": [
            "Ordinary Epoch [50/300], Step [1/83] Loss: 0.1337\n"
          ]
        },
        {
          "name": "stderr",
          "output_type": "stream",
          "text": [
            "83it [00:43,  1.92it/s]\n",
            " 17%|█▋        | 50/300 [49:09<3:46:14, 54.30s/it]"
          ]
        },
        {
          "name": "stdout",
          "output_type": "stream",
          "text": [
            "Test Accuracy of NN: 94.12650602409639 % Best: 95.18072289156626 %\n"
          ]
        },
        {
          "name": "stderr",
          "output_type": "stream",
          "text": []
        },
        {
          "name": "stdout",
          "output_type": "stream",
          "text": [
            "Ordinary Epoch [51/300], Step [1/83] Loss: 0.1162\n"
          ]
        },
        {
          "name": "stderr",
          "output_type": "stream",
          "text": [
            "83it [00:43,  1.92it/s]\n",
            " 17%|█▋        | 51/300 [50:03<3:44:52, 54.19s/it]"
          ]
        },
        {
          "name": "stdout",
          "output_type": "stream",
          "text": [
            "Test Accuracy of NN: 61.897590361445786 % Best: 95.18072289156626 %\n"
          ]
        },
        {
          "name": "stderr",
          "output_type": "stream",
          "text": []
        },
        {
          "name": "stdout",
          "output_type": "stream",
          "text": [
            "Ordinary Epoch [52/300], Step [1/83] Loss: 0.1934\n"
          ]
        },
        {
          "name": "stderr",
          "output_type": "stream",
          "text": [
            "83it [00:43,  1.91it/s]\n",
            " 17%|█▋        | 52/300 [50:57<3:44:12, 54.24s/it]"
          ]
        },
        {
          "name": "stdout",
          "output_type": "stream",
          "text": [
            "Test Accuracy of NN: 46.68674698795181 % Best: 95.18072289156626 %\n"
          ]
        },
        {
          "name": "stderr",
          "output_type": "stream",
          "text": []
        },
        {
          "name": "stdout",
          "output_type": "stream",
          "text": [
            "Ordinary Epoch [53/300], Step [1/83] Loss: 0.3097\n"
          ]
        },
        {
          "name": "stderr",
          "output_type": "stream",
          "text": [
            "83it [00:43,  1.90it/s]\n",
            " 18%|█▊        | 53/300 [51:52<3:43:56, 54.40s/it]"
          ]
        },
        {
          "name": "stdout",
          "output_type": "stream",
          "text": [
            "Test Accuracy of NN: 92.46987951807229 % Best: 95.18072289156626 %\n"
          ]
        },
        {
          "name": "stderr",
          "output_type": "stream",
          "text": []
        },
        {
          "name": "stdout",
          "output_type": "stream",
          "text": [
            "Ordinary Epoch [54/300], Step [1/83] Loss: 0.2537\n"
          ]
        },
        {
          "name": "stderr",
          "output_type": "stream",
          "text": [
            "83it [00:43,  1.93it/s]\n",
            " 18%|█▊        | 54/300 [52:46<3:42:23, 54.24s/it]"
          ]
        },
        {
          "name": "stdout",
          "output_type": "stream",
          "text": [
            "Test Accuracy of NN: 93.07228915662651 % Best: 95.18072289156626 %\n"
          ]
        },
        {
          "name": "stderr",
          "output_type": "stream",
          "text": []
        },
        {
          "name": "stdout",
          "output_type": "stream",
          "text": [
            "Ordinary Epoch [55/300], Step [1/83] Loss: 0.0917\n"
          ]
        },
        {
          "name": "stderr",
          "output_type": "stream",
          "text": [
            "83it [00:42,  1.93it/s]\n",
            " 18%|█▊        | 55/300 [53:40<3:40:59, 54.12s/it]"
          ]
        },
        {
          "name": "stdout",
          "output_type": "stream",
          "text": [
            "Test Accuracy of NN: 93.07228915662651 % Best: 95.18072289156626 %\n"
          ]
        },
        {
          "name": "stderr",
          "output_type": "stream",
          "text": []
        },
        {
          "name": "stdout",
          "output_type": "stream",
          "text": [
            "Ordinary Epoch [56/300], Step [1/83] Loss: 0.1372\n"
          ]
        },
        {
          "name": "stderr",
          "output_type": "stream",
          "text": [
            "83it [00:43,  1.93it/s]\n",
            " 19%|█▊        | 56/300 [54:34<3:39:53, 54.07s/it]"
          ]
        },
        {
          "name": "stdout",
          "output_type": "stream",
          "text": [
            "Test Accuracy of NN: 92.16867469879519 % Best: 95.18072289156626 %\n"
          ]
        },
        {
          "name": "stderr",
          "output_type": "stream",
          "text": []
        },
        {
          "name": "stdout",
          "output_type": "stream",
          "text": [
            "Ordinary Epoch [57/300], Step [1/83] Loss: 0.2083\n"
          ]
        },
        {
          "name": "stderr",
          "output_type": "stream",
          "text": [
            "83it [00:43,  1.93it/s]\n",
            " 19%|█▉        | 57/300 [55:28<3:38:39, 53.99s/it]"
          ]
        },
        {
          "name": "stdout",
          "output_type": "stream",
          "text": [
            "Test Accuracy of NN: 92.7710843373494 % Best: 95.18072289156626 %\n"
          ]
        },
        {
          "name": "stderr",
          "output_type": "stream",
          "text": []
        },
        {
          "name": "stdout",
          "output_type": "stream",
          "text": [
            "Ordinary Epoch [58/300], Step [1/83] Loss: 0.2882\n"
          ]
        },
        {
          "name": "stderr",
          "output_type": "stream",
          "text": [
            "83it [00:42,  1.93it/s]\n",
            " 19%|█▉        | 58/300 [56:21<3:37:15, 53.86s/it]"
          ]
        },
        {
          "name": "stdout",
          "output_type": "stream",
          "text": [
            "Test Accuracy of NN: 94.12650602409639 % Best: 95.18072289156626 %\n"
          ]
        },
        {
          "name": "stderr",
          "output_type": "stream",
          "text": []
        },
        {
          "name": "stdout",
          "output_type": "stream",
          "text": [
            "Ordinary Epoch [59/300], Step [1/83] Loss: 0.2052\n"
          ]
        },
        {
          "name": "stderr",
          "output_type": "stream",
          "text": [
            "83it [00:42,  1.94it/s]\n",
            " 20%|█▉        | 59/300 [57:15<3:36:16, 53.84s/it]"
          ]
        },
        {
          "name": "stdout",
          "output_type": "stream",
          "text": [
            "Test Accuracy of NN: 93.97590361445783 % Best: 95.18072289156626 %\n"
          ]
        },
        {
          "name": "stderr",
          "output_type": "stream",
          "text": []
        },
        {
          "name": "stdout",
          "output_type": "stream",
          "text": [
            "Ordinary Epoch [60/300], Step [1/83] Loss: 0.2165\n"
          ]
        },
        {
          "name": "stderr",
          "output_type": "stream",
          "text": [
            "83it [00:43,  1.93it/s]\n",
            " 20%|██        | 60/300 [58:09<3:35:30, 53.88s/it]"
          ]
        },
        {
          "name": "stdout",
          "output_type": "stream",
          "text": [
            "Test Accuracy of NN: 46.68674698795181 % Best: 95.18072289156626 %\n"
          ]
        },
        {
          "name": "stderr",
          "output_type": "stream",
          "text": []
        },
        {
          "name": "stdout",
          "output_type": "stream",
          "text": [
            "Ordinary Epoch [61/300], Step [1/83] Loss: 0.5229\n"
          ]
        },
        {
          "name": "stderr",
          "output_type": "stream",
          "text": [
            "83it [00:42,  1.94it/s]\n",
            " 20%|██        | 61/300 [59:03<3:34:15, 53.79s/it]"
          ]
        },
        {
          "name": "stdout",
          "output_type": "stream",
          "text": [
            "Test Accuracy of NN: 92.01807228915662 % Best: 95.18072289156626 %\n"
          ]
        },
        {
          "name": "stderr",
          "output_type": "stream",
          "text": []
        },
        {
          "name": "stdout",
          "output_type": "stream",
          "text": [
            "Ordinary Epoch [62/300], Step [1/83] Loss: 0.1597\n"
          ]
        },
        {
          "name": "stderr",
          "output_type": "stream",
          "text": [
            "83it [00:42,  1.93it/s]\n",
            " 21%|██        | 62/300 [59:56<3:33:17, 53.77s/it]"
          ]
        },
        {
          "name": "stdout",
          "output_type": "stream",
          "text": [
            "Test Accuracy of NN: 75.0 % Best: 95.18072289156626 %\n"
          ]
        },
        {
          "name": "stderr",
          "output_type": "stream",
          "text": []
        },
        {
          "name": "stdout",
          "output_type": "stream",
          "text": [
            "Ordinary Epoch [63/300], Step [1/83] Loss: 0.2092\n"
          ]
        },
        {
          "name": "stderr",
          "output_type": "stream",
          "text": [
            "83it [00:42,  1.93it/s]\n",
            " 21%|██        | 63/300 [1:00:52<3:35:08, 54.47s/it]"
          ]
        },
        {
          "name": "stdout",
          "output_type": "stream",
          "text": [
            "Test Accuracy of NN: 93.07228915662651 % Best: 95.18072289156626 %\n"
          ]
        },
        {
          "name": "stderr",
          "output_type": "stream",
          "text": []
        },
        {
          "name": "stdout",
          "output_type": "stream",
          "text": [
            "Ordinary Epoch [64/300], Step [1/83] Loss: 0.1614\n"
          ]
        },
        {
          "name": "stderr",
          "output_type": "stream",
          "text": [
            "83it [00:45,  1.80it/s]\n",
            " 21%|██▏       | 64/300 [1:01:50<3:37:29, 55.29s/it]"
          ]
        },
        {
          "name": "stdout",
          "output_type": "stream",
          "text": [
            "Test Accuracy of NN: 85.5421686746988 % Best: 95.18072289156626 %\n"
          ]
        },
        {
          "name": "stderr",
          "output_type": "stream",
          "text": []
        },
        {
          "name": "stdout",
          "output_type": "stream",
          "text": [
            "Ordinary Epoch [65/300], Step [1/83] Loss: 0.4184\n"
          ]
        },
        {
          "name": "stderr",
          "output_type": "stream",
          "text": [
            "83it [00:45,  1.84it/s]\n",
            " 22%|██▏       | 65/300 [1:02:46<3:37:42, 55.59s/it]"
          ]
        },
        {
          "name": "stdout",
          "output_type": "stream",
          "text": [
            "Test Accuracy of NN: 73.644578313253 % Best: 95.18072289156626 %\n"
          ]
        },
        {
          "name": "stderr",
          "output_type": "stream",
          "text": []
        },
        {
          "name": "stdout",
          "output_type": "stream",
          "text": [
            "Ordinary Epoch [66/300], Step [1/83] Loss: 0.3166\n"
          ]
        },
        {
          "name": "stderr",
          "output_type": "stream",
          "text": [
            "83it [00:44,  1.85it/s]\n",
            " 22%|██▏       | 66/300 [1:03:42<3:37:22, 55.74s/it]"
          ]
        },
        {
          "name": "stdout",
          "output_type": "stream",
          "text": [
            "Test Accuracy of NN: 91.41566265060241 % Best: 95.18072289156626 %\n"
          ]
        },
        {
          "name": "stderr",
          "output_type": "stream",
          "text": []
        },
        {
          "name": "stdout",
          "output_type": "stream",
          "text": [
            "Ordinary Epoch [67/300], Step [1/83] Loss: 0.4442\n"
          ]
        },
        {
          "name": "stderr",
          "output_type": "stream",
          "text": [
            "83it [00:44,  1.85it/s]\n",
            " 22%|██▏       | 67/300 [1:04:38<3:36:47, 55.83s/it]"
          ]
        },
        {
          "name": "stdout",
          "output_type": "stream",
          "text": [
            "Test Accuracy of NN: 46.68674698795181 % Best: 95.18072289156626 %\n"
          ]
        },
        {
          "name": "stderr",
          "output_type": "stream",
          "text": []
        },
        {
          "name": "stdout",
          "output_type": "stream",
          "text": [
            "Ordinary Epoch [68/300], Step [1/83] Loss: 0.2266\n"
          ]
        },
        {
          "name": "stderr",
          "output_type": "stream",
          "text": [
            "83it [00:44,  1.85it/s]\n",
            " 23%|██▎       | 68/300 [1:05:34<3:36:09, 55.90s/it]"
          ]
        },
        {
          "name": "stdout",
          "output_type": "stream",
          "text": [
            "Test Accuracy of NN: 56.475903614457835 % Best: 95.18072289156626 %\n"
          ]
        },
        {
          "name": "stderr",
          "output_type": "stream",
          "text": []
        },
        {
          "name": "stdout",
          "output_type": "stream",
          "text": [
            "Ordinary Epoch [69/300], Step [1/83] Loss: 0.1931\n"
          ]
        },
        {
          "name": "stderr",
          "output_type": "stream",
          "text": [
            "83it [00:44,  1.85it/s]\n",
            " 23%|██▎       | 69/300 [1:06:30<3:35:22, 55.94s/it]"
          ]
        },
        {
          "name": "stdout",
          "output_type": "stream",
          "text": [
            "Test Accuracy of NN: 49.24698795180723 % Best: 95.18072289156626 %\n"
          ]
        },
        {
          "name": "stderr",
          "output_type": "stream",
          "text": []
        },
        {
          "name": "stdout",
          "output_type": "stream",
          "text": [
            "Ordinary Epoch [70/300], Step [1/83] Loss: 0.1653\n"
          ]
        },
        {
          "name": "stderr",
          "output_type": "stream",
          "text": [
            "83it [00:44,  1.86it/s]\n",
            " 23%|██▎       | 70/300 [1:07:26<3:34:17, 55.90s/it]"
          ]
        },
        {
          "name": "stdout",
          "output_type": "stream",
          "text": [
            "Test Accuracy of NN: 68.07228915662651 % Best: 95.18072289156626 %\n"
          ]
        },
        {
          "name": "stderr",
          "output_type": "stream",
          "text": []
        },
        {
          "name": "stdout",
          "output_type": "stream",
          "text": [
            "Ordinary Epoch [71/300], Step [1/83] Loss: 0.1628\n"
          ]
        },
        {
          "name": "stderr",
          "output_type": "stream",
          "text": [
            "83it [00:44,  1.87it/s]\n",
            " 24%|██▎       | 71/300 [1:08:22<3:33:18, 55.89s/it]"
          ]
        },
        {
          "name": "stdout",
          "output_type": "stream",
          "text": [
            "Test Accuracy of NN: 65.66265060240964 % Best: 95.18072289156626 %\n"
          ]
        },
        {
          "name": "stderr",
          "output_type": "stream",
          "text": []
        },
        {
          "name": "stdout",
          "output_type": "stream",
          "text": [
            "Ordinary Epoch [72/300], Step [1/83] Loss: 0.1219\n"
          ]
        },
        {
          "name": "stderr",
          "output_type": "stream",
          "text": [
            "83it [00:45,  1.83it/s]\n",
            " 24%|██▍       | 72/300 [1:09:18<3:33:10, 56.10s/it]"
          ]
        },
        {
          "name": "stdout",
          "output_type": "stream",
          "text": [
            "Test Accuracy of NN: 74.54819277108433 % Best: 95.18072289156626 %\n"
          ]
        },
        {
          "name": "stderr",
          "output_type": "stream",
          "text": []
        },
        {
          "name": "stdout",
          "output_type": "stream",
          "text": [
            "Ordinary Epoch [73/300], Step [1/83] Loss: 0.0677\n"
          ]
        },
        {
          "name": "stderr",
          "output_type": "stream",
          "text": [
            "83it [00:45,  1.84it/s]\n",
            " 24%|██▍       | 73/300 [1:10:15<3:32:45, 56.24s/it]"
          ]
        },
        {
          "name": "stdout",
          "output_type": "stream",
          "text": [
            "Test Accuracy of NN: 94.57831325301204 % Best: 95.18072289156626 %\n"
          ]
        },
        {
          "name": "stderr",
          "output_type": "stream",
          "text": []
        },
        {
          "name": "stdout",
          "output_type": "stream",
          "text": [
            "Ordinary Epoch [74/300], Step [1/83] Loss: 0.0781\n"
          ]
        },
        {
          "name": "stderr",
          "output_type": "stream",
          "text": [
            "83it [00:44,  1.86it/s]\n",
            " 25%|██▍       | 74/300 [1:11:11<3:31:31, 56.16s/it]"
          ]
        },
        {
          "name": "stdout",
          "output_type": "stream",
          "text": [
            "Test Accuracy of NN: 95.18072289156626 % Best: 95.18072289156626 %\n"
          ]
        },
        {
          "name": "stderr",
          "output_type": "stream",
          "text": []
        },
        {
          "name": "stdout",
          "output_type": "stream",
          "text": [
            "Ordinary Epoch [75/300], Step [1/83] Loss: 0.1173\n"
          ]
        },
        {
          "name": "stderr",
          "output_type": "stream",
          "text": [
            "83it [00:44,  1.85it/s]\n",
            " 25%|██▌       | 75/300 [1:12:07<3:30:23, 56.10s/it]"
          ]
        },
        {
          "name": "stdout",
          "output_type": "stream",
          "text": [
            "Test Accuracy of NN: 90.21084337349397 % Best: 95.18072289156626 %\n"
          ]
        },
        {
          "name": "stderr",
          "output_type": "stream",
          "text": []
        },
        {
          "name": "stdout",
          "output_type": "stream",
          "text": [
            "Ordinary Epoch [76/300], Step [1/83] Loss: 0.0776\n"
          ]
        },
        {
          "name": "stderr",
          "output_type": "stream",
          "text": [
            "83it [00:45,  1.84it/s]\n",
            " 25%|██▌       | 76/300 [1:13:03<3:29:40, 56.16s/it]"
          ]
        },
        {
          "name": "stdout",
          "output_type": "stream",
          "text": [
            "Test Accuracy of NN: 95.78313253012048 % (improvement)\n"
          ]
        },
        {
          "name": "stderr",
          "output_type": "stream",
          "text": []
        },
        {
          "name": "stdout",
          "output_type": "stream",
          "text": [
            "Ordinary Epoch [77/300], Step [1/83] Loss: 0.1053\n"
          ]
        },
        {
          "name": "stderr",
          "output_type": "stream",
          "text": [
            "83it [00:44,  1.85it/s]\n",
            " 26%|██▌       | 77/300 [1:13:59<3:28:28, 56.09s/it]"
          ]
        },
        {
          "name": "stdout",
          "output_type": "stream",
          "text": [
            "Test Accuracy of NN: 91.26506024096386 % Best: 95.78313253012048 %\n"
          ]
        },
        {
          "name": "stderr",
          "output_type": "stream",
          "text": []
        },
        {
          "name": "stdout",
          "output_type": "stream",
          "text": [
            "Ordinary Epoch [78/300], Step [1/83] Loss: 0.2130\n"
          ]
        },
        {
          "name": "stderr",
          "output_type": "stream",
          "text": [
            "83it [00:45,  1.84it/s]\n",
            " 26%|██▌       | 78/300 [1:14:55<3:27:44, 56.15s/it]"
          ]
        },
        {
          "name": "stdout",
          "output_type": "stream",
          "text": [
            "Test Accuracy of NN: 46.68674698795181 % Best: 95.78313253012048 %\n"
          ]
        },
        {
          "name": "stderr",
          "output_type": "stream",
          "text": []
        },
        {
          "name": "stdout",
          "output_type": "stream",
          "text": [
            "Ordinary Epoch [79/300], Step [1/83] Loss: 0.1494\n"
          ]
        },
        {
          "name": "stderr",
          "output_type": "stream",
          "text": [
            "83it [00:44,  1.88it/s]\n",
            " 26%|██▋       | 79/300 [1:15:51<3:25:53, 55.90s/it]"
          ]
        },
        {
          "name": "stdout",
          "output_type": "stream",
          "text": [
            "Test Accuracy of NN: 53.6144578313253 % Best: 95.78313253012048 %\n"
          ]
        },
        {
          "name": "stderr",
          "output_type": "stream",
          "text": []
        },
        {
          "name": "stdout",
          "output_type": "stream",
          "text": [
            "Ordinary Epoch [80/300], Step [1/83] Loss: 0.1557\n"
          ]
        },
        {
          "name": "stderr",
          "output_type": "stream",
          "text": [
            "83it [00:45,  1.84it/s]\n",
            " 27%|██▋       | 80/300 [1:16:47<3:25:34, 56.07s/it]"
          ]
        },
        {
          "name": "stdout",
          "output_type": "stream",
          "text": [
            "Test Accuracy of NN: 94.42771084337349 % Best: 95.78313253012048 %\n"
          ]
        },
        {
          "name": "stderr",
          "output_type": "stream",
          "text": []
        },
        {
          "name": "stdout",
          "output_type": "stream",
          "text": [
            "Ordinary Epoch [81/300], Step [1/83] Loss: 0.1516\n"
          ]
        },
        {
          "name": "stderr",
          "output_type": "stream",
          "text": [
            "83it [00:44,  1.86it/s]\n",
            " 27%|██▋       | 81/300 [1:17:43<3:24:27, 56.02s/it]"
          ]
        },
        {
          "name": "stdout",
          "output_type": "stream",
          "text": [
            "Test Accuracy of NN: 88.855421686747 % Best: 95.78313253012048 %\n"
          ]
        },
        {
          "name": "stderr",
          "output_type": "stream",
          "text": []
        },
        {
          "name": "stdout",
          "output_type": "stream",
          "text": [
            "Ordinary Epoch [82/300], Step [1/83] Loss: 0.3186\n"
          ]
        },
        {
          "name": "stderr",
          "output_type": "stream",
          "text": [
            "83it [00:44,  1.85it/s]\n",
            " 27%|██▋       | 82/300 [1:18:39<3:23:47, 56.09s/it]"
          ]
        },
        {
          "name": "stdout",
          "output_type": "stream",
          "text": [
            "Test Accuracy of NN: 79.21686746987952 % Best: 95.78313253012048 %\n"
          ]
        },
        {
          "name": "stderr",
          "output_type": "stream",
          "text": []
        },
        {
          "name": "stdout",
          "output_type": "stream",
          "text": [
            "Ordinary Epoch [83/300], Step [1/83] Loss: 0.0695\n"
          ]
        },
        {
          "name": "stderr",
          "output_type": "stream",
          "text": [
            "83it [00:44,  1.85it/s]\n",
            " 28%|██▊       | 83/300 [1:19:36<3:23:03, 56.15s/it]"
          ]
        },
        {
          "name": "stdout",
          "output_type": "stream",
          "text": [
            "Test Accuracy of NN: 46.83734939759036 % Best: 95.78313253012048 %\n"
          ]
        },
        {
          "name": "stderr",
          "output_type": "stream",
          "text": []
        },
        {
          "name": "stdout",
          "output_type": "stream",
          "text": [
            "Ordinary Epoch [84/300], Step [1/83] Loss: 0.1292\n"
          ]
        },
        {
          "name": "stderr",
          "output_type": "stream",
          "text": [
            "83it [00:44,  1.85it/s]\n",
            " 28%|██▊       | 84/300 [1:20:32<3:22:12, 56.17s/it]"
          ]
        },
        {
          "name": "stdout",
          "output_type": "stream",
          "text": [
            "Test Accuracy of NN: 95.63253012048193 % Best: 95.78313253012048 %\n"
          ]
        },
        {
          "name": "stderr",
          "output_type": "stream",
          "text": []
        },
        {
          "name": "stdout",
          "output_type": "stream",
          "text": [
            "Ordinary Epoch [85/300], Step [1/83] Loss: 0.0962\n"
          ]
        },
        {
          "name": "stderr",
          "output_type": "stream",
          "text": [
            "83it [00:44,  1.86it/s]\n",
            " 28%|██▊       | 85/300 [1:21:28<3:21:02, 56.10s/it]"
          ]
        },
        {
          "name": "stdout",
          "output_type": "stream",
          "text": [
            "Test Accuracy of NN: 95.48192771084338 % Best: 95.78313253012048 %\n"
          ]
        },
        {
          "name": "stderr",
          "output_type": "stream",
          "text": []
        },
        {
          "name": "stdout",
          "output_type": "stream",
          "text": [
            "Ordinary Epoch [86/300], Step [1/83] Loss: 0.1783\n"
          ]
        },
        {
          "name": "stderr",
          "output_type": "stream",
          "text": [
            "83it [00:45,  1.84it/s]\n",
            " 29%|██▊       | 86/300 [1:22:24<3:20:29, 56.21s/it]"
          ]
        },
        {
          "name": "stdout",
          "output_type": "stream",
          "text": [
            "Test Accuracy of NN: 89.75903614457832 % Best: 95.78313253012048 %\n"
          ]
        },
        {
          "name": "stderr",
          "output_type": "stream",
          "text": []
        },
        {
          "name": "stdout",
          "output_type": "stream",
          "text": [
            "Ordinary Epoch [87/300], Step [1/83] Loss: 0.1976\n"
          ]
        },
        {
          "name": "stderr",
          "output_type": "stream",
          "text": [
            "83it [00:44,  1.87it/s]\n",
            " 29%|██▉       | 87/300 [1:23:20<3:18:59, 56.05s/it]"
          ]
        },
        {
          "name": "stdout",
          "output_type": "stream",
          "text": [
            "Test Accuracy of NN: 94.7289156626506 % Best: 95.78313253012048 %\n"
          ]
        },
        {
          "name": "stderr",
          "output_type": "stream",
          "text": []
        },
        {
          "name": "stdout",
          "output_type": "stream",
          "text": [
            "Ordinary Epoch [88/300], Step [1/83] Loss: 0.0800\n"
          ]
        },
        {
          "name": "stderr",
          "output_type": "stream",
          "text": [
            "83it [00:44,  1.86it/s]\n",
            " 29%|██▉       | 88/300 [1:24:16<3:17:53, 56.01s/it]"
          ]
        },
        {
          "name": "stdout",
          "output_type": "stream",
          "text": [
            "Test Accuracy of NN: 90.96385542168674 % Best: 95.78313253012048 %\n"
          ]
        },
        {
          "name": "stderr",
          "output_type": "stream",
          "text": []
        },
        {
          "name": "stdout",
          "output_type": "stream",
          "text": [
            "Ordinary Epoch [89/300], Step [1/83] Loss: 0.0818\n"
          ]
        },
        {
          "name": "stderr",
          "output_type": "stream",
          "text": [
            "83it [00:44,  1.86it/s]\n",
            " 30%|██▉       | 89/300 [1:25:12<3:16:48, 55.96s/it]"
          ]
        },
        {
          "name": "stdout",
          "output_type": "stream",
          "text": [
            "Test Accuracy of NN: 79.21686746987952 % Best: 95.78313253012048 %\n"
          ]
        },
        {
          "name": "stderr",
          "output_type": "stream",
          "text": []
        },
        {
          "name": "stdout",
          "output_type": "stream",
          "text": [
            "Ordinary Epoch [90/300], Step [1/83] Loss: 0.2261\n"
          ]
        },
        {
          "name": "stderr",
          "output_type": "stream",
          "text": [
            "83it [00:44,  1.85it/s]\n",
            " 30%|███       | 90/300 [1:26:08<3:16:12, 56.06s/it]"
          ]
        },
        {
          "name": "stdout",
          "output_type": "stream",
          "text": [
            "Test Accuracy of NN: 90.06024096385542 % Best: 95.78313253012048 %\n"
          ]
        },
        {
          "name": "stderr",
          "output_type": "stream",
          "text": []
        },
        {
          "name": "stdout",
          "output_type": "stream",
          "text": [
            "Ordinary Epoch [91/300], Step [1/83] Loss: 0.1135\n"
          ]
        },
        {
          "name": "stderr",
          "output_type": "stream",
          "text": [
            "83it [00:44,  1.86it/s]\n",
            " 30%|███       | 91/300 [1:27:04<3:15:03, 56.00s/it]"
          ]
        },
        {
          "name": "stdout",
          "output_type": "stream",
          "text": [
            "Test Accuracy of NN: 95.18072289156626 % Best: 95.78313253012048 %\n"
          ]
        },
        {
          "name": "stderr",
          "output_type": "stream",
          "text": []
        },
        {
          "name": "stdout",
          "output_type": "stream",
          "text": [
            "Ordinary Epoch [92/300], Step [1/83] Loss: 0.0890\n"
          ]
        },
        {
          "name": "stderr",
          "output_type": "stream",
          "text": [
            "83it [00:44,  1.85it/s]\n",
            " 31%|███       | 92/300 [1:28:00<3:14:17, 56.05s/it]"
          ]
        },
        {
          "name": "stdout",
          "output_type": "stream",
          "text": [
            "Test Accuracy of NN: 94.42771084337349 % Best: 95.78313253012048 %\n"
          ]
        },
        {
          "name": "stderr",
          "output_type": "stream",
          "text": []
        },
        {
          "name": "stdout",
          "output_type": "stream",
          "text": [
            "Ordinary Epoch [93/300], Step [1/83] Loss: 0.0802\n"
          ]
        },
        {
          "name": "stderr",
          "output_type": "stream",
          "text": [
            "83it [00:49,  1.67it/s]\n",
            " 31%|███       | 93/300 [1:29:01<3:18:24, 57.51s/it]"
          ]
        },
        {
          "name": "stdout",
          "output_type": "stream",
          "text": [
            "Test Accuracy of NN: 95.33132530120481 % Best: 95.78313253012048 %\n"
          ]
        },
        {
          "name": "stderr",
          "output_type": "stream",
          "text": []
        },
        {
          "name": "stdout",
          "output_type": "stream",
          "text": [
            "Ordinary Epoch [94/300], Step [1/83] Loss: 0.0766\n"
          ]
        },
        {
          "name": "stderr",
          "output_type": "stream",
          "text": [
            "83it [00:44,  1.86it/s]\n",
            " 31%|███▏      | 94/300 [1:29:57<3:15:49, 57.04s/it]"
          ]
        },
        {
          "name": "stdout",
          "output_type": "stream",
          "text": [
            "Test Accuracy of NN: 46.68674698795181 % Best: 95.78313253012048 %\n"
          ]
        },
        {
          "name": "stderr",
          "output_type": "stream",
          "text": []
        },
        {
          "name": "stdout",
          "output_type": "stream",
          "text": [
            "Ordinary Epoch [95/300], Step [1/83] Loss: 0.1836\n"
          ]
        },
        {
          "name": "stderr",
          "output_type": "stream",
          "text": [
            "83it [00:44,  1.86it/s]\n",
            " 32%|███▏      | 95/300 [1:30:53<3:13:41, 56.69s/it]"
          ]
        },
        {
          "name": "stdout",
          "output_type": "stream",
          "text": [
            "Test Accuracy of NN: 46.68674698795181 % Best: 95.78313253012048 %\n"
          ]
        },
        {
          "name": "stderr",
          "output_type": "stream",
          "text": []
        },
        {
          "name": "stdout",
          "output_type": "stream",
          "text": [
            "Ordinary Epoch [96/300], Step [1/83] Loss: 0.0424\n"
          ]
        },
        {
          "name": "stderr",
          "output_type": "stream",
          "text": [
            "83it [00:45,  1.84it/s]\n",
            " 32%|███▏      | 96/300 [1:31:49<3:12:26, 56.60s/it]"
          ]
        },
        {
          "name": "stdout",
          "output_type": "stream",
          "text": [
            "Test Accuracy of NN: 86.74698795180723 % Best: 95.78313253012048 %\n"
          ]
        },
        {
          "name": "stderr",
          "output_type": "stream",
          "text": []
        },
        {
          "name": "stdout",
          "output_type": "stream",
          "text": [
            "Ordinary Epoch [97/300], Step [1/83] Loss: 0.0217\n"
          ]
        },
        {
          "name": "stderr",
          "output_type": "stream",
          "text": [
            "83it [00:44,  1.86it/s]\n",
            " 32%|███▏      | 97/300 [1:32:45<3:10:41, 56.36s/it]"
          ]
        },
        {
          "name": "stdout",
          "output_type": "stream",
          "text": [
            "Test Accuracy of NN: 85.5421686746988 % Best: 95.78313253012048 %\n"
          ]
        },
        {
          "name": "stderr",
          "output_type": "stream",
          "text": []
        },
        {
          "name": "stdout",
          "output_type": "stream",
          "text": [
            "Ordinary Epoch [98/300], Step [1/83] Loss: 0.2617\n"
          ]
        },
        {
          "name": "stderr",
          "output_type": "stream",
          "text": [
            "83it [00:45,  1.84it/s]\n",
            " 33%|███▎      | 98/300 [1:33:41<3:09:37, 56.33s/it]"
          ]
        },
        {
          "name": "stdout",
          "output_type": "stream",
          "text": [
            "Test Accuracy of NN: 95.48192771084338 % Best: 95.78313253012048 %\n"
          ]
        },
        {
          "name": "stderr",
          "output_type": "stream",
          "text": []
        },
        {
          "name": "stdout",
          "output_type": "stream",
          "text": [
            "Ordinary Epoch [99/300], Step [1/83] Loss: 0.0233\n"
          ]
        },
        {
          "name": "stderr",
          "output_type": "stream",
          "text": [
            "83it [00:44,  1.88it/s]\n",
            " 33%|███▎      | 99/300 [1:34:37<3:07:49, 56.07s/it]"
          ]
        },
        {
          "name": "stdout",
          "output_type": "stream",
          "text": [
            "Test Accuracy of NN: 94.87951807228916 % Best: 95.78313253012048 %\n"
          ]
        },
        {
          "name": "stderr",
          "output_type": "stream",
          "text": []
        },
        {
          "name": "stdout",
          "output_type": "stream",
          "text": [
            "Ordinary Epoch [100/300], Step [1/83] Loss: 0.0897\n"
          ]
        },
        {
          "name": "stderr",
          "output_type": "stream",
          "text": [
            "83it [00:44,  1.86it/s]\n",
            " 33%|███▎      | 100/300 [1:35:33<3:06:44, 56.02s/it]"
          ]
        },
        {
          "name": "stdout",
          "output_type": "stream",
          "text": [
            "Test Accuracy of NN: 95.48192771084338 % Best: 95.78313253012048 %\n"
          ]
        },
        {
          "name": "stderr",
          "output_type": "stream",
          "text": []
        },
        {
          "name": "stdout",
          "output_type": "stream",
          "text": [
            "Ordinary Epoch [101/300], Step [1/83] Loss: 0.0617\n"
          ]
        },
        {
          "name": "stderr",
          "output_type": "stream",
          "text": [
            "83it [00:44,  1.84it/s]\n",
            " 34%|███▎      | 101/300 [1:36:29<3:06:03, 56.10s/it]"
          ]
        },
        {
          "name": "stdout",
          "output_type": "stream",
          "text": [
            "Test Accuracy of NN: 96.08433734939759 % (improvement)\n"
          ]
        },
        {
          "name": "stderr",
          "output_type": "stream",
          "text": []
        },
        {
          "name": "stdout",
          "output_type": "stream",
          "text": [
            "Ordinary Epoch [102/300], Step [1/83] Loss: 0.0735\n"
          ]
        },
        {
          "name": "stderr",
          "output_type": "stream",
          "text": [
            "83it [00:44,  1.85it/s]\n",
            " 34%|███▍      | 102/300 [1:37:25<3:05:21, 56.17s/it]"
          ]
        },
        {
          "name": "stdout",
          "output_type": "stream",
          "text": [
            "Test Accuracy of NN: 96.23493975903614 % (improvement)\n"
          ]
        },
        {
          "name": "stderr",
          "output_type": "stream",
          "text": []
        },
        {
          "name": "stdout",
          "output_type": "stream",
          "text": [
            "Ordinary Epoch [103/300], Step [1/83] Loss: 0.0506\n"
          ]
        },
        {
          "name": "stderr",
          "output_type": "stream",
          "text": [
            "83it [00:45,  1.84it/s]\n",
            " 34%|███▍      | 103/300 [1:38:21<3:04:36, 56.23s/it]"
          ]
        },
        {
          "name": "stdout",
          "output_type": "stream",
          "text": [
            "Test Accuracy of NN: 96.53614457831326 % (improvement)\n"
          ]
        },
        {
          "name": "stderr",
          "output_type": "stream",
          "text": []
        },
        {
          "name": "stdout",
          "output_type": "stream",
          "text": [
            "Ordinary Epoch [104/300], Step [1/83] Loss: 0.0307\n"
          ]
        },
        {
          "name": "stderr",
          "output_type": "stream",
          "text": [
            "83it [00:45,  1.84it/s]\n",
            " 35%|███▍      | 104/300 [1:39:18<3:03:52, 56.29s/it]"
          ]
        },
        {
          "name": "stdout",
          "output_type": "stream",
          "text": [
            "Test Accuracy of NN: 96.3855421686747 % Best: 96.53614457831326 %\n"
          ]
        },
        {
          "name": "stderr",
          "output_type": "stream",
          "text": []
        },
        {
          "name": "stdout",
          "output_type": "stream",
          "text": [
            "Ordinary Epoch [105/300], Step [1/83] Loss: 0.1249\n"
          ]
        },
        {
          "name": "stderr",
          "output_type": "stream",
          "text": [
            "83it [00:44,  1.85it/s]\n",
            " 35%|███▌      | 105/300 [1:40:14<3:02:50, 56.26s/it]"
          ]
        },
        {
          "name": "stdout",
          "output_type": "stream",
          "text": [
            "Test Accuracy of NN: 46.68674698795181 % Best: 96.53614457831326 %\n"
          ]
        },
        {
          "name": "stderr",
          "output_type": "stream",
          "text": []
        },
        {
          "name": "stdout",
          "output_type": "stream",
          "text": [
            "Ordinary Epoch [106/300], Step [1/83] Loss: 0.4355\n"
          ]
        },
        {
          "name": "stderr",
          "output_type": "stream",
          "text": [
            "83it [00:44,  1.85it/s]\n",
            " 35%|███▌      | 106/300 [1:41:10<3:01:50, 56.24s/it]"
          ]
        },
        {
          "name": "stdout",
          "output_type": "stream",
          "text": [
            "Test Accuracy of NN: 89.00602409638554 % Best: 96.53614457831326 %\n"
          ]
        },
        {
          "name": "stderr",
          "output_type": "stream",
          "text": []
        },
        {
          "name": "stdout",
          "output_type": "stream",
          "text": [
            "Ordinary Epoch [107/300], Step [1/83] Loss: 0.1629\n"
          ]
        },
        {
          "name": "stderr",
          "output_type": "stream",
          "text": [
            "83it [00:45,  1.82it/s]\n",
            " 36%|███▌      | 107/300 [1:42:07<3:01:36, 56.46s/it]"
          ]
        },
        {
          "name": "stdout",
          "output_type": "stream",
          "text": [
            "Test Accuracy of NN: 69.57831325301204 % Best: 96.53614457831326 %\n"
          ]
        },
        {
          "name": "stderr",
          "output_type": "stream",
          "text": []
        },
        {
          "name": "stdout",
          "output_type": "stream",
          "text": [
            "Ordinary Epoch [108/300], Step [1/83] Loss: 0.2064\n"
          ]
        },
        {
          "name": "stderr",
          "output_type": "stream",
          "text": [
            "83it [00:45,  1.82it/s]\n",
            " 36%|███▌      | 108/300 [1:43:04<3:01:09, 56.61s/it]"
          ]
        },
        {
          "name": "stdout",
          "output_type": "stream",
          "text": [
            "Test Accuracy of NN: 94.87951807228916 % Best: 96.53614457831326 %\n"
          ]
        },
        {
          "name": "stderr",
          "output_type": "stream",
          "text": []
        },
        {
          "name": "stdout",
          "output_type": "stream",
          "text": [
            "Ordinary Epoch [109/300], Step [1/83] Loss: 0.1734\n"
          ]
        },
        {
          "name": "stderr",
          "output_type": "stream",
          "text": [
            "83it [00:45,  1.81it/s]\n",
            " 36%|███▋      | 109/300 [1:44:01<3:00:41, 56.76s/it]"
          ]
        },
        {
          "name": "stdout",
          "output_type": "stream",
          "text": [
            "Test Accuracy of NN: 46.68674698795181 % Best: 96.53614457831326 %\n"
          ]
        },
        {
          "name": "stderr",
          "output_type": "stream",
          "text": []
        },
        {
          "name": "stdout",
          "output_type": "stream",
          "text": [
            "Ordinary Epoch [110/300], Step [1/83] Loss: 0.0547\n"
          ]
        },
        {
          "name": "stderr",
          "output_type": "stream",
          "text": [
            "83it [00:44,  1.85it/s]\n",
            " 37%|███▋      | 110/300 [1:44:57<2:59:07, 56.56s/it]"
          ]
        },
        {
          "name": "stdout",
          "output_type": "stream",
          "text": [
            "Test Accuracy of NN: 91.41566265060241 % Best: 96.53614457831326 %\n"
          ]
        },
        {
          "name": "stderr",
          "output_type": "stream",
          "text": []
        },
        {
          "name": "stdout",
          "output_type": "stream",
          "text": [
            "Ordinary Epoch [111/300], Step [1/83] Loss: 0.0656\n"
          ]
        },
        {
          "name": "stderr",
          "output_type": "stream",
          "text": [
            "83it [00:44,  1.86it/s]\n",
            " 37%|███▋      | 111/300 [1:45:53<2:57:27, 56.34s/it]"
          ]
        },
        {
          "name": "stdout",
          "output_type": "stream",
          "text": [
            "Test Accuracy of NN: 46.68674698795181 % Best: 96.53614457831326 %\n"
          ]
        },
        {
          "name": "stderr",
          "output_type": "stream",
          "text": []
        },
        {
          "name": "stdout",
          "output_type": "stream",
          "text": [
            "Ordinary Epoch [112/300], Step [1/83] Loss: 0.0783\n"
          ]
        },
        {
          "name": "stderr",
          "output_type": "stream",
          "text": [
            "83it [00:45,  1.84it/s]\n",
            " 37%|███▋      | 112/300 [1:46:50<2:56:27, 56.32s/it]"
          ]
        },
        {
          "name": "stdout",
          "output_type": "stream",
          "text": [
            "Test Accuracy of NN: 93.82530120481928 % Best: 96.53614457831326 %\n"
          ]
        },
        {
          "name": "stderr",
          "output_type": "stream",
          "text": []
        },
        {
          "name": "stdout",
          "output_type": "stream",
          "text": [
            "Ordinary Epoch [113/300], Step [1/83] Loss: 0.0724\n"
          ]
        },
        {
          "name": "stderr",
          "output_type": "stream",
          "text": [
            "83it [00:44,  1.86it/s]\n",
            " 38%|███▊      | 113/300 [1:47:45<2:55:11, 56.21s/it]"
          ]
        },
        {
          "name": "stdout",
          "output_type": "stream",
          "text": [
            "Test Accuracy of NN: 94.57831325301204 % Best: 96.53614457831326 %\n"
          ]
        },
        {
          "name": "stderr",
          "output_type": "stream",
          "text": []
        },
        {
          "name": "stdout",
          "output_type": "stream",
          "text": [
            "Ordinary Epoch [114/300], Step [1/83] Loss: 0.1238\n"
          ]
        },
        {
          "name": "stderr",
          "output_type": "stream",
          "text": [
            "83it [00:44,  1.85it/s]\n",
            " 38%|███▊      | 114/300 [1:48:42<2:54:07, 56.17s/it]"
          ]
        },
        {
          "name": "stdout",
          "output_type": "stream",
          "text": [
            "Test Accuracy of NN: 96.08433734939759 % Best: 96.53614457831326 %\n"
          ]
        },
        {
          "name": "stderr",
          "output_type": "stream",
          "text": []
        },
        {
          "name": "stdout",
          "output_type": "stream",
          "text": [
            "Ordinary Epoch [115/300], Step [1/83] Loss: 0.2894\n"
          ]
        },
        {
          "name": "stderr",
          "output_type": "stream",
          "text": [
            "83it [00:44,  1.85it/s]\n",
            " 38%|███▊      | 115/300 [1:49:38<2:53:13, 56.18s/it]"
          ]
        },
        {
          "name": "stdout",
          "output_type": "stream",
          "text": [
            "Test Accuracy of NN: 95.03012048192771 % Best: 96.53614457831326 %\n"
          ]
        },
        {
          "name": "stderr",
          "output_type": "stream",
          "text": []
        },
        {
          "name": "stdout",
          "output_type": "stream",
          "text": [
            "Ordinary Epoch [116/300], Step [1/83] Loss: 0.2613\n"
          ]
        },
        {
          "name": "stderr",
          "output_type": "stream",
          "text": [
            "83it [00:44,  1.86it/s]\n",
            " 39%|███▊      | 116/300 [1:50:34<2:51:58, 56.08s/it]"
          ]
        },
        {
          "name": "stdout",
          "output_type": "stream",
          "text": [
            "Test Accuracy of NN: 93.82530120481928 % Best: 96.53614457831326 %\n"
          ]
        },
        {
          "name": "stderr",
          "output_type": "stream",
          "text": []
        },
        {
          "name": "stdout",
          "output_type": "stream",
          "text": [
            "Ordinary Epoch [117/300], Step [1/83] Loss: 0.1695\n"
          ]
        },
        {
          "name": "stderr",
          "output_type": "stream",
          "text": [
            "83it [00:44,  1.86it/s]\n",
            " 39%|███▉      | 117/300 [1:51:29<2:50:47, 56.00s/it]"
          ]
        },
        {
          "name": "stdout",
          "output_type": "stream",
          "text": [
            "Test Accuracy of NN: 95.18072289156626 % Best: 96.53614457831326 %\n"
          ]
        },
        {
          "name": "stderr",
          "output_type": "stream",
          "text": []
        },
        {
          "name": "stdout",
          "output_type": "stream",
          "text": [
            "Ordinary Epoch [118/300], Step [1/83] Loss: 0.0993\n"
          ]
        },
        {
          "name": "stderr",
          "output_type": "stream",
          "text": [
            "83it [00:44,  1.86it/s]\n",
            " 39%|███▉      | 118/300 [1:52:25<2:49:43, 55.95s/it]"
          ]
        },
        {
          "name": "stdout",
          "output_type": "stream",
          "text": [
            "Test Accuracy of NN: 95.93373493975903 % Best: 96.53614457831326 %\n"
          ]
        },
        {
          "name": "stderr",
          "output_type": "stream",
          "text": []
        },
        {
          "name": "stdout",
          "output_type": "stream",
          "text": [
            "Ordinary Epoch [119/300], Step [1/83] Loss: 0.0334\n"
          ]
        },
        {
          "name": "stderr",
          "output_type": "stream",
          "text": [
            "83it [00:44,  1.86it/s]\n",
            " 40%|███▉      | 119/300 [1:53:21<2:48:43, 55.93s/it]"
          ]
        },
        {
          "name": "stdout",
          "output_type": "stream",
          "text": [
            "Test Accuracy of NN: 96.08433734939759 % Best: 96.53614457831326 %\n"
          ]
        },
        {
          "name": "stderr",
          "output_type": "stream",
          "text": []
        },
        {
          "name": "stdout",
          "output_type": "stream",
          "text": [
            "Ordinary Epoch [120/300], Step [1/83] Loss: 0.0418\n"
          ]
        },
        {
          "name": "stderr",
          "output_type": "stream",
          "text": [
            "83it [00:44,  1.87it/s]\n",
            " 40%|████      | 120/300 [1:54:17<2:47:41, 55.90s/it]"
          ]
        },
        {
          "name": "stdout",
          "output_type": "stream",
          "text": [
            "Test Accuracy of NN: 96.83734939759036 % (improvement)\n"
          ]
        },
        {
          "name": "stderr",
          "output_type": "stream",
          "text": []
        },
        {
          "name": "stdout",
          "output_type": "stream",
          "text": [
            "Ordinary Epoch [121/300], Step [1/83] Loss: 0.0252\n"
          ]
        },
        {
          "name": "stderr",
          "output_type": "stream",
          "text": [
            "83it [00:44,  1.85it/s]\n",
            " 40%|████      | 121/300 [1:55:13<2:46:57, 55.96s/it]"
          ]
        },
        {
          "name": "stdout",
          "output_type": "stream",
          "text": [
            "Test Accuracy of NN: 96.53614457831326 % Best: 96.83734939759037 %\n"
          ]
        },
        {
          "name": "stderr",
          "output_type": "stream",
          "text": []
        },
        {
          "name": "stdout",
          "output_type": "stream",
          "text": [
            "Ordinary Epoch [122/300], Step [1/83] Loss: 0.0110\n"
          ]
        },
        {
          "name": "stderr",
          "output_type": "stream",
          "text": [
            "83it [00:44,  1.86it/s]\n",
            " 41%|████      | 122/300 [1:56:09<2:45:54, 55.93s/it]"
          ]
        },
        {
          "name": "stdout",
          "output_type": "stream",
          "text": [
            "Test Accuracy of NN: 95.93373493975903 % Best: 96.83734939759037 %\n"
          ]
        },
        {
          "name": "stderr",
          "output_type": "stream",
          "text": []
        },
        {
          "name": "stdout",
          "output_type": "stream",
          "text": [
            "Ordinary Epoch [123/300], Step [1/83] Loss: 0.0374\n"
          ]
        },
        {
          "name": "stderr",
          "output_type": "stream",
          "text": [
            "83it [00:44,  1.86it/s]\n",
            " 41%|████      | 123/300 [1:57:05<2:44:57, 55.92s/it]"
          ]
        },
        {
          "name": "stdout",
          "output_type": "stream",
          "text": [
            "Test Accuracy of NN: 90.36144578313252 % Best: 96.83734939759037 %\n"
          ]
        },
        {
          "name": "stderr",
          "output_type": "stream",
          "text": []
        },
        {
          "name": "stdout",
          "output_type": "stream",
          "text": [
            "Ordinary Epoch [124/300], Step [1/83] Loss: 0.2529\n"
          ]
        },
        {
          "name": "stderr",
          "output_type": "stream",
          "text": [
            "83it [00:44,  1.86it/s]\n",
            " 41%|████▏     | 124/300 [1:58:01<2:43:57, 55.90s/it]"
          ]
        },
        {
          "name": "stdout",
          "output_type": "stream",
          "text": [
            "Test Accuracy of NN: 59.48795180722892 % Best: 96.83734939759037 %\n"
          ]
        },
        {
          "name": "stderr",
          "output_type": "stream",
          "text": []
        },
        {
          "name": "stdout",
          "output_type": "stream",
          "text": [
            "Ordinary Epoch [125/300], Step [1/83] Loss: 0.0810\n"
          ]
        },
        {
          "name": "stderr",
          "output_type": "stream",
          "text": [
            "83it [00:44,  1.84it/s]\n",
            " 42%|████▏     | 125/300 [1:58:57<2:43:16, 55.98s/it]"
          ]
        },
        {
          "name": "stdout",
          "output_type": "stream",
          "text": [
            "Test Accuracy of NN: 83.8855421686747 % Best: 96.83734939759037 %\n"
          ]
        },
        {
          "name": "stderr",
          "output_type": "stream",
          "text": []
        },
        {
          "name": "stdout",
          "output_type": "stream",
          "text": [
            "Ordinary Epoch [126/300], Step [1/83] Loss: 0.0258\n"
          ]
        },
        {
          "name": "stderr",
          "output_type": "stream",
          "text": [
            "83it [00:44,  1.88it/s]\n",
            " 42%|████▏     | 126/300 [1:59:52<2:41:50, 55.81s/it]"
          ]
        },
        {
          "name": "stdout",
          "output_type": "stream",
          "text": [
            "Test Accuracy of NN: 96.08433734939759 % Best: 96.83734939759037 %\n"
          ]
        },
        {
          "name": "stderr",
          "output_type": "stream",
          "text": []
        },
        {
          "name": "stdout",
          "output_type": "stream",
          "text": [
            "Ordinary Epoch [127/300], Step [1/83] Loss: 0.0702\n"
          ]
        },
        {
          "name": "stderr",
          "output_type": "stream",
          "text": [
            "83it [00:43,  1.89it/s]\n",
            " 42%|████▏     | 127/300 [2:00:47<2:40:20, 55.61s/it]"
          ]
        },
        {
          "name": "stdout",
          "output_type": "stream",
          "text": [
            "Test Accuracy of NN: 93.97590361445783 % Best: 96.83734939759037 %\n"
          ]
        },
        {
          "name": "stderr",
          "output_type": "stream",
          "text": []
        },
        {
          "name": "stdout",
          "output_type": "stream",
          "text": [
            "Ordinary Epoch [128/300], Step [1/83] Loss: 0.0393\n"
          ]
        },
        {
          "name": "stderr",
          "output_type": "stream",
          "text": [
            "83it [00:44,  1.86it/s]\n",
            " 43%|████▎     | 128/300 [2:01:43<2:39:43, 55.72s/it]"
          ]
        },
        {
          "name": "stdout",
          "output_type": "stream",
          "text": [
            "Test Accuracy of NN: 95.33132530120481 % Best: 96.83734939759037 %\n"
          ]
        },
        {
          "name": "stderr",
          "output_type": "stream",
          "text": []
        },
        {
          "name": "stdout",
          "output_type": "stream",
          "text": [
            "Ordinary Epoch [129/300], Step [1/83] Loss: 0.0124\n"
          ]
        },
        {
          "name": "stderr",
          "output_type": "stream",
          "text": [
            "83it [00:43,  1.89it/s]\n",
            " 43%|████▎     | 129/300 [2:02:39<2:38:22, 55.57s/it]"
          ]
        },
        {
          "name": "stdout",
          "output_type": "stream",
          "text": [
            "Test Accuracy of NN: 96.08433734939759 % Best: 96.83734939759037 %\n"
          ]
        },
        {
          "name": "stderr",
          "output_type": "stream",
          "text": []
        },
        {
          "name": "stdout",
          "output_type": "stream",
          "text": [
            "Ordinary Epoch [130/300], Step [1/83] Loss: 0.0470\n"
          ]
        },
        {
          "name": "stderr",
          "output_type": "stream",
          "text": [
            "83it [00:44,  1.89it/s]\n",
            " 43%|████▎     | 130/300 [2:03:34<2:37:16, 55.51s/it]"
          ]
        },
        {
          "name": "stdout",
          "output_type": "stream",
          "text": [
            "Test Accuracy of NN: 55.5722891566265 % Best: 96.83734939759037 %\n"
          ]
        },
        {
          "name": "stderr",
          "output_type": "stream",
          "text": []
        },
        {
          "name": "stdout",
          "output_type": "stream",
          "text": [
            "Ordinary Epoch [131/300], Step [1/83] Loss: 0.1579\n"
          ]
        },
        {
          "name": "stderr",
          "output_type": "stream",
          "text": [
            "83it [00:44,  1.88it/s]\n",
            " 44%|████▎     | 131/300 [2:04:29<2:36:17, 55.49s/it]"
          ]
        },
        {
          "name": "stdout",
          "output_type": "stream",
          "text": [
            "Test Accuracy of NN: 53.31325301204819 % Best: 96.83734939759037 %\n"
          ]
        },
        {
          "name": "stderr",
          "output_type": "stream",
          "text": []
        },
        {
          "name": "stdout",
          "output_type": "stream",
          "text": [
            "Ordinary Epoch [132/300], Step [1/83] Loss: 0.0535\n"
          ]
        },
        {
          "name": "stderr",
          "output_type": "stream",
          "text": [
            "83it [00:44,  1.88it/s]\n",
            " 44%|████▍     | 132/300 [2:05:25<2:35:17, 55.46s/it]"
          ]
        },
        {
          "name": "stdout",
          "output_type": "stream",
          "text": [
            "Test Accuracy of NN: 95.03012048192771 % Best: 96.83734939759037 %\n"
          ]
        },
        {
          "name": "stderr",
          "output_type": "stream",
          "text": []
        },
        {
          "name": "stdout",
          "output_type": "stream",
          "text": [
            "Ordinary Epoch [133/300], Step [1/83] Loss: 0.3052\n"
          ]
        },
        {
          "name": "stderr",
          "output_type": "stream",
          "text": [
            "83it [00:44,  1.87it/s]\n",
            " 44%|████▍     | 133/300 [2:06:20<2:34:27, 55.50s/it]"
          ]
        },
        {
          "name": "stdout",
          "output_type": "stream",
          "text": [
            "Test Accuracy of NN: 95.63253012048193 % Best: 96.83734939759037 %\n"
          ]
        },
        {
          "name": "stderr",
          "output_type": "stream",
          "text": []
        },
        {
          "name": "stdout",
          "output_type": "stream",
          "text": [
            "Ordinary Epoch [134/300], Step [1/83] Loss: 0.1821\n"
          ]
        },
        {
          "name": "stderr",
          "output_type": "stream",
          "text": [
            "83it [00:43,  1.89it/s]\n",
            " 45%|████▍     | 134/300 [2:07:15<2:33:12, 55.38s/it]"
          ]
        },
        {
          "name": "stdout",
          "output_type": "stream",
          "text": [
            "Test Accuracy of NN: 73.3433734939759 % Best: 96.83734939759037 %\n"
          ]
        },
        {
          "name": "stderr",
          "output_type": "stream",
          "text": []
        },
        {
          "name": "stdout",
          "output_type": "stream",
          "text": [
            "Ordinary Epoch [135/300], Step [1/83] Loss: 0.0449\n"
          ]
        },
        {
          "name": "stderr",
          "output_type": "stream",
          "text": [
            "83it [00:44,  1.88it/s]\n",
            " 45%|████▌     | 135/300 [2:08:11<2:32:21, 55.40s/it]"
          ]
        },
        {
          "name": "stdout",
          "output_type": "stream",
          "text": [
            "Test Accuracy of NN: 94.7289156626506 % Best: 96.83734939759037 %\n"
          ]
        },
        {
          "name": "stderr",
          "output_type": "stream",
          "text": []
        },
        {
          "name": "stdout",
          "output_type": "stream",
          "text": [
            "Ordinary Epoch [136/300], Step [1/83] Loss: 0.0291\n"
          ]
        },
        {
          "name": "stderr",
          "output_type": "stream",
          "text": [
            "83it [00:44,  1.87it/s]\n",
            " 45%|████▌     | 136/300 [2:09:06<2:31:30, 55.43s/it]"
          ]
        },
        {
          "name": "stdout",
          "output_type": "stream",
          "text": [
            "Test Accuracy of NN: 51.204819277108435 % Best: 96.83734939759037 %\n"
          ]
        },
        {
          "name": "stderr",
          "output_type": "stream",
          "text": []
        },
        {
          "name": "stdout",
          "output_type": "stream",
          "text": [
            "Ordinary Epoch [137/300], Step [1/83] Loss: 0.1605\n"
          ]
        },
        {
          "name": "stderr",
          "output_type": "stream",
          "text": [
            "83it [00:44,  1.86it/s]\n",
            " 46%|████▌     | 137/300 [2:10:02<2:30:48, 55.51s/it]"
          ]
        },
        {
          "name": "stdout",
          "output_type": "stream",
          "text": [
            "Test Accuracy of NN: 94.42771084337349 % Best: 96.83734939759037 %\n"
          ]
        },
        {
          "name": "stderr",
          "output_type": "stream",
          "text": []
        },
        {
          "name": "stdout",
          "output_type": "stream",
          "text": [
            "Ordinary Epoch [138/300], Step [1/83] Loss: 0.1916\n"
          ]
        },
        {
          "name": "stderr",
          "output_type": "stream",
          "text": [
            "83it [00:44,  1.88it/s]\n",
            " 46%|████▌     | 138/300 [2:10:58<2:29:50, 55.50s/it]"
          ]
        },
        {
          "name": "stdout",
          "output_type": "stream",
          "text": [
            "Test Accuracy of NN: 90.8132530120482 % Best: 96.83734939759037 %\n"
          ]
        },
        {
          "name": "stderr",
          "output_type": "stream",
          "text": []
        },
        {
          "name": "stdout",
          "output_type": "stream",
          "text": [
            "Ordinary Epoch [139/300], Step [1/83] Loss: 0.0582\n"
          ]
        },
        {
          "name": "stderr",
          "output_type": "stream",
          "text": [
            "83it [00:44,  1.88it/s]\n",
            " 46%|████▋     | 139/300 [2:11:53<2:28:45, 55.44s/it]"
          ]
        },
        {
          "name": "stdout",
          "output_type": "stream",
          "text": [
            "Test Accuracy of NN: 84.03614457831326 % Best: 96.83734939759037 %\n"
          ]
        },
        {
          "name": "stderr",
          "output_type": "stream",
          "text": []
        },
        {
          "name": "stdout",
          "output_type": "stream",
          "text": [
            "Ordinary Epoch [140/300], Step [1/83] Loss: 0.1132\n"
          ]
        },
        {
          "name": "stderr",
          "output_type": "stream",
          "text": [
            "83it [00:44,  1.87it/s]\n",
            " 47%|████▋     | 140/300 [2:12:48<2:27:57, 55.48s/it]"
          ]
        },
        {
          "name": "stdout",
          "output_type": "stream",
          "text": [
            "Test Accuracy of NN: 55.2710843373494 % Best: 96.83734939759037 %\n"
          ]
        },
        {
          "name": "stderr",
          "output_type": "stream",
          "text": []
        },
        {
          "name": "stdout",
          "output_type": "stream",
          "text": [
            "Ordinary Epoch [141/300], Step [1/83] Loss: 0.0269\n"
          ]
        },
        {
          "name": "stderr",
          "output_type": "stream",
          "text": [
            "83it [00:44,  1.88it/s]\n",
            " 47%|████▋     | 141/300 [2:13:44<2:26:55, 55.44s/it]"
          ]
        },
        {
          "name": "stdout",
          "output_type": "stream",
          "text": [
            "Test Accuracy of NN: 95.48192771084338 % Best: 96.83734939759037 %\n"
          ]
        },
        {
          "name": "stderr",
          "output_type": "stream",
          "text": []
        },
        {
          "name": "stdout",
          "output_type": "stream",
          "text": [
            "Ordinary Epoch [142/300], Step [1/83] Loss: 0.0299\n"
          ]
        },
        {
          "name": "stderr",
          "output_type": "stream",
          "text": [
            "83it [00:44,  1.88it/s]\n",
            " 47%|████▋     | 142/300 [2:14:39<2:25:56, 55.42s/it]"
          ]
        },
        {
          "name": "stdout",
          "output_type": "stream",
          "text": [
            "Test Accuracy of NN: 86.29518072289157 % Best: 96.83734939759037 %\n"
          ]
        },
        {
          "name": "stderr",
          "output_type": "stream",
          "text": []
        },
        {
          "name": "stdout",
          "output_type": "stream",
          "text": [
            "Ordinary Epoch [143/300], Step [1/83] Loss: 0.0575\n"
          ]
        },
        {
          "name": "stderr",
          "output_type": "stream",
          "text": [
            "83it [00:44,  1.87it/s]\n",
            " 48%|████▊     | 143/300 [2:15:35<2:25:03, 55.44s/it]"
          ]
        },
        {
          "name": "stdout",
          "output_type": "stream",
          "text": [
            "Test Accuracy of NN: 95.03012048192771 % Best: 96.83734939759037 %\n"
          ]
        },
        {
          "name": "stderr",
          "output_type": "stream",
          "text": []
        },
        {
          "name": "stdout",
          "output_type": "stream",
          "text": [
            "Ordinary Epoch [144/300], Step [1/83] Loss: 0.0768\n"
          ]
        },
        {
          "name": "stderr",
          "output_type": "stream",
          "text": [
            "83it [00:44,  1.87it/s]\n",
            " 48%|████▊     | 144/300 [2:16:30<2:24:04, 55.41s/it]"
          ]
        },
        {
          "name": "stdout",
          "output_type": "stream",
          "text": [
            "Test Accuracy of NN: 95.78313253012048 % Best: 96.83734939759037 %\n"
          ]
        },
        {
          "name": "stderr",
          "output_type": "stream",
          "text": []
        },
        {
          "name": "stdout",
          "output_type": "stream",
          "text": [
            "Ordinary Epoch [145/300], Step [1/83] Loss: 0.0231\n"
          ]
        },
        {
          "name": "stderr",
          "output_type": "stream",
          "text": [
            "83it [00:43,  1.89it/s]\n",
            " 48%|████▊     | 145/300 [2:17:25<2:22:57, 55.34s/it]"
          ]
        },
        {
          "name": "stdout",
          "output_type": "stream",
          "text": [
            "Test Accuracy of NN: 96.23493975903614 % Best: 96.83734939759037 %\n"
          ]
        },
        {
          "name": "stderr",
          "output_type": "stream",
          "text": []
        },
        {
          "name": "stdout",
          "output_type": "stream",
          "text": [
            "Ordinary Epoch [146/300], Step [1/83] Loss: 0.0172\n"
          ]
        },
        {
          "name": "stderr",
          "output_type": "stream",
          "text": [
            "83it [00:44,  1.87it/s]\n",
            " 49%|████▊     | 146/300 [2:18:21<2:22:20, 55.46s/it]"
          ]
        },
        {
          "name": "stdout",
          "output_type": "stream",
          "text": [
            "Test Accuracy of NN: 90.51204819277109 % Best: 96.83734939759037 %\n"
          ]
        },
        {
          "name": "stderr",
          "output_type": "stream",
          "text": []
        },
        {
          "name": "stdout",
          "output_type": "stream",
          "text": [
            "Ordinary Epoch [147/300], Step [1/83] Loss: 0.0432\n"
          ]
        },
        {
          "name": "stderr",
          "output_type": "stream",
          "text": [
            "83it [00:43,  1.89it/s]\n",
            " 49%|████▉     | 147/300 [2:19:16<2:21:11, 55.37s/it]"
          ]
        },
        {
          "name": "stdout",
          "output_type": "stream",
          "text": [
            "Test Accuracy of NN: 94.27710843373494 % Best: 96.83734939759037 %\n"
          ]
        },
        {
          "name": "stderr",
          "output_type": "stream",
          "text": []
        },
        {
          "name": "stdout",
          "output_type": "stream",
          "text": [
            "Ordinary Epoch [148/300], Step [1/83] Loss: 0.1435\n"
          ]
        },
        {
          "name": "stderr",
          "output_type": "stream",
          "text": [
            "83it [00:43,  1.89it/s]\n",
            " 49%|████▉     | 148/300 [2:20:11<2:20:13, 55.35s/it]"
          ]
        },
        {
          "name": "stdout",
          "output_type": "stream",
          "text": [
            "Test Accuracy of NN: 86.29518072289157 % Best: 96.83734939759037 %\n"
          ]
        },
        {
          "name": "stderr",
          "output_type": "stream",
          "text": []
        },
        {
          "name": "stdout",
          "output_type": "stream",
          "text": [
            "Ordinary Epoch [149/300], Step [1/83] Loss: 0.0710\n"
          ]
        },
        {
          "name": "stderr",
          "output_type": "stream",
          "text": [
            "83it [00:43,  1.89it/s]\n",
            " 50%|████▉     | 149/300 [2:21:06<2:19:02, 55.25s/it]"
          ]
        },
        {
          "name": "stdout",
          "output_type": "stream",
          "text": [
            "Test Accuracy of NN: 96.23493975903614 % Best: 96.83734939759037 %\n"
          ]
        },
        {
          "name": "stderr",
          "output_type": "stream",
          "text": []
        },
        {
          "name": "stdout",
          "output_type": "stream",
          "text": [
            "Ordinary Epoch [150/300], Step [1/83] Loss: 0.0341\n"
          ]
        },
        {
          "name": "stderr",
          "output_type": "stream",
          "text": [
            "83it [00:44,  1.88it/s]\n",
            " 50%|█████     | 150/300 [2:22:02<2:18:21, 55.34s/it]"
          ]
        },
        {
          "name": "stdout",
          "output_type": "stream",
          "text": [
            "Test Accuracy of NN: 92.16867469879519 % Best: 96.83734939759037 %\n"
          ]
        },
        {
          "name": "stderr",
          "output_type": "stream",
          "text": []
        },
        {
          "name": "stdout",
          "output_type": "stream",
          "text": [
            "Ordinary Epoch [151/300], Step [1/83] Loss: 0.0147\n"
          ]
        },
        {
          "name": "stderr",
          "output_type": "stream",
          "text": [
            "83it [00:43,  1.89it/s]\n",
            " 50%|█████     | 151/300 [2:22:57<2:17:13, 55.26s/it]"
          ]
        },
        {
          "name": "stdout",
          "output_type": "stream",
          "text": [
            "Test Accuracy of NN: 95.18072289156626 % Best: 96.83734939759037 %\n"
          ]
        },
        {
          "name": "stderr",
          "output_type": "stream",
          "text": []
        },
        {
          "name": "stdout",
          "output_type": "stream",
          "text": [
            "Ordinary Epoch [152/300], Step [1/83] Loss: 0.0359\n"
          ]
        },
        {
          "name": "stderr",
          "output_type": "stream",
          "text": [
            "83it [00:44,  1.88it/s]\n",
            " 51%|█████     | 152/300 [2:23:52<2:16:19, 55.27s/it]"
          ]
        },
        {
          "name": "stdout",
          "output_type": "stream",
          "text": [
            "Test Accuracy of NN: 91.71686746987952 % Best: 96.83734939759037 %\n"
          ]
        },
        {
          "name": "stderr",
          "output_type": "stream",
          "text": []
        },
        {
          "name": "stdout",
          "output_type": "stream",
          "text": [
            "Ordinary Epoch [153/300], Step [1/83] Loss: 0.0087\n"
          ]
        },
        {
          "name": "stderr",
          "output_type": "stream",
          "text": [
            "83it [00:44,  1.88it/s]\n",
            " 51%|█████     | 153/300 [2:24:48<2:15:31, 55.31s/it]"
          ]
        },
        {
          "name": "stdout",
          "output_type": "stream",
          "text": [
            "Test Accuracy of NN: 95.18072289156626 % Best: 96.83734939759037 %\n"
          ]
        },
        {
          "name": "stderr",
          "output_type": "stream",
          "text": []
        },
        {
          "name": "stdout",
          "output_type": "stream",
          "text": [
            "Ordinary Epoch [154/300], Step [1/83] Loss: 0.0651\n"
          ]
        },
        {
          "name": "stderr",
          "output_type": "stream",
          "text": [
            "83it [00:44,  1.88it/s]\n",
            " 51%|█████▏    | 154/300 [2:25:43<2:14:44, 55.37s/it]"
          ]
        },
        {
          "name": "stdout",
          "output_type": "stream",
          "text": [
            "Test Accuracy of NN: 94.87951807228916 % Best: 96.83734939759037 %\n"
          ]
        },
        {
          "name": "stderr",
          "output_type": "stream",
          "text": []
        },
        {
          "name": "stdout",
          "output_type": "stream",
          "text": [
            "Ordinary Epoch [155/300], Step [1/83] Loss: 0.0113\n"
          ]
        },
        {
          "name": "stderr",
          "output_type": "stream",
          "text": [
            "83it [00:44,  1.88it/s]\n",
            " 52%|█████▏    | 155/300 [2:26:39<2:13:48, 55.37s/it]"
          ]
        },
        {
          "name": "stdout",
          "output_type": "stream",
          "text": [
            "Test Accuracy of NN: 95.93373493975903 % Best: 96.83734939759037 %\n"
          ]
        },
        {
          "name": "stderr",
          "output_type": "stream",
          "text": []
        },
        {
          "name": "stdout",
          "output_type": "stream",
          "text": [
            "Ordinary Epoch [156/300], Step [1/83] Loss: 0.0083\n"
          ]
        },
        {
          "name": "stderr",
          "output_type": "stream",
          "text": [
            "83it [00:44,  1.89it/s]\n",
            " 52%|█████▏    | 156/300 [2:27:34<2:12:49, 55.34s/it]"
          ]
        },
        {
          "name": "stdout",
          "output_type": "stream",
          "text": [
            "Test Accuracy of NN: 96.3855421686747 % Best: 96.83734939759037 %\n"
          ]
        },
        {
          "name": "stderr",
          "output_type": "stream",
          "text": []
        },
        {
          "name": "stdout",
          "output_type": "stream",
          "text": [
            "Ordinary Epoch [157/300], Step [1/83] Loss: 0.0057\n"
          ]
        },
        {
          "name": "stderr",
          "output_type": "stream",
          "text": [
            "83it [00:44,  1.87it/s]\n",
            " 52%|█████▏    | 157/300 [2:28:29<2:12:02, 55.40s/it]"
          ]
        },
        {
          "name": "stdout",
          "output_type": "stream",
          "text": [
            "Test Accuracy of NN: 95.63253012048193 % Best: 96.83734939759037 %\n"
          ]
        },
        {
          "name": "stderr",
          "output_type": "stream",
          "text": []
        },
        {
          "name": "stdout",
          "output_type": "stream",
          "text": [
            "Ordinary Epoch [158/300], Step [1/83] Loss: 0.0025\n"
          ]
        },
        {
          "name": "stderr",
          "output_type": "stream",
          "text": [
            "83it [00:44,  1.88it/s]\n",
            " 53%|█████▎    | 158/300 [2:29:25<2:11:05, 55.39s/it]"
          ]
        },
        {
          "name": "stdout",
          "output_type": "stream",
          "text": [
            "Test Accuracy of NN: 96.08433734939759 % Best: 96.83734939759037 %\n"
          ]
        },
        {
          "name": "stderr",
          "output_type": "stream",
          "text": []
        },
        {
          "name": "stdout",
          "output_type": "stream",
          "text": [
            "Ordinary Epoch [159/300], Step [1/83] Loss: 0.0687\n"
          ]
        },
        {
          "name": "stderr",
          "output_type": "stream",
          "text": [
            "83it [00:43,  1.89it/s]\n",
            " 53%|█████▎    | 159/300 [2:30:20<2:10:04, 55.35s/it]"
          ]
        },
        {
          "name": "stdout",
          "output_type": "stream",
          "text": [
            "Test Accuracy of NN: 96.53614457831326 % Best: 96.83734939759037 %\n"
          ]
        },
        {
          "name": "stderr",
          "output_type": "stream",
          "text": []
        },
        {
          "name": "stdout",
          "output_type": "stream",
          "text": [
            "Ordinary Epoch [160/300], Step [1/83] Loss: 0.0532\n"
          ]
        },
        {
          "name": "stderr",
          "output_type": "stream",
          "text": [
            "83it [00:43,  1.90it/s]\n",
            " 53%|█████▎    | 160/300 [2:31:15<2:08:50, 55.22s/it]"
          ]
        },
        {
          "name": "stdout",
          "output_type": "stream",
          "text": [
            "Test Accuracy of NN: 96.08433734939759 % Best: 96.83734939759037 %\n"
          ]
        },
        {
          "name": "stderr",
          "output_type": "stream",
          "text": []
        },
        {
          "name": "stdout",
          "output_type": "stream",
          "text": [
            "Ordinary Epoch [161/300], Step [1/83] Loss: 0.0287\n"
          ]
        },
        {
          "name": "stderr",
          "output_type": "stream",
          "text": [
            "83it [00:44,  1.88it/s]\n",
            " 54%|█████▎    | 161/300 [2:32:10<2:08:02, 55.27s/it]"
          ]
        },
        {
          "name": "stdout",
          "output_type": "stream",
          "text": [
            "Test Accuracy of NN: 96.08433734939759 % Best: 96.83734939759037 %\n"
          ]
        },
        {
          "name": "stderr",
          "output_type": "stream",
          "text": []
        },
        {
          "name": "stdout",
          "output_type": "stream",
          "text": [
            "Ordinary Epoch [162/300], Step [1/83] Loss: 0.0087\n"
          ]
        },
        {
          "name": "stderr",
          "output_type": "stream",
          "text": [
            "83it [00:44,  1.87it/s]\n",
            " 54%|█████▍    | 162/300 [2:33:06<2:07:20, 55.37s/it]"
          ]
        },
        {
          "name": "stdout",
          "output_type": "stream",
          "text": [
            "Test Accuracy of NN: 93.22289156626506 % Best: 96.83734939759037 %\n"
          ]
        },
        {
          "name": "stderr",
          "output_type": "stream",
          "text": []
        },
        {
          "name": "stdout",
          "output_type": "stream",
          "text": [
            "Ordinary Epoch [163/300], Step [1/83] Loss: 0.0855\n"
          ]
        },
        {
          "name": "stderr",
          "output_type": "stream",
          "text": [
            "83it [00:44,  1.88it/s]\n",
            " 54%|█████▍    | 163/300 [2:34:01<2:06:23, 55.35s/it]"
          ]
        },
        {
          "name": "stdout",
          "output_type": "stream",
          "text": [
            "Test Accuracy of NN: 96.53614457831326 % Best: 96.83734939759037 %\n"
          ]
        },
        {
          "name": "stderr",
          "output_type": "stream",
          "text": []
        },
        {
          "name": "stdout",
          "output_type": "stream",
          "text": [
            "Ordinary Epoch [164/300], Step [1/83] Loss: 0.1584\n"
          ]
        },
        {
          "name": "stderr",
          "output_type": "stream",
          "text": [
            "83it [00:44,  1.87it/s]\n",
            " 55%|█████▍    | 164/300 [2:34:57<2:05:36, 55.42s/it]"
          ]
        },
        {
          "name": "stdout",
          "output_type": "stream",
          "text": [
            "Test Accuracy of NN: 91.86746987951807 % Best: 96.83734939759037 %\n"
          ]
        },
        {
          "name": "stderr",
          "output_type": "stream",
          "text": []
        },
        {
          "name": "stdout",
          "output_type": "stream",
          "text": [
            "Ordinary Epoch [165/300], Step [1/83] Loss: 0.0100\n"
          ]
        },
        {
          "name": "stderr",
          "output_type": "stream",
          "text": [
            "83it [00:44,  1.88it/s]\n",
            " 55%|█████▌    | 165/300 [2:35:52<2:04:38, 55.40s/it]"
          ]
        },
        {
          "name": "stdout",
          "output_type": "stream",
          "text": [
            "Test Accuracy of NN: 96.08433734939759 % Best: 96.83734939759037 %\n"
          ]
        },
        {
          "name": "stderr",
          "output_type": "stream",
          "text": []
        },
        {
          "name": "stdout",
          "output_type": "stream",
          "text": [
            "Ordinary Epoch [166/300], Step [1/83] Loss: 0.0269\n"
          ]
        },
        {
          "name": "stderr",
          "output_type": "stream",
          "text": [
            "83it [00:44,  1.88it/s]\n",
            " 55%|█████▌    | 166/300 [2:36:48<2:03:44, 55.40s/it]"
          ]
        },
        {
          "name": "stdout",
          "output_type": "stream",
          "text": [
            "Test Accuracy of NN: 96.6867469879518 % Best: 96.83734939759037 %\n"
          ]
        },
        {
          "name": "stderr",
          "output_type": "stream",
          "text": []
        },
        {
          "name": "stdout",
          "output_type": "stream",
          "text": [
            "Ordinary Epoch [167/300], Step [1/83] Loss: 0.0159\n"
          ]
        },
        {
          "name": "stderr",
          "output_type": "stream",
          "text": [
            "83it [00:44,  1.88it/s]\n",
            " 56%|█████▌    | 167/300 [2:37:43<2:02:53, 55.44s/it]"
          ]
        },
        {
          "name": "stdout",
          "output_type": "stream",
          "text": [
            "Test Accuracy of NN: 89.4578313253012 % Best: 96.83734939759037 %\n"
          ]
        },
        {
          "name": "stderr",
          "output_type": "stream",
          "text": []
        },
        {
          "name": "stdout",
          "output_type": "stream",
          "text": [
            "Ordinary Epoch [168/300], Step [1/83] Loss: 0.0058\n"
          ]
        },
        {
          "name": "stderr",
          "output_type": "stream",
          "text": [
            "83it [00:44,  1.88it/s]\n",
            " 56%|█████▌    | 168/300 [2:38:39<2:01:57, 55.44s/it]"
          ]
        },
        {
          "name": "stdout",
          "output_type": "stream",
          "text": [
            "Test Accuracy of NN: 96.3855421686747 % Best: 96.83734939759037 %\n"
          ]
        },
        {
          "name": "stderr",
          "output_type": "stream",
          "text": []
        },
        {
          "name": "stdout",
          "output_type": "stream",
          "text": [
            "Ordinary Epoch [169/300], Step [1/83] Loss: 0.0030\n"
          ]
        },
        {
          "name": "stderr",
          "output_type": "stream",
          "text": [
            "83it [00:43,  1.89it/s]\n",
            " 56%|█████▋    | 169/300 [2:39:34<2:00:52, 55.36s/it]"
          ]
        },
        {
          "name": "stdout",
          "output_type": "stream",
          "text": [
            "Test Accuracy of NN: 86.89759036144578 % Best: 96.83734939759037 %\n"
          ]
        },
        {
          "name": "stderr",
          "output_type": "stream",
          "text": []
        },
        {
          "name": "stdout",
          "output_type": "stream",
          "text": [
            "Ordinary Epoch [170/300], Step [1/83] Loss: 0.1451\n"
          ]
        },
        {
          "name": "stderr",
          "output_type": "stream",
          "text": [
            "83it [00:44,  1.88it/s]\n",
            " 57%|█████▋    | 170/300 [2:40:29<1:59:57, 55.37s/it]"
          ]
        },
        {
          "name": "stdout",
          "output_type": "stream",
          "text": [
            "Test Accuracy of NN: 93.97590361445783 % Best: 96.83734939759037 %\n"
          ]
        },
        {
          "name": "stderr",
          "output_type": "stream",
          "text": []
        },
        {
          "name": "stdout",
          "output_type": "stream",
          "text": [
            "Ordinary Epoch [171/300], Step [1/83] Loss: 0.0472\n"
          ]
        },
        {
          "name": "stderr",
          "output_type": "stream",
          "text": [
            "83it [00:44,  1.87it/s]\n",
            " 57%|█████▋    | 171/300 [2:41:25<1:59:19, 55.50s/it]"
          ]
        },
        {
          "name": "stdout",
          "output_type": "stream",
          "text": [
            "Test Accuracy of NN: 94.7289156626506 % Best: 96.83734939759037 %\n"
          ]
        },
        {
          "name": "stderr",
          "output_type": "stream",
          "text": []
        },
        {
          "name": "stdout",
          "output_type": "stream",
          "text": [
            "Ordinary Epoch [172/300], Step [1/83] Loss: 0.0493\n"
          ]
        },
        {
          "name": "stderr",
          "output_type": "stream",
          "text": [
            "83it [00:45,  1.84it/s]\n",
            " 57%|█████▋    | 172/300 [2:42:21<1:58:57, 55.76s/it]"
          ]
        },
        {
          "name": "stdout",
          "output_type": "stream",
          "text": [
            "Test Accuracy of NN: 95.33132530120481 % Best: 96.83734939759037 %\n"
          ]
        },
        {
          "name": "stderr",
          "output_type": "stream",
          "text": []
        },
        {
          "name": "stdout",
          "output_type": "stream",
          "text": [
            "Ordinary Epoch [173/300], Step [1/83] Loss: 0.0020\n"
          ]
        },
        {
          "name": "stderr",
          "output_type": "stream",
          "text": [
            "83it [00:43,  1.89it/s]\n",
            " 58%|█████▊    | 173/300 [2:43:16<1:57:36, 55.56s/it]"
          ]
        },
        {
          "name": "stdout",
          "output_type": "stream",
          "text": [
            "Test Accuracy of NN: 94.57831325301204 % Best: 96.83734939759037 %\n"
          ]
        },
        {
          "name": "stderr",
          "output_type": "stream",
          "text": []
        },
        {
          "name": "stdout",
          "output_type": "stream",
          "text": [
            "Ordinary Epoch [174/300], Step [1/83] Loss: 0.0098\n"
          ]
        },
        {
          "name": "stderr",
          "output_type": "stream",
          "text": [
            "83it [00:43,  1.90it/s]\n",
            " 58%|█████▊    | 174/300 [2:44:11<1:56:15, 55.36s/it]"
          ]
        },
        {
          "name": "stdout",
          "output_type": "stream",
          "text": [
            "Test Accuracy of NN: 95.48192771084338 % Best: 96.83734939759037 %\n"
          ]
        },
        {
          "name": "stderr",
          "output_type": "stream",
          "text": []
        },
        {
          "name": "stdout",
          "output_type": "stream",
          "text": [
            "Ordinary Epoch [175/300], Step [1/83] Loss: 0.2459\n"
          ]
        },
        {
          "name": "stderr",
          "output_type": "stream",
          "text": [
            "83it [00:44,  1.88it/s]\n",
            " 58%|█████▊    | 175/300 [2:45:07<1:55:21, 55.37s/it]"
          ]
        },
        {
          "name": "stdout",
          "output_type": "stream",
          "text": [
            "Test Accuracy of NN: 95.48192771084338 % Best: 96.83734939759037 %\n"
          ]
        },
        {
          "name": "stderr",
          "output_type": "stream",
          "text": []
        },
        {
          "name": "stdout",
          "output_type": "stream",
          "text": [
            "Ordinary Epoch [176/300], Step [1/83] Loss: 0.0106\n"
          ]
        },
        {
          "name": "stderr",
          "output_type": "stream",
          "text": [
            "83it [00:44,  1.88it/s]\n",
            " 59%|█████▊    | 176/300 [2:46:02<1:54:25, 55.37s/it]"
          ]
        },
        {
          "name": "stdout",
          "output_type": "stream",
          "text": [
            "Test Accuracy of NN: 91.41566265060241 % Best: 96.83734939759037 %\n"
          ]
        },
        {
          "name": "stderr",
          "output_type": "stream",
          "text": []
        },
        {
          "name": "stdout",
          "output_type": "stream",
          "text": [
            "Ordinary Epoch [177/300], Step [1/83] Loss: 0.1770\n"
          ]
        },
        {
          "name": "stderr",
          "output_type": "stream",
          "text": [
            "83it [00:44,  1.87it/s]\n",
            " 59%|█████▉    | 177/300 [2:46:58<1:53:41, 55.46s/it]"
          ]
        },
        {
          "name": "stdout",
          "output_type": "stream",
          "text": [
            "Test Accuracy of NN: 92.7710843373494 % Best: 96.83734939759037 %\n"
          ]
        },
        {
          "name": "stderr",
          "output_type": "stream",
          "text": []
        },
        {
          "name": "stdout",
          "output_type": "stream",
          "text": [
            "Ordinary Epoch [178/300], Step [1/83] Loss: 0.0069\n"
          ]
        },
        {
          "name": "stderr",
          "output_type": "stream",
          "text": [
            "83it [00:44,  1.87it/s]\n",
            " 59%|█████▉    | 178/300 [2:47:53<1:52:52, 55.52s/it]"
          ]
        },
        {
          "name": "stdout",
          "output_type": "stream",
          "text": [
            "Test Accuracy of NN: 75.45180722891567 % Best: 96.83734939759037 %\n"
          ]
        },
        {
          "name": "stderr",
          "output_type": "stream",
          "text": []
        },
        {
          "name": "stdout",
          "output_type": "stream",
          "text": [
            "Ordinary Epoch [179/300], Step [1/83] Loss: 0.0371\n"
          ]
        },
        {
          "name": "stderr",
          "output_type": "stream",
          "text": [
            "83it [00:43,  1.89it/s]\n",
            " 60%|█████▉    | 179/300 [2:48:49<1:51:44, 55.41s/it]"
          ]
        },
        {
          "name": "stdout",
          "output_type": "stream",
          "text": [
            "Test Accuracy of NN: 96.23493975903614 % Best: 96.83734939759037 %\n"
          ]
        },
        {
          "name": "stderr",
          "output_type": "stream",
          "text": []
        },
        {
          "name": "stdout",
          "output_type": "stream",
          "text": [
            "Ordinary Epoch [180/300], Step [1/83] Loss: 0.0479\n"
          ]
        },
        {
          "name": "stderr",
          "output_type": "stream",
          "text": [
            "83it [00:43,  1.89it/s]\n",
            " 60%|██████    | 180/300 [2:49:44<1:50:41, 55.35s/it]"
          ]
        },
        {
          "name": "stdout",
          "output_type": "stream",
          "text": [
            "Test Accuracy of NN: 76.20481927710843 % Best: 96.83734939759037 %\n"
          ]
        },
        {
          "name": "stderr",
          "output_type": "stream",
          "text": []
        },
        {
          "name": "stdout",
          "output_type": "stream",
          "text": [
            "Ordinary Epoch [181/300], Step [1/83] Loss: 0.0094\n"
          ]
        },
        {
          "name": "stderr",
          "output_type": "stream",
          "text": [
            "83it [00:44,  1.87it/s]\n",
            " 60%|██████    | 181/300 [2:50:39<1:49:46, 55.35s/it]"
          ]
        },
        {
          "name": "stdout",
          "output_type": "stream",
          "text": [
            "Test Accuracy of NN: 46.68674698795181 % Best: 96.83734939759037 %\n"
          ]
        },
        {
          "name": "stderr",
          "output_type": "stream",
          "text": []
        },
        {
          "name": "stdout",
          "output_type": "stream",
          "text": [
            "Ordinary Epoch [182/300], Step [1/83] Loss: 0.0341\n"
          ]
        },
        {
          "name": "stderr",
          "output_type": "stream",
          "text": [
            "83it [00:44,  1.88it/s]\n",
            " 61%|██████    | 182/300 [2:51:34<1:48:47, 55.32s/it]"
          ]
        },
        {
          "name": "stdout",
          "output_type": "stream",
          "text": [
            "Test Accuracy of NN: 95.18072289156626 % Best: 96.83734939759037 %\n"
          ]
        },
        {
          "name": "stderr",
          "output_type": "stream",
          "text": []
        },
        {
          "name": "stdout",
          "output_type": "stream",
          "text": [
            "Ordinary Epoch [183/300], Step [1/83] Loss: 0.0300\n"
          ]
        },
        {
          "name": "stderr",
          "output_type": "stream",
          "text": [
            "83it [00:44,  1.88it/s]\n",
            " 61%|██████    | 183/300 [2:52:30<1:47:53, 55.33s/it]"
          ]
        },
        {
          "name": "stdout",
          "output_type": "stream",
          "text": [
            "Test Accuracy of NN: 95.63253012048193 % Best: 96.83734939759037 %\n"
          ]
        },
        {
          "name": "stderr",
          "output_type": "stream",
          "text": []
        },
        {
          "name": "stdout",
          "output_type": "stream",
          "text": [
            "Ordinary Epoch [184/300], Step [1/83] Loss: 0.0231\n"
          ]
        },
        {
          "name": "stderr",
          "output_type": "stream",
          "text": [
            "83it [00:43,  1.89it/s]\n",
            " 61%|██████▏   | 184/300 [2:53:25<1:46:51, 55.27s/it]"
          ]
        },
        {
          "name": "stdout",
          "output_type": "stream",
          "text": [
            "Test Accuracy of NN: 95.78313253012048 % Best: 96.83734939759037 %\n"
          ]
        },
        {
          "name": "stderr",
          "output_type": "stream",
          "text": []
        },
        {
          "name": "stdout",
          "output_type": "stream",
          "text": [
            "Ordinary Epoch [185/300], Step [1/83] Loss: 0.0615\n"
          ]
        },
        {
          "name": "stderr",
          "output_type": "stream",
          "text": [
            "83it [00:44,  1.87it/s]\n",
            " 62%|██████▏   | 185/300 [2:54:20<1:46:04, 55.34s/it]"
          ]
        },
        {
          "name": "stdout",
          "output_type": "stream",
          "text": [
            "Test Accuracy of NN: 95.63253012048193 % Best: 96.83734939759037 %\n"
          ]
        },
        {
          "name": "stderr",
          "output_type": "stream",
          "text": []
        },
        {
          "name": "stdout",
          "output_type": "stream",
          "text": [
            "Ordinary Epoch [186/300], Step [1/83] Loss: 0.0066\n"
          ]
        },
        {
          "name": "stderr",
          "output_type": "stream",
          "text": [
            "83it [00:43,  1.89it/s]\n",
            " 62%|██████▏   | 186/300 [2:55:15<1:44:52, 55.20s/it]"
          ]
        },
        {
          "name": "stdout",
          "output_type": "stream",
          "text": [
            "Test Accuracy of NN: 95.63253012048193 % Best: 96.83734939759037 %\n"
          ]
        },
        {
          "name": "stderr",
          "output_type": "stream",
          "text": []
        },
        {
          "name": "stdout",
          "output_type": "stream",
          "text": [
            "Ordinary Epoch [187/300], Step [1/83] Loss: 0.0034\n"
          ]
        },
        {
          "name": "stderr",
          "output_type": "stream",
          "text": [
            "83it [00:43,  1.90it/s]\n",
            " 62%|██████▏   | 187/300 [2:56:10<1:43:47, 55.11s/it]"
          ]
        },
        {
          "name": "stdout",
          "output_type": "stream",
          "text": [
            "Test Accuracy of NN: 95.78313253012048 % Best: 96.83734939759037 %\n"
          ]
        },
        {
          "name": "stderr",
          "output_type": "stream",
          "text": []
        },
        {
          "name": "stdout",
          "output_type": "stream",
          "text": [
            "Ordinary Epoch [188/300], Step [1/83] Loss: 0.0023\n"
          ]
        },
        {
          "name": "stderr",
          "output_type": "stream",
          "text": [
            "83it [00:43,  1.89it/s]\n",
            " 63%|██████▎   | 188/300 [2:57:05<1:42:55, 55.14s/it]"
          ]
        },
        {
          "name": "stdout",
          "output_type": "stream",
          "text": [
            "Test Accuracy of NN: 59.33734939759036 % Best: 96.83734939759037 %\n"
          ]
        },
        {
          "name": "stderr",
          "output_type": "stream",
          "text": []
        },
        {
          "name": "stdout",
          "output_type": "stream",
          "text": [
            "Ordinary Epoch [189/300], Step [1/83] Loss: 0.0254\n"
          ]
        },
        {
          "name": "stderr",
          "output_type": "stream",
          "text": [
            "83it [00:43,  1.90it/s]\n",
            " 63%|██████▎   | 189/300 [2:58:00<1:41:54, 55.08s/it]"
          ]
        },
        {
          "name": "stdout",
          "output_type": "stream",
          "text": [
            "Test Accuracy of NN: 93.97590361445783 % Best: 96.83734939759037 %\n"
          ]
        },
        {
          "name": "stderr",
          "output_type": "stream",
          "text": []
        },
        {
          "name": "stdout",
          "output_type": "stream",
          "text": [
            "Ordinary Epoch [190/300], Step [1/83] Loss: 0.0984\n"
          ]
        },
        {
          "name": "stderr",
          "output_type": "stream",
          "text": [
            "83it [00:44,  1.88it/s]\n",
            " 63%|██████▎   | 190/300 [2:58:56<1:41:07, 55.16s/it]"
          ]
        },
        {
          "name": "stdout",
          "output_type": "stream",
          "text": [
            "Test Accuracy of NN: 96.53614457831326 % Best: 96.83734939759037 %\n"
          ]
        },
        {
          "name": "stderr",
          "output_type": "stream",
          "text": []
        },
        {
          "name": "stdout",
          "output_type": "stream",
          "text": [
            "Ordinary Epoch [191/300], Step [1/83] Loss: 0.0358\n"
          ]
        },
        {
          "name": "stderr",
          "output_type": "stream",
          "text": [
            "83it [00:44,  1.88it/s]\n",
            " 64%|██████▎   | 191/300 [2:59:51<1:40:17, 55.21s/it]"
          ]
        },
        {
          "name": "stdout",
          "output_type": "stream",
          "text": [
            "Test Accuracy of NN: 96.3855421686747 % Best: 96.83734939759037 %\n"
          ]
        },
        {
          "name": "stderr",
          "output_type": "stream",
          "text": []
        },
        {
          "name": "stdout",
          "output_type": "stream",
          "text": [
            "Ordinary Epoch [192/300], Step [1/83] Loss: 0.0106\n"
          ]
        },
        {
          "name": "stderr",
          "output_type": "stream",
          "text": [
            "83it [00:43,  1.89it/s]\n",
            " 64%|██████▍   | 192/300 [3:00:46<1:39:20, 55.19s/it]"
          ]
        },
        {
          "name": "stdout",
          "output_type": "stream",
          "text": [
            "Test Accuracy of NN: 96.3855421686747 % Best: 96.83734939759037 %\n"
          ]
        },
        {
          "name": "stderr",
          "output_type": "stream",
          "text": []
        },
        {
          "name": "stdout",
          "output_type": "stream",
          "text": [
            "Ordinary Epoch [193/300], Step [1/83] Loss: 0.0204\n"
          ]
        },
        {
          "name": "stderr",
          "output_type": "stream",
          "text": [
            "83it [00:44,  1.88it/s]\n",
            " 64%|██████▍   | 193/300 [3:01:42<1:38:34, 55.27s/it]"
          ]
        },
        {
          "name": "stdout",
          "output_type": "stream",
          "text": [
            "Test Accuracy of NN: 67.16867469879519 % Best: 96.83734939759037 %\n"
          ]
        },
        {
          "name": "stderr",
          "output_type": "stream",
          "text": []
        },
        {
          "name": "stdout",
          "output_type": "stream",
          "text": [
            "Ordinary Epoch [194/300], Step [1/83] Loss: 0.0430\n"
          ]
        },
        {
          "name": "stderr",
          "output_type": "stream",
          "text": [
            "83it [00:43,  1.89it/s]\n",
            " 65%|██████▍   | 194/300 [3:02:36<1:37:27, 55.17s/it]"
          ]
        },
        {
          "name": "stdout",
          "output_type": "stream",
          "text": [
            "Test Accuracy of NN: 56.174698795180724 % Best: 96.83734939759037 %\n"
          ]
        },
        {
          "name": "stderr",
          "output_type": "stream",
          "text": []
        },
        {
          "name": "stdout",
          "output_type": "stream",
          "text": [
            "Ordinary Epoch [195/300], Step [1/83] Loss: 0.0035\n"
          ]
        },
        {
          "name": "stderr",
          "output_type": "stream",
          "text": [
            "83it [00:44,  1.89it/s]\n",
            " 65%|██████▌   | 195/300 [3:03:32<1:36:35, 55.19s/it]"
          ]
        },
        {
          "name": "stdout",
          "output_type": "stream",
          "text": [
            "Test Accuracy of NN: 95.03012048192771 % Best: 96.83734939759037 %\n"
          ]
        },
        {
          "name": "stderr",
          "output_type": "stream",
          "text": []
        },
        {
          "name": "stdout",
          "output_type": "stream",
          "text": [
            "Ordinary Epoch [196/300], Step [1/83] Loss: 0.0024\n"
          ]
        },
        {
          "name": "stderr",
          "output_type": "stream",
          "text": [
            "83it [00:43,  1.90it/s]\n",
            " 65%|██████▌   | 196/300 [3:04:27<1:35:28, 55.08s/it]"
          ]
        },
        {
          "name": "stdout",
          "output_type": "stream",
          "text": [
            "Test Accuracy of NN: 94.7289156626506 % Best: 96.83734939759037 %\n"
          ]
        },
        {
          "name": "stderr",
          "output_type": "stream",
          "text": []
        },
        {
          "name": "stdout",
          "output_type": "stream",
          "text": [
            "Ordinary Epoch [197/300], Step [1/83] Loss: 0.0032\n"
          ]
        },
        {
          "name": "stderr",
          "output_type": "stream",
          "text": [
            "83it [00:43,  1.90it/s]\n",
            " 66%|██████▌   | 197/300 [3:05:22<1:34:31, 55.06s/it]"
          ]
        },
        {
          "name": "stdout",
          "output_type": "stream",
          "text": [
            "Test Accuracy of NN: 96.3855421686747 % Best: 96.83734939759037 %\n"
          ]
        },
        {
          "name": "stderr",
          "output_type": "stream",
          "text": []
        },
        {
          "name": "stdout",
          "output_type": "stream",
          "text": [
            "Ordinary Epoch [198/300], Step [1/83] Loss: 0.0335\n"
          ]
        },
        {
          "name": "stderr",
          "output_type": "stream",
          "text": [
            "83it [00:43,  1.90it/s]\n",
            " 66%|██████▌   | 198/300 [3:06:16<1:33:31, 55.02s/it]"
          ]
        },
        {
          "name": "stdout",
          "output_type": "stream",
          "text": [
            "Test Accuracy of NN: 76.05421686746988 % Best: 96.83734939759037 %\n"
          ]
        },
        {
          "name": "stderr",
          "output_type": "stream",
          "text": []
        },
        {
          "name": "stdout",
          "output_type": "stream",
          "text": [
            "Ordinary Epoch [199/300], Step [1/83] Loss: 0.0456\n"
          ]
        },
        {
          "name": "stderr",
          "output_type": "stream",
          "text": [
            "83it [00:43,  1.89it/s]\n",
            " 66%|██████▋   | 199/300 [3:07:12<1:32:39, 55.05s/it]"
          ]
        },
        {
          "name": "stdout",
          "output_type": "stream",
          "text": [
            "Test Accuracy of NN: 93.37349397590361 % Best: 96.83734939759037 %\n"
          ]
        },
        {
          "name": "stderr",
          "output_type": "stream",
          "text": []
        },
        {
          "name": "stdout",
          "output_type": "stream",
          "text": [
            "Ordinary Epoch [200/300], Step [1/83] Loss: 0.0275\n"
          ]
        },
        {
          "name": "stderr",
          "output_type": "stream",
          "text": [
            "83it [00:44,  1.88it/s]\n",
            " 67%|██████▋   | 200/300 [3:08:07<1:31:52, 55.12s/it]"
          ]
        },
        {
          "name": "stdout",
          "output_type": "stream",
          "text": [
            "Test Accuracy of NN: 96.08433734939759 % Best: 96.83734939759037 %\n"
          ]
        },
        {
          "name": "stderr",
          "output_type": "stream",
          "text": []
        },
        {
          "name": "stdout",
          "output_type": "stream",
          "text": [
            "Ordinary Epoch [201/300], Step [1/83] Loss: 0.0550\n"
          ]
        },
        {
          "name": "stderr",
          "output_type": "stream",
          "text": [
            "83it [00:43,  1.89it/s]\n",
            " 67%|██████▋   | 201/300 [3:09:02<1:30:55, 55.10s/it]"
          ]
        },
        {
          "name": "stdout",
          "output_type": "stream",
          "text": [
            "Test Accuracy of NN: 93.82530120481928 % Best: 96.83734939759037 %\n"
          ]
        },
        {
          "name": "stderr",
          "output_type": "stream",
          "text": []
        },
        {
          "name": "stdout",
          "output_type": "stream",
          "text": [
            "Ordinary Epoch [202/300], Step [1/83] Loss: 0.0066\n"
          ]
        },
        {
          "name": "stderr",
          "output_type": "stream",
          "text": [
            "83it [00:44,  1.88it/s]\n",
            " 67%|██████▋   | 202/300 [3:09:57<1:30:12, 55.23s/it]"
          ]
        },
        {
          "name": "stdout",
          "output_type": "stream",
          "text": [
            "Test Accuracy of NN: 94.87951807228916 % Best: 96.83734939759037 %\n"
          ]
        },
        {
          "name": "stderr",
          "output_type": "stream",
          "text": []
        },
        {
          "name": "stdout",
          "output_type": "stream",
          "text": [
            "Ordinary Epoch [203/300], Step [1/83] Loss: 0.0042\n"
          ]
        },
        {
          "name": "stderr",
          "output_type": "stream",
          "text": [
            "83it [00:44,  1.88it/s]\n",
            " 68%|██████▊   | 203/300 [3:10:53<1:29:19, 55.25s/it]"
          ]
        },
        {
          "name": "stdout",
          "output_type": "stream",
          "text": [
            "Test Accuracy of NN: 85.24096385542168 % Best: 96.83734939759037 %\n"
          ]
        },
        {
          "name": "stderr",
          "output_type": "stream",
          "text": []
        },
        {
          "name": "stdout",
          "output_type": "stream",
          "text": [
            "Ordinary Epoch [204/300], Step [1/83] Loss: 0.1621\n"
          ]
        },
        {
          "name": "stderr",
          "output_type": "stream",
          "text": [
            "83it [00:44,  1.88it/s]\n",
            " 68%|██████▊   | 204/300 [3:11:48<1:28:22, 55.23s/it]"
          ]
        },
        {
          "name": "stdout",
          "output_type": "stream",
          "text": [
            "Test Accuracy of NN: 95.18072289156626 % Best: 96.83734939759037 %\n"
          ]
        },
        {
          "name": "stderr",
          "output_type": "stream",
          "text": []
        },
        {
          "name": "stdout",
          "output_type": "stream",
          "text": [
            "Ordinary Epoch [205/300], Step [1/83] Loss: 0.0809\n"
          ]
        },
        {
          "name": "stderr",
          "output_type": "stream",
          "text": [
            "83it [00:44,  1.88it/s]\n",
            " 68%|██████▊   | 205/300 [3:12:43<1:27:31, 55.28s/it]"
          ]
        },
        {
          "name": "stdout",
          "output_type": "stream",
          "text": [
            "Test Accuracy of NN: 95.63253012048193 % Best: 96.83734939759037 %\n"
          ]
        },
        {
          "name": "stderr",
          "output_type": "stream",
          "text": []
        },
        {
          "name": "stdout",
          "output_type": "stream",
          "text": [
            "Ordinary Epoch [206/300], Step [1/83] Loss: 0.0018\n"
          ]
        },
        {
          "name": "stderr",
          "output_type": "stream",
          "text": [
            "83it [00:43,  1.89it/s]\n",
            " 69%|██████▊   | 206/300 [3:13:38<1:26:28, 55.20s/it]"
          ]
        },
        {
          "name": "stdout",
          "output_type": "stream",
          "text": [
            "Test Accuracy of NN: 95.93373493975903 % Best: 96.83734939759037 %\n"
          ]
        },
        {
          "name": "stderr",
          "output_type": "stream",
          "text": []
        },
        {
          "name": "stdout",
          "output_type": "stream",
          "text": [
            "Ordinary Epoch [207/300], Step [1/83] Loss: 0.0469\n"
          ]
        },
        {
          "name": "stderr",
          "output_type": "stream",
          "text": [
            "83it [00:43,  1.90it/s]\n",
            " 69%|██████▉   | 207/300 [3:14:33<1:25:27, 55.13s/it]"
          ]
        },
        {
          "name": "stdout",
          "output_type": "stream",
          "text": [
            "Test Accuracy of NN: 53.01204819277108 % Best: 96.83734939759037 %\n"
          ]
        },
        {
          "name": "stderr",
          "output_type": "stream",
          "text": []
        },
        {
          "name": "stdout",
          "output_type": "stream",
          "text": [
            "Ordinary Epoch [208/300], Step [1/83] Loss: 0.0657\n"
          ]
        },
        {
          "name": "stderr",
          "output_type": "stream",
          "text": [
            "83it [00:43,  1.89it/s]\n",
            " 69%|██████▉   | 208/300 [3:15:28<1:24:25, 55.06s/it]"
          ]
        },
        {
          "name": "stdout",
          "output_type": "stream",
          "text": [
            "Test Accuracy of NN: 89.60843373493977 % Best: 96.83734939759037 %\n"
          ]
        },
        {
          "name": "stderr",
          "output_type": "stream",
          "text": []
        },
        {
          "name": "stdout",
          "output_type": "stream",
          "text": [
            "Ordinary Epoch [209/300], Step [1/83] Loss: 0.0477\n"
          ]
        },
        {
          "name": "stderr",
          "output_type": "stream",
          "text": [
            "83it [00:43,  1.89it/s]\n",
            " 70%|██████▉   | 209/300 [3:16:23<1:23:33, 55.09s/it]"
          ]
        },
        {
          "name": "stdout",
          "output_type": "stream",
          "text": [
            "Test Accuracy of NN: 70.93373493975903 % Best: 96.83734939759037 %\n"
          ]
        },
        {
          "name": "stderr",
          "output_type": "stream",
          "text": []
        },
        {
          "name": "stdout",
          "output_type": "stream",
          "text": [
            "Ordinary Epoch [210/300], Step [1/83] Loss: 0.0109\n"
          ]
        },
        {
          "name": "stderr",
          "output_type": "stream",
          "text": [
            "83it [00:44,  1.88it/s]\n",
            " 70%|███████   | 210/300 [3:17:19<1:22:40, 55.12s/it]"
          ]
        },
        {
          "name": "stdout",
          "output_type": "stream",
          "text": [
            "Test Accuracy of NN: 95.93373493975903 % Best: 96.83734939759037 %\n"
          ]
        },
        {
          "name": "stderr",
          "output_type": "stream",
          "text": []
        },
        {
          "name": "stdout",
          "output_type": "stream",
          "text": [
            "Ordinary Epoch [211/300], Step [1/83] Loss: 0.0443\n"
          ]
        },
        {
          "name": "stderr",
          "output_type": "stream",
          "text": [
            "83it [00:43,  1.89it/s]\n",
            " 70%|███████   | 211/300 [3:18:14<1:21:43, 55.09s/it]"
          ]
        },
        {
          "name": "stdout",
          "output_type": "stream",
          "text": [
            "Test Accuracy of NN: 95.48192771084338 % Best: 96.83734939759037 %\n"
          ]
        },
        {
          "name": "stderr",
          "output_type": "stream",
          "text": []
        },
        {
          "name": "stdout",
          "output_type": "stream",
          "text": [
            "Ordinary Epoch [212/300], Step [1/83] Loss: 0.0048\n"
          ]
        },
        {
          "name": "stderr",
          "output_type": "stream",
          "text": [
            "83it [00:44,  1.88it/s]\n",
            " 71%|███████   | 212/300 [3:19:09<1:20:56, 55.19s/it]"
          ]
        },
        {
          "name": "stdout",
          "output_type": "stream",
          "text": [
            "Test Accuracy of NN: 94.42771084337349 % Best: 96.83734939759037 %\n"
          ]
        },
        {
          "name": "stderr",
          "output_type": "stream",
          "text": []
        },
        {
          "name": "stdout",
          "output_type": "stream",
          "text": [
            "Ordinary Epoch [213/300], Step [1/83] Loss: 0.0048\n"
          ]
        },
        {
          "name": "stderr",
          "output_type": "stream",
          "text": [
            "83it [00:43,  1.89it/s]\n",
            " 71%|███████   | 213/300 [3:20:04<1:19:55, 55.12s/it]"
          ]
        },
        {
          "name": "stdout",
          "output_type": "stream",
          "text": [
            "Test Accuracy of NN: 93.52409638554217 % Best: 96.83734939759037 %\n"
          ]
        },
        {
          "name": "stderr",
          "output_type": "stream",
          "text": []
        },
        {
          "name": "stdout",
          "output_type": "stream",
          "text": [
            "Ordinary Epoch [214/300], Step [1/83] Loss: 0.0133\n"
          ]
        },
        {
          "name": "stderr",
          "output_type": "stream",
          "text": [
            "83it [00:43,  1.91it/s]\n",
            " 71%|███████▏  | 214/300 [3:20:59<1:18:50, 55.00s/it]"
          ]
        },
        {
          "name": "stdout",
          "output_type": "stream",
          "text": [
            "Test Accuracy of NN: 96.23493975903614 % Best: 96.83734939759037 %\n"
          ]
        },
        {
          "name": "stderr",
          "output_type": "stream",
          "text": []
        },
        {
          "name": "stdout",
          "output_type": "stream",
          "text": [
            "Ordinary Epoch [215/300], Step [1/83] Loss: 0.0010\n"
          ]
        },
        {
          "name": "stderr",
          "output_type": "stream",
          "text": [
            "83it [00:43,  1.89it/s]\n",
            " 72%|███████▏  | 215/300 [3:21:54<1:17:58, 55.04s/it]"
          ]
        },
        {
          "name": "stdout",
          "output_type": "stream",
          "text": [
            "Test Accuracy of NN: 96.23493975903614 % Best: 96.83734939759037 %\n"
          ]
        },
        {
          "name": "stderr",
          "output_type": "stream",
          "text": []
        },
        {
          "name": "stdout",
          "output_type": "stream",
          "text": [
            "Ordinary Epoch [216/300], Step [1/83] Loss: 0.0007\n"
          ]
        },
        {
          "name": "stderr",
          "output_type": "stream",
          "text": [
            "83it [00:44,  1.89it/s]\n",
            " 72%|███████▏  | 216/300 [3:22:49<1:17:08, 55.10s/it]"
          ]
        },
        {
          "name": "stdout",
          "output_type": "stream",
          "text": [
            "Test Accuracy of NN: 81.77710843373494 % Best: 96.83734939759037 %\n"
          ]
        },
        {
          "name": "stderr",
          "output_type": "stream",
          "text": []
        },
        {
          "name": "stdout",
          "output_type": "stream",
          "text": [
            "Ordinary Epoch [217/300], Step [1/83] Loss: 0.1955\n"
          ]
        },
        {
          "name": "stderr",
          "output_type": "stream",
          "text": [
            "83it [00:43,  1.89it/s]\n",
            " 72%|███████▏  | 217/300 [3:23:44<1:16:14, 55.12s/it]"
          ]
        },
        {
          "name": "stdout",
          "output_type": "stream",
          "text": [
            "Test Accuracy of NN: 93.37349397590361 % Best: 96.83734939759037 %\n"
          ]
        },
        {
          "name": "stderr",
          "output_type": "stream",
          "text": []
        },
        {
          "name": "stdout",
          "output_type": "stream",
          "text": [
            "Ordinary Epoch [218/300], Step [1/83] Loss: 0.0258\n"
          ]
        },
        {
          "name": "stderr",
          "output_type": "stream",
          "text": [
            "83it [00:44,  1.88it/s]\n",
            " 73%|███████▎  | 218/300 [3:24:39<1:15:22, 55.16s/it]"
          ]
        },
        {
          "name": "stdout",
          "output_type": "stream",
          "text": [
            "Test Accuracy of NN: 69.57831325301204 % Best: 96.83734939759037 %\n"
          ]
        },
        {
          "name": "stderr",
          "output_type": "stream",
          "text": []
        },
        {
          "name": "stdout",
          "output_type": "stream",
          "text": [
            "Ordinary Epoch [219/300], Step [1/83] Loss: 0.0016\n"
          ]
        },
        {
          "name": "stderr",
          "output_type": "stream",
          "text": [
            "83it [00:44,  1.88it/s]\n",
            " 73%|███████▎  | 219/300 [3:25:35<1:14:28, 55.17s/it]"
          ]
        },
        {
          "name": "stdout",
          "output_type": "stream",
          "text": [
            "Test Accuracy of NN: 66.56626506024097 % Best: 96.83734939759037 %\n"
          ]
        },
        {
          "name": "stderr",
          "output_type": "stream",
          "text": []
        },
        {
          "name": "stdout",
          "output_type": "stream",
          "text": [
            "Ordinary Epoch [220/300], Step [1/83] Loss: 0.0223\n"
          ]
        },
        {
          "name": "stderr",
          "output_type": "stream",
          "text": [
            "83it [00:43,  1.89it/s]\n",
            " 73%|███████▎  | 220/300 [3:26:30<1:13:29, 55.12s/it]"
          ]
        },
        {
          "name": "stdout",
          "output_type": "stream",
          "text": [
            "Test Accuracy of NN: 96.3855421686747 % Best: 96.83734939759037 %\n"
          ]
        },
        {
          "name": "stderr",
          "output_type": "stream",
          "text": []
        },
        {
          "name": "stdout",
          "output_type": "stream",
          "text": [
            "Ordinary Epoch [221/300], Step [1/83] Loss: 0.0011\n"
          ]
        },
        {
          "name": "stderr",
          "output_type": "stream",
          "text": [
            "83it [00:43,  1.89it/s]\n",
            " 74%|███████▎  | 221/300 [3:27:25<1:12:33, 55.11s/it]"
          ]
        },
        {
          "name": "stdout",
          "output_type": "stream",
          "text": [
            "Test Accuracy of NN: 95.63253012048193 % Best: 96.83734939759037 %\n"
          ]
        },
        {
          "name": "stderr",
          "output_type": "stream",
          "text": []
        },
        {
          "name": "stdout",
          "output_type": "stream",
          "text": [
            "Ordinary Epoch [222/300], Step [1/83] Loss: 0.0016\n"
          ]
        },
        {
          "name": "stderr",
          "output_type": "stream",
          "text": [
            "83it [00:44,  1.88it/s]\n",
            " 74%|███████▍  | 222/300 [3:28:20<1:11:45, 55.20s/it]"
          ]
        },
        {
          "name": "stdout",
          "output_type": "stream",
          "text": [
            "Test Accuracy of NN: 96.08433734939759 % Best: 96.83734939759037 %\n"
          ]
        },
        {
          "name": "stderr",
          "output_type": "stream",
          "text": []
        },
        {
          "name": "stdout",
          "output_type": "stream",
          "text": [
            "Ordinary Epoch [223/300], Step [1/83] Loss: 0.0037\n"
          ]
        },
        {
          "name": "stderr",
          "output_type": "stream",
          "text": [
            "83it [00:43,  1.89it/s]\n",
            " 74%|███████▍  | 223/300 [3:29:15<1:10:44, 55.12s/it]"
          ]
        },
        {
          "name": "stdout",
          "output_type": "stream",
          "text": [
            "Test Accuracy of NN: 96.53614457831326 % Best: 96.83734939759037 %\n"
          ]
        },
        {
          "name": "stderr",
          "output_type": "stream",
          "text": []
        },
        {
          "name": "stdout",
          "output_type": "stream",
          "text": [
            "Ordinary Epoch [224/300], Step [1/83] Loss: 0.0031\n"
          ]
        },
        {
          "name": "stderr",
          "output_type": "stream",
          "text": [
            "83it [00:44,  1.88it/s]\n",
            " 75%|███████▍  | 224/300 [3:30:11<1:09:55, 55.21s/it]"
          ]
        },
        {
          "name": "stdout",
          "output_type": "stream",
          "text": [
            "Test Accuracy of NN: 95.78313253012048 % Best: 96.83734939759037 %\n"
          ]
        },
        {
          "name": "stderr",
          "output_type": "stream",
          "text": []
        },
        {
          "name": "stdout",
          "output_type": "stream",
          "text": [
            "Ordinary Epoch [225/300], Step [1/83] Loss: 0.0042\n"
          ]
        },
        {
          "name": "stderr",
          "output_type": "stream",
          "text": [
            "83it [00:44,  1.88it/s]\n",
            " 75%|███████▌  | 225/300 [3:31:06<1:09:01, 55.21s/it]"
          ]
        },
        {
          "name": "stdout",
          "output_type": "stream",
          "text": [
            "Test Accuracy of NN: 96.08433734939759 % Best: 96.83734939759037 %\n"
          ]
        },
        {
          "name": "stderr",
          "output_type": "stream",
          "text": []
        },
        {
          "name": "stdout",
          "output_type": "stream",
          "text": [
            "Ordinary Epoch [226/300], Step [1/83] Loss: 0.0057\n"
          ]
        },
        {
          "name": "stderr",
          "output_type": "stream",
          "text": [
            "83it [00:44,  1.88it/s]\n",
            " 75%|███████▌  | 226/300 [3:32:01<1:08:09, 55.27s/it]"
          ]
        },
        {
          "name": "stdout",
          "output_type": "stream",
          "text": [
            "Test Accuracy of NN: 95.93373493975903 % Best: 96.83734939759037 %\n"
          ]
        },
        {
          "name": "stderr",
          "output_type": "stream",
          "text": []
        },
        {
          "name": "stdout",
          "output_type": "stream",
          "text": [
            "Ordinary Epoch [227/300], Step [1/83] Loss: 0.0005\n"
          ]
        },
        {
          "name": "stderr",
          "output_type": "stream",
          "text": [
            "83it [00:43,  1.90it/s]\n",
            " 76%|███████▌  | 227/300 [3:32:56<1:07:07, 55.17s/it]"
          ]
        },
        {
          "name": "stdout",
          "output_type": "stream",
          "text": [
            "Test Accuracy of NN: 96.23493975903614 % Best: 96.83734939759037 %\n"
          ]
        },
        {
          "name": "stderr",
          "output_type": "stream",
          "text": []
        },
        {
          "name": "stdout",
          "output_type": "stream",
          "text": [
            "Ordinary Epoch [228/300], Step [1/83] Loss: 0.0013\n"
          ]
        },
        {
          "name": "stderr",
          "output_type": "stream",
          "text": [
            "83it [00:44,  1.88it/s]\n",
            " 76%|███████▌  | 228/300 [3:33:51<1:06:13, 55.19s/it]"
          ]
        },
        {
          "name": "stdout",
          "output_type": "stream",
          "text": [
            "Test Accuracy of NN: 96.08433734939759 % Best: 96.83734939759037 %\n"
          ]
        },
        {
          "name": "stderr",
          "output_type": "stream",
          "text": []
        },
        {
          "name": "stdout",
          "output_type": "stream",
          "text": [
            "Ordinary Epoch [229/300], Step [1/83] Loss: 0.0011\n"
          ]
        },
        {
          "name": "stderr",
          "output_type": "stream",
          "text": [
            "83it [00:44,  1.88it/s]\n",
            " 76%|███████▋  | 229/300 [3:34:47<1:05:19, 55.21s/it]"
          ]
        },
        {
          "name": "stdout",
          "output_type": "stream",
          "text": [
            "Test Accuracy of NN: 96.08433734939759 % Best: 96.83734939759037 %\n"
          ]
        },
        {
          "name": "stderr",
          "output_type": "stream",
          "text": []
        },
        {
          "name": "stdout",
          "output_type": "stream",
          "text": [
            "Ordinary Epoch [230/300], Step [1/83] Loss: 0.0012\n"
          ]
        },
        {
          "name": "stderr",
          "output_type": "stream",
          "text": [
            "83it [00:43,  1.89it/s]\n",
            " 77%|███████▋  | 230/300 [3:35:42<1:04:22, 55.17s/it]"
          ]
        },
        {
          "name": "stdout",
          "output_type": "stream",
          "text": [
            "Test Accuracy of NN: 95.78313253012048 % Best: 96.83734939759037 %\n"
          ]
        },
        {
          "name": "stderr",
          "output_type": "stream",
          "text": []
        },
        {
          "name": "stdout",
          "output_type": "stream",
          "text": [
            "Ordinary Epoch [231/300], Step [1/83] Loss: 0.0007\n"
          ]
        },
        {
          "name": "stderr",
          "output_type": "stream",
          "text": [
            "83it [00:43,  1.90it/s]\n",
            " 77%|███████▋  | 231/300 [3:36:37<1:03:21, 55.10s/it]"
          ]
        },
        {
          "name": "stdout",
          "output_type": "stream",
          "text": [
            "Test Accuracy of NN: 94.7289156626506 % Best: 96.83734939759037 %\n"
          ]
        },
        {
          "name": "stderr",
          "output_type": "stream",
          "text": []
        },
        {
          "name": "stdout",
          "output_type": "stream",
          "text": [
            "Ordinary Epoch [232/300], Step [1/83] Loss: 0.0020\n"
          ]
        },
        {
          "name": "stderr",
          "output_type": "stream",
          "text": [
            "83it [00:43,  1.89it/s]\n",
            " 77%|███████▋  | 232/300 [3:37:32<1:02:29, 55.15s/it]"
          ]
        },
        {
          "name": "stdout",
          "output_type": "stream",
          "text": [
            "Test Accuracy of NN: 96.08433734939759 % Best: 96.83734939759037 %\n"
          ]
        },
        {
          "name": "stderr",
          "output_type": "stream",
          "text": []
        },
        {
          "name": "stdout",
          "output_type": "stream",
          "text": [
            "Ordinary Epoch [233/300], Step [1/83] Loss: 0.0001\n"
          ]
        },
        {
          "name": "stderr",
          "output_type": "stream",
          "text": [
            "83it [00:43,  1.89it/s]\n",
            " 78%|███████▊  | 233/300 [3:38:27<1:01:37, 55.18s/it]"
          ]
        },
        {
          "name": "stdout",
          "output_type": "stream",
          "text": [
            "Test Accuracy of NN: 95.63253012048193 % Best: 96.83734939759037 %\n"
          ]
        },
        {
          "name": "stderr",
          "output_type": "stream",
          "text": []
        },
        {
          "name": "stdout",
          "output_type": "stream",
          "text": [
            "Ordinary Epoch [234/300], Step [1/83] Loss: 0.0013\n"
          ]
        },
        {
          "name": "stderr",
          "output_type": "stream",
          "text": [
            "83it [00:44,  1.88it/s]\n",
            " 78%|███████▊  | 234/300 [3:39:23<1:00:46, 55.25s/it]"
          ]
        },
        {
          "name": "stdout",
          "output_type": "stream",
          "text": [
            "Test Accuracy of NN: 95.63253012048193 % Best: 96.83734939759037 %\n"
          ]
        },
        {
          "name": "stderr",
          "output_type": "stream",
          "text": []
        },
        {
          "name": "stdout",
          "output_type": "stream",
          "text": [
            "Ordinary Epoch [235/300], Step [1/83] Loss: 0.0008\n"
          ]
        },
        {
          "name": "stderr",
          "output_type": "stream",
          "text": [
            "83it [00:44,  1.85it/s]\n",
            " 78%|███████▊  | 235/300 [3:40:19<1:00:08, 55.52s/it]"
          ]
        },
        {
          "name": "stdout",
          "output_type": "stream",
          "text": [
            "Test Accuracy of NN: 65.36144578313252 % Best: 96.83734939759037 %\n"
          ]
        },
        {
          "name": "stderr",
          "output_type": "stream",
          "text": []
        },
        {
          "name": "stdout",
          "output_type": "stream",
          "text": [
            "Ordinary Epoch [236/300], Step [1/83] Loss: 0.0964\n"
          ]
        },
        {
          "name": "stderr",
          "output_type": "stream",
          "text": [
            "83it [00:43,  1.89it/s]\n",
            " 79%|███████▊  | 236/300 [3:41:14<59:02, 55.35s/it]  "
          ]
        },
        {
          "name": "stdout",
          "output_type": "stream",
          "text": [
            "Test Accuracy of NN: 95.93373493975903 % Best: 96.83734939759037 %\n"
          ]
        },
        {
          "name": "stderr",
          "output_type": "stream",
          "text": []
        },
        {
          "name": "stdout",
          "output_type": "stream",
          "text": [
            "Ordinary Epoch [237/300], Step [1/83] Loss: 0.0286\n"
          ]
        },
        {
          "name": "stderr",
          "output_type": "stream",
          "text": [
            "83it [00:43,  1.89it/s]\n",
            " 79%|███████▉  | 237/300 [3:42:09<58:05, 55.33s/it]"
          ]
        },
        {
          "name": "stdout",
          "output_type": "stream",
          "text": [
            "Test Accuracy of NN: 96.23493975903614 % Best: 96.83734939759037 %\n"
          ]
        },
        {
          "name": "stderr",
          "output_type": "stream",
          "text": []
        },
        {
          "name": "stdout",
          "output_type": "stream",
          "text": [
            "Ordinary Epoch [238/300], Step [1/83] Loss: 0.0297\n"
          ]
        },
        {
          "name": "stderr",
          "output_type": "stream",
          "text": [
            "83it [00:44,  1.88it/s]\n",
            " 79%|███████▉  | 238/300 [3:43:04<57:11, 55.35s/it]"
          ]
        },
        {
          "name": "stdout",
          "output_type": "stream",
          "text": [
            "Test Accuracy of NN: 82.37951807228916 % Best: 96.83734939759037 %\n"
          ]
        },
        {
          "name": "stderr",
          "output_type": "stream",
          "text": []
        },
        {
          "name": "stdout",
          "output_type": "stream",
          "text": [
            "Ordinary Epoch [239/300], Step [1/83] Loss: 0.2437\n"
          ]
        },
        {
          "name": "stderr",
          "output_type": "stream",
          "text": [
            "83it [00:44,  1.88it/s]\n",
            " 80%|███████▉  | 239/300 [3:44:00<56:19, 55.40s/it]"
          ]
        },
        {
          "name": "stdout",
          "output_type": "stream",
          "text": [
            "Test Accuracy of NN: 74.6987951807229 % Best: 96.83734939759037 %\n"
          ]
        },
        {
          "name": "stderr",
          "output_type": "stream",
          "text": []
        },
        {
          "name": "stdout",
          "output_type": "stream",
          "text": [
            "Ordinary Epoch [240/300], Step [1/83] Loss: 0.0459\n"
          ]
        },
        {
          "name": "stderr",
          "output_type": "stream",
          "text": [
            "83it [00:44,  1.88it/s]\n",
            " 80%|████████  | 240/300 [3:44:55<55:22, 55.37s/it]"
          ]
        },
        {
          "name": "stdout",
          "output_type": "stream",
          "text": [
            "Test Accuracy of NN: 48.04216867469879 % Best: 96.83734939759037 %\n"
          ]
        },
        {
          "name": "stderr",
          "output_type": "stream",
          "text": []
        },
        {
          "name": "stdout",
          "output_type": "stream",
          "text": [
            "Ordinary Epoch [241/300], Step [1/83] Loss: 0.0261\n"
          ]
        },
        {
          "name": "stderr",
          "output_type": "stream",
          "text": [
            "83it [00:43,  1.89it/s]\n",
            " 80%|████████  | 241/300 [3:45:50<54:22, 55.29s/it]"
          ]
        },
        {
          "name": "stdout",
          "output_type": "stream",
          "text": [
            "Test Accuracy of NN: 93.52409638554217 % Best: 96.83734939759037 %\n"
          ]
        },
        {
          "name": "stderr",
          "output_type": "stream",
          "text": []
        },
        {
          "name": "stdout",
          "output_type": "stream",
          "text": [
            "Ordinary Epoch [242/300], Step [1/83] Loss: 0.0078\n"
          ]
        },
        {
          "name": "stderr",
          "output_type": "stream",
          "text": [
            "83it [00:43,  1.89it/s]\n",
            " 81%|████████  | 242/300 [3:46:45<53:22, 55.22s/it]"
          ]
        },
        {
          "name": "stdout",
          "output_type": "stream",
          "text": [
            "Test Accuracy of NN: 72.28915662650603 % Best: 96.83734939759037 %\n"
          ]
        },
        {
          "name": "stderr",
          "output_type": "stream",
          "text": []
        },
        {
          "name": "stdout",
          "output_type": "stream",
          "text": [
            "Ordinary Epoch [243/300], Step [1/83] Loss: 0.0688\n"
          ]
        },
        {
          "name": "stderr",
          "output_type": "stream",
          "text": [
            "83it [00:43,  1.90it/s]\n",
            " 81%|████████  | 243/300 [3:47:40<52:20, 55.09s/it]"
          ]
        },
        {
          "name": "stdout",
          "output_type": "stream",
          "text": [
            "Test Accuracy of NN: 94.12650602409639 % Best: 96.83734939759037 %\n"
          ]
        },
        {
          "name": "stderr",
          "output_type": "stream",
          "text": []
        },
        {
          "name": "stdout",
          "output_type": "stream",
          "text": [
            "Ordinary Epoch [244/300], Step [1/83] Loss: 0.0170\n"
          ]
        },
        {
          "name": "stderr",
          "output_type": "stream",
          "text": [
            "83it [00:43,  1.89it/s]\n",
            " 81%|████████▏ | 244/300 [3:48:35<51:26, 55.12s/it]"
          ]
        },
        {
          "name": "stdout",
          "output_type": "stream",
          "text": [
            "Test Accuracy of NN: 92.01807228915662 % Best: 96.83734939759037 %\n"
          ]
        },
        {
          "name": "stderr",
          "output_type": "stream",
          "text": []
        },
        {
          "name": "stdout",
          "output_type": "stream",
          "text": [
            "Ordinary Epoch [245/300], Step [1/83] Loss: 0.0023\n"
          ]
        },
        {
          "name": "stderr",
          "output_type": "stream",
          "text": [
            "83it [00:44,  1.87it/s]\n",
            " 82%|████████▏ | 245/300 [3:49:31<50:39, 55.26s/it]"
          ]
        },
        {
          "name": "stdout",
          "output_type": "stream",
          "text": [
            "Test Accuracy of NN: 94.7289156626506 % Best: 96.83734939759037 %\n"
          ]
        },
        {
          "name": "stderr",
          "output_type": "stream",
          "text": []
        },
        {
          "name": "stdout",
          "output_type": "stream",
          "text": [
            "Ordinary Epoch [246/300], Step [1/83] Loss: 0.0060\n"
          ]
        },
        {
          "name": "stderr",
          "output_type": "stream",
          "text": [
            "83it [00:43,  1.89it/s]\n",
            " 82%|████████▏ | 246/300 [3:50:26<49:40, 55.20s/it]"
          ]
        },
        {
          "name": "stdout",
          "output_type": "stream",
          "text": [
            "Test Accuracy of NN: 94.87951807228916 % Best: 96.83734939759037 %\n"
          ]
        },
        {
          "name": "stderr",
          "output_type": "stream",
          "text": []
        },
        {
          "name": "stdout",
          "output_type": "stream",
          "text": [
            "Ordinary Epoch [247/300], Step [1/83] Loss: 0.0006\n"
          ]
        },
        {
          "name": "stderr",
          "output_type": "stream",
          "text": [
            "83it [00:44,  1.88it/s]\n",
            " 82%|████████▏ | 247/300 [3:51:21<48:50, 55.28s/it]"
          ]
        },
        {
          "name": "stdout",
          "output_type": "stream",
          "text": [
            "Test Accuracy of NN: 93.97590361445783 % Best: 96.83734939759037 %\n"
          ]
        },
        {
          "name": "stderr",
          "output_type": "stream",
          "text": []
        },
        {
          "name": "stdout",
          "output_type": "stream",
          "text": [
            "Ordinary Epoch [248/300], Step [1/83] Loss: 0.0060\n"
          ]
        },
        {
          "name": "stderr",
          "output_type": "stream",
          "text": [
            "83it [00:44,  1.89it/s]\n",
            " 83%|████████▎ | 248/300 [3:52:17<47:53, 55.25s/it]"
          ]
        },
        {
          "name": "stdout",
          "output_type": "stream",
          "text": [
            "Test Accuracy of NN: 95.48192771084338 % Best: 96.83734939759037 %\n"
          ]
        },
        {
          "name": "stderr",
          "output_type": "stream",
          "text": []
        },
        {
          "name": "stdout",
          "output_type": "stream",
          "text": [
            "Ordinary Epoch [249/300], Step [1/83] Loss: 0.0006\n"
          ]
        },
        {
          "name": "stderr",
          "output_type": "stream",
          "text": [
            "83it [00:43,  1.91it/s]\n",
            " 83%|████████▎ | 249/300 [3:53:11<46:49, 55.08s/it]"
          ]
        },
        {
          "name": "stdout",
          "output_type": "stream",
          "text": [
            "Test Accuracy of NN: 95.48192771084338 % Best: 96.83734939759037 %\n"
          ]
        },
        {
          "name": "stderr",
          "output_type": "stream",
          "text": []
        },
        {
          "name": "stdout",
          "output_type": "stream",
          "text": [
            "Ordinary Epoch [250/300], Step [1/83] Loss: 0.0102\n"
          ]
        },
        {
          "name": "stderr",
          "output_type": "stream",
          "text": [
            "83it [00:44,  1.88it/s]\n",
            " 83%|████████▎ | 250/300 [3:54:07<45:56, 55.13s/it]"
          ]
        },
        {
          "name": "stdout",
          "output_type": "stream",
          "text": [
            "Test Accuracy of NN: 95.33132530120481 % Best: 96.83734939759037 %\n"
          ]
        },
        {
          "name": "stderr",
          "output_type": "stream",
          "text": []
        },
        {
          "name": "stdout",
          "output_type": "stream",
          "text": [
            "Ordinary Epoch [251/300], Step [1/83] Loss: 0.0026\n"
          ]
        },
        {
          "name": "stderr",
          "output_type": "stream",
          "text": [
            "83it [00:43,  1.89it/s]\n",
            " 84%|████████▎ | 251/300 [3:55:02<45:01, 55.14s/it]"
          ]
        },
        {
          "name": "stdout",
          "output_type": "stream",
          "text": [
            "Test Accuracy of NN: 95.33132530120481 % Best: 96.83734939759037 %\n"
          ]
        },
        {
          "name": "stderr",
          "output_type": "stream",
          "text": []
        },
        {
          "name": "stdout",
          "output_type": "stream",
          "text": [
            "Ordinary Epoch [252/300], Step [1/83] Loss: 0.0015\n"
          ]
        },
        {
          "name": "stderr",
          "output_type": "stream",
          "text": [
            "83it [00:43,  1.90it/s]\n",
            " 84%|████████▍ | 252/300 [3:55:57<44:04, 55.09s/it]"
          ]
        },
        {
          "name": "stdout",
          "output_type": "stream",
          "text": [
            "Test Accuracy of NN: 95.63253012048193 % Best: 96.83734939759037 %\n"
          ]
        },
        {
          "name": "stderr",
          "output_type": "stream",
          "text": []
        },
        {
          "name": "stdout",
          "output_type": "stream",
          "text": [
            "Ordinary Epoch [253/300], Step [1/83] Loss: 0.0048\n"
          ]
        },
        {
          "name": "stderr",
          "output_type": "stream",
          "text": [
            "83it [00:43,  1.90it/s]\n",
            " 84%|████████▍ | 253/300 [3:56:51<43:05, 55.02s/it]"
          ]
        },
        {
          "name": "stdout",
          "output_type": "stream",
          "text": [
            "Test Accuracy of NN: 95.48192771084338 % Best: 96.83734939759037 %\n"
          ]
        },
        {
          "name": "stderr",
          "output_type": "stream",
          "text": []
        },
        {
          "name": "stdout",
          "output_type": "stream",
          "text": [
            "Ordinary Epoch [254/300], Step [1/83] Loss: 0.0005\n"
          ]
        },
        {
          "name": "stderr",
          "output_type": "stream",
          "text": [
            "83it [00:43,  1.90it/s]\n",
            " 85%|████████▍ | 254/300 [3:57:46<42:06, 54.93s/it]"
          ]
        },
        {
          "name": "stdout",
          "output_type": "stream",
          "text": [
            "Test Accuracy of NN: 95.63253012048193 % Best: 96.83734939759037 %\n"
          ]
        },
        {
          "name": "stderr",
          "output_type": "stream",
          "text": []
        },
        {
          "name": "stdout",
          "output_type": "stream",
          "text": [
            "Ordinary Epoch [255/300], Step [1/83] Loss: 0.0004\n"
          ]
        },
        {
          "name": "stderr",
          "output_type": "stream",
          "text": [
            "83it [00:43,  1.90it/s]\n",
            " 85%|████████▌ | 255/300 [3:58:41<41:09, 54.88s/it]"
          ]
        },
        {
          "name": "stdout",
          "output_type": "stream",
          "text": [
            "Test Accuracy of NN: 95.03012048192771 % Best: 96.83734939759037 %\n"
          ]
        },
        {
          "name": "stderr",
          "output_type": "stream",
          "text": []
        },
        {
          "name": "stdout",
          "output_type": "stream",
          "text": [
            "Ordinary Epoch [256/300], Step [1/83] Loss: 0.0028\n"
          ]
        },
        {
          "name": "stderr",
          "output_type": "stream",
          "text": [
            "83it [00:43,  1.89it/s]\n",
            " 85%|████████▌ | 256/300 [3:59:36<40:18, 54.96s/it]"
          ]
        },
        {
          "name": "stdout",
          "output_type": "stream",
          "text": [
            "Test Accuracy of NN: 95.33132530120481 % Best: 96.83734939759037 %\n"
          ]
        },
        {
          "name": "stderr",
          "output_type": "stream",
          "text": []
        },
        {
          "name": "stdout",
          "output_type": "stream",
          "text": [
            "Ordinary Epoch [257/300], Step [1/83] Loss: 0.0006\n"
          ]
        },
        {
          "name": "stderr",
          "output_type": "stream",
          "text": [
            "83it [00:44,  1.88it/s]\n",
            " 86%|████████▌ | 257/300 [4:00:31<39:27, 55.06s/it]"
          ]
        },
        {
          "name": "stdout",
          "output_type": "stream",
          "text": [
            "Test Accuracy of NN: 55.12048192771084 % Best: 96.83734939759037 %\n"
          ]
        },
        {
          "name": "stderr",
          "output_type": "stream",
          "text": []
        },
        {
          "name": "stdout",
          "output_type": "stream",
          "text": [
            "Ordinary Epoch [258/300], Step [1/83] Loss: 0.1545\n"
          ]
        },
        {
          "name": "stderr",
          "output_type": "stream",
          "text": [
            "83it [00:44,  1.87it/s]\n",
            " 86%|████████▌ | 258/300 [4:01:27<38:39, 55.23s/it]"
          ]
        },
        {
          "name": "stdout",
          "output_type": "stream",
          "text": [
            "Test Accuracy of NN: 78.3132530120482 % Best: 96.83734939759037 %\n"
          ]
        },
        {
          "name": "stderr",
          "output_type": "stream",
          "text": []
        },
        {
          "name": "stdout",
          "output_type": "stream",
          "text": [
            "Ordinary Epoch [259/300], Step [1/83] Loss: 0.0023\n"
          ]
        },
        {
          "name": "stderr",
          "output_type": "stream",
          "text": [
            "83it [00:44,  1.88it/s]\n",
            " 86%|████████▋ | 259/300 [4:02:22<37:44, 55.22s/it]"
          ]
        },
        {
          "name": "stdout",
          "output_type": "stream",
          "text": [
            "Test Accuracy of NN: 95.48192771084338 % Best: 96.83734939759037 %\n"
          ]
        },
        {
          "name": "stderr",
          "output_type": "stream",
          "text": []
        },
        {
          "name": "stdout",
          "output_type": "stream",
          "text": [
            "Ordinary Epoch [260/300], Step [1/83] Loss: 0.0007\n"
          ]
        },
        {
          "name": "stderr",
          "output_type": "stream",
          "text": [
            "83it [00:43,  1.89it/s]\n",
            " 87%|████████▋ | 260/300 [4:03:17<36:47, 55.19s/it]"
          ]
        },
        {
          "name": "stdout",
          "output_type": "stream",
          "text": [
            "Test Accuracy of NN: 46.68674698795181 % Best: 96.83734939759037 %\n"
          ]
        },
        {
          "name": "stderr",
          "output_type": "stream",
          "text": []
        },
        {
          "name": "stdout",
          "output_type": "stream",
          "text": [
            "Ordinary Epoch [261/300], Step [1/83] Loss: 0.0105\n"
          ]
        },
        {
          "name": "stderr",
          "output_type": "stream",
          "text": [
            "83it [00:43,  1.89it/s]\n",
            " 87%|████████▋ | 261/300 [4:04:12<35:51, 55.16s/it]"
          ]
        },
        {
          "name": "stdout",
          "output_type": "stream",
          "text": [
            "Test Accuracy of NN: 96.98795180722891 % (improvement)\n"
          ]
        },
        {
          "name": "stderr",
          "output_type": "stream",
          "text": []
        },
        {
          "name": "stdout",
          "output_type": "stream",
          "text": [
            "Ordinary Epoch [262/300], Step [1/83] Loss: 0.0429\n"
          ]
        },
        {
          "name": "stderr",
          "output_type": "stream",
          "text": [
            "83it [00:43,  1.89it/s]\n",
            " 87%|████████▋ | 262/300 [4:05:07<34:54, 55.11s/it]"
          ]
        },
        {
          "name": "stdout",
          "output_type": "stream",
          "text": [
            "Test Accuracy of NN: 96.23493975903614 % Best: 96.98795180722891 %\n"
          ]
        },
        {
          "name": "stderr",
          "output_type": "stream",
          "text": []
        },
        {
          "name": "stdout",
          "output_type": "stream",
          "text": [
            "Ordinary Epoch [263/300], Step [1/83] Loss: 0.0015\n"
          ]
        },
        {
          "name": "stderr",
          "output_type": "stream",
          "text": [
            "83it [00:43,  1.89it/s]\n",
            " 88%|████████▊ | 263/300 [4:06:02<33:57, 55.05s/it]"
          ]
        },
        {
          "name": "stdout",
          "output_type": "stream",
          "text": [
            "Test Accuracy of NN: 96.6867469879518 % Best: 96.98795180722891 %\n"
          ]
        },
        {
          "name": "stderr",
          "output_type": "stream",
          "text": []
        },
        {
          "name": "stdout",
          "output_type": "stream",
          "text": [
            "Ordinary Epoch [264/300], Step [1/83] Loss: 0.0236\n"
          ]
        },
        {
          "name": "stderr",
          "output_type": "stream",
          "text": [
            "83it [00:43,  1.90it/s]\n",
            " 88%|████████▊ | 264/300 [4:06:57<33:01, 55.03s/it]"
          ]
        },
        {
          "name": "stdout",
          "output_type": "stream",
          "text": [
            "Test Accuracy of NN: 96.6867469879518 % Best: 96.98795180722891 %\n"
          ]
        },
        {
          "name": "stderr",
          "output_type": "stream",
          "text": []
        },
        {
          "name": "stdout",
          "output_type": "stream",
          "text": [
            "Ordinary Epoch [265/300], Step [1/83] Loss: 0.0003\n"
          ]
        },
        {
          "name": "stderr",
          "output_type": "stream",
          "text": [
            "83it [00:43,  1.89it/s]\n",
            " 88%|████████▊ | 265/300 [4:07:52<32:06, 55.04s/it]"
          ]
        },
        {
          "name": "stdout",
          "output_type": "stream",
          "text": [
            "Test Accuracy of NN: 95.93373493975903 % Best: 96.98795180722891 %\n"
          ]
        },
        {
          "name": "stderr",
          "output_type": "stream",
          "text": []
        },
        {
          "name": "stdout",
          "output_type": "stream",
          "text": [
            "Ordinary Epoch [266/300], Step [1/83] Loss: 0.0017\n"
          ]
        },
        {
          "name": "stderr",
          "output_type": "stream",
          "text": [
            "83it [00:44,  1.88it/s]\n",
            " 89%|████████▊ | 266/300 [4:08:48<31:13, 55.10s/it]"
          ]
        },
        {
          "name": "stdout",
          "output_type": "stream",
          "text": [
            "Test Accuracy of NN: 96.3855421686747 % Best: 96.98795180722891 %\n"
          ]
        },
        {
          "name": "stderr",
          "output_type": "stream",
          "text": []
        },
        {
          "name": "stdout",
          "output_type": "stream",
          "text": [
            "Ordinary Epoch [267/300], Step [1/83] Loss: 0.0026\n"
          ]
        },
        {
          "name": "stderr",
          "output_type": "stream",
          "text": [
            "83it [00:44,  1.88it/s]\n",
            " 89%|████████▉ | 267/300 [4:09:43<30:20, 55.17s/it]"
          ]
        },
        {
          "name": "stdout",
          "output_type": "stream",
          "text": [
            "Test Accuracy of NN: 96.3855421686747 % Best: 96.98795180722891 %\n"
          ]
        },
        {
          "name": "stderr",
          "output_type": "stream",
          "text": []
        },
        {
          "name": "stdout",
          "output_type": "stream",
          "text": [
            "Ordinary Epoch [268/300], Step [1/83] Loss: 0.0009\n"
          ]
        },
        {
          "name": "stderr",
          "output_type": "stream",
          "text": [
            "83it [00:44,  1.88it/s]\n",
            " 89%|████████▉ | 268/300 [4:10:38<29:26, 55.19s/it]"
          ]
        },
        {
          "name": "stdout",
          "output_type": "stream",
          "text": [
            "Test Accuracy of NN: 94.42771084337349 % Best: 96.98795180722891 %\n"
          ]
        },
        {
          "name": "stderr",
          "output_type": "stream",
          "text": []
        },
        {
          "name": "stdout",
          "output_type": "stream",
          "text": [
            "Ordinary Epoch [269/300], Step [1/83] Loss: 0.0014\n"
          ]
        },
        {
          "name": "stderr",
          "output_type": "stream",
          "text": [
            "83it [00:43,  1.89it/s]\n",
            " 90%|████████▉ | 269/300 [4:11:33<28:31, 55.20s/it]"
          ]
        },
        {
          "name": "stdout",
          "output_type": "stream",
          "text": [
            "Test Accuracy of NN: 96.23493975903614 % Best: 96.98795180722891 %\n"
          ]
        },
        {
          "name": "stderr",
          "output_type": "stream",
          "text": []
        },
        {
          "name": "stdout",
          "output_type": "stream",
          "text": [
            "Ordinary Epoch [270/300], Step [1/83] Loss: 0.0077\n"
          ]
        },
        {
          "name": "stderr",
          "output_type": "stream",
          "text": [
            "83it [00:43,  1.90it/s]\n",
            " 90%|█████████ | 270/300 [4:12:28<27:34, 55.16s/it]"
          ]
        },
        {
          "name": "stdout",
          "output_type": "stream",
          "text": [
            "Test Accuracy of NN: 63.55421686746988 % Best: 96.98795180722891 %\n"
          ]
        },
        {
          "name": "stderr",
          "output_type": "stream",
          "text": []
        },
        {
          "name": "stdout",
          "output_type": "stream",
          "text": [
            "Ordinary Epoch [271/300], Step [1/83] Loss: 0.0011\n"
          ]
        },
        {
          "name": "stderr",
          "output_type": "stream",
          "text": [
            "83it [00:43,  1.90it/s]\n",
            " 90%|█████████ | 271/300 [4:13:23<26:38, 55.10s/it]"
          ]
        },
        {
          "name": "stdout",
          "output_type": "stream",
          "text": [
            "Test Accuracy of NN: 95.48192771084338 % Best: 96.98795180722891 %\n"
          ]
        },
        {
          "name": "stderr",
          "output_type": "stream",
          "text": []
        },
        {
          "name": "stdout",
          "output_type": "stream",
          "text": [
            "Ordinary Epoch [272/300], Step [1/83] Loss: 0.0042\n"
          ]
        },
        {
          "name": "stderr",
          "output_type": "stream",
          "text": [
            "83it [00:43,  1.90it/s]\n",
            " 91%|█████████ | 272/300 [4:14:18<25:40, 55.03s/it]"
          ]
        },
        {
          "name": "stdout",
          "output_type": "stream",
          "text": [
            "Test Accuracy of NN: 95.03012048192771 % Best: 96.98795180722891 %\n"
          ]
        },
        {
          "name": "stderr",
          "output_type": "stream",
          "text": []
        },
        {
          "name": "stdout",
          "output_type": "stream",
          "text": [
            "Ordinary Epoch [273/300], Step [1/83] Loss: 0.0020\n"
          ]
        },
        {
          "name": "stderr",
          "output_type": "stream",
          "text": [
            "83it [00:43,  1.89it/s]\n",
            " 91%|█████████ | 273/300 [4:15:13<24:46, 55.06s/it]"
          ]
        },
        {
          "name": "stdout",
          "output_type": "stream",
          "text": [
            "Test Accuracy of NN: 95.78313253012048 % Best: 96.98795180722891 %\n"
          ]
        },
        {
          "name": "stderr",
          "output_type": "stream",
          "text": []
        },
        {
          "name": "stdout",
          "output_type": "stream",
          "text": [
            "Ordinary Epoch [274/300], Step [1/83] Loss: 0.0010\n"
          ]
        },
        {
          "name": "stderr",
          "output_type": "stream",
          "text": [
            "83it [00:43,  1.90it/s]\n",
            " 91%|█████████▏| 274/300 [4:16:08<23:49, 54.99s/it]"
          ]
        },
        {
          "name": "stdout",
          "output_type": "stream",
          "text": [
            "Test Accuracy of NN: 95.93373493975903 % Best: 96.98795180722891 %\n"
          ]
        },
        {
          "name": "stderr",
          "output_type": "stream",
          "text": []
        },
        {
          "name": "stdout",
          "output_type": "stream",
          "text": [
            "Ordinary Epoch [275/300], Step [1/83] Loss: 0.0003\n"
          ]
        },
        {
          "name": "stderr",
          "output_type": "stream",
          "text": [
            "83it [00:44,  1.88it/s]\n",
            " 92%|█████████▏| 275/300 [4:17:04<22:56, 55.08s/it]"
          ]
        },
        {
          "name": "stdout",
          "output_type": "stream",
          "text": [
            "Test Accuracy of NN: 95.33132530120481 % Best: 96.98795180722891 %\n"
          ]
        },
        {
          "name": "stderr",
          "output_type": "stream",
          "text": []
        },
        {
          "name": "stdout",
          "output_type": "stream",
          "text": [
            "Ordinary Epoch [276/300], Step [1/83] Loss: 0.0002\n"
          ]
        },
        {
          "name": "stderr",
          "output_type": "stream",
          "text": [
            "83it [00:43,  1.89it/s]\n",
            " 92%|█████████▏| 276/300 [4:17:59<22:03, 55.13s/it]"
          ]
        },
        {
          "name": "stdout",
          "output_type": "stream",
          "text": [
            "Test Accuracy of NN: 95.63253012048193 % Best: 96.98795180722891 %\n"
          ]
        },
        {
          "name": "stderr",
          "output_type": "stream",
          "text": []
        },
        {
          "name": "stdout",
          "output_type": "stream",
          "text": [
            "Ordinary Epoch [277/300], Step [1/83] Loss: 0.0014\n"
          ]
        },
        {
          "name": "stderr",
          "output_type": "stream",
          "text": [
            "83it [00:44,  1.88it/s]\n",
            " 92%|█████████▏| 277/300 [4:18:54<21:10, 55.22s/it]"
          ]
        },
        {
          "name": "stdout",
          "output_type": "stream",
          "text": [
            "Test Accuracy of NN: 46.68674698795181 % Best: 96.98795180722891 %\n"
          ]
        },
        {
          "name": "stderr",
          "output_type": "stream",
          "text": []
        },
        {
          "name": "stdout",
          "output_type": "stream",
          "text": [
            "Ordinary Epoch [278/300], Step [1/83] Loss: 0.0404\n"
          ]
        },
        {
          "name": "stderr",
          "output_type": "stream",
          "text": [
            "83it [00:43,  1.89it/s]\n",
            " 93%|█████████▎| 278/300 [4:19:49<20:14, 55.18s/it]"
          ]
        },
        {
          "name": "stdout",
          "output_type": "stream",
          "text": [
            "Test Accuracy of NN: 88.70481927710843 % Best: 96.98795180722891 %\n"
          ]
        },
        {
          "name": "stderr",
          "output_type": "stream",
          "text": []
        },
        {
          "name": "stdout",
          "output_type": "stream",
          "text": [
            "Ordinary Epoch [279/300], Step [1/83] Loss: 0.0142\n"
          ]
        },
        {
          "name": "stderr",
          "output_type": "stream",
          "text": [
            "83it [00:44,  1.88it/s]\n",
            " 93%|█████████▎| 279/300 [4:20:45<19:19, 55.23s/it]"
          ]
        },
        {
          "name": "stdout",
          "output_type": "stream",
          "text": [
            "Test Accuracy of NN: 96.53614457831326 % Best: 96.98795180722891 %\n"
          ]
        },
        {
          "name": "stderr",
          "output_type": "stream",
          "text": []
        },
        {
          "name": "stdout",
          "output_type": "stream",
          "text": [
            "Ordinary Epoch [280/300], Step [1/83] Loss: 0.0493\n"
          ]
        },
        {
          "name": "stderr",
          "output_type": "stream",
          "text": [
            "83it [00:44,  1.88it/s]\n",
            " 93%|█████████▎| 280/300 [4:21:40<18:26, 55.32s/it]"
          ]
        },
        {
          "name": "stdout",
          "output_type": "stream",
          "text": [
            "Test Accuracy of NN: 54.66867469879518 % Best: 96.98795180722891 %\n"
          ]
        },
        {
          "name": "stderr",
          "output_type": "stream",
          "text": []
        },
        {
          "name": "stdout",
          "output_type": "stream",
          "text": [
            "Ordinary Epoch [281/300], Step [1/83] Loss: 0.0618\n"
          ]
        },
        {
          "name": "stderr",
          "output_type": "stream",
          "text": [
            "83it [00:44,  1.88it/s]\n",
            " 94%|█████████▎| 281/300 [4:22:36<17:31, 55.35s/it]"
          ]
        },
        {
          "name": "stdout",
          "output_type": "stream",
          "text": [
            "Test Accuracy of NN: 91.41566265060241 % Best: 96.98795180722891 %\n"
          ]
        },
        {
          "name": "stderr",
          "output_type": "stream",
          "text": []
        },
        {
          "name": "stdout",
          "output_type": "stream",
          "text": [
            "Ordinary Epoch [282/300], Step [1/83] Loss: 0.0083\n"
          ]
        },
        {
          "name": "stderr",
          "output_type": "stream",
          "text": [
            "83it [00:43,  1.90it/s]\n",
            " 94%|█████████▍| 282/300 [4:23:31<16:33, 55.21s/it]"
          ]
        },
        {
          "name": "stdout",
          "output_type": "stream",
          "text": [
            "Test Accuracy of NN: 46.68674698795181 % Best: 96.98795180722891 %\n"
          ]
        },
        {
          "name": "stderr",
          "output_type": "stream",
          "text": []
        },
        {
          "name": "stdout",
          "output_type": "stream",
          "text": [
            "Ordinary Epoch [283/300], Step [1/83] Loss: 0.0131\n"
          ]
        },
        {
          "name": "stderr",
          "output_type": "stream",
          "text": [
            "83it [00:44,  1.88it/s]\n",
            " 94%|█████████▍| 283/300 [4:24:26<15:39, 55.26s/it]"
          ]
        },
        {
          "name": "stdout",
          "output_type": "stream",
          "text": [
            "Test Accuracy of NN: 88.25301204819277 % Best: 96.98795180722891 %\n"
          ]
        },
        {
          "name": "stderr",
          "output_type": "stream",
          "text": []
        },
        {
          "name": "stdout",
          "output_type": "stream",
          "text": [
            "Ordinary Epoch [284/300], Step [1/83] Loss: 0.0062\n"
          ]
        },
        {
          "name": "stderr",
          "output_type": "stream",
          "text": [
            "83it [00:43,  1.89it/s]\n",
            " 95%|█████████▍| 284/300 [4:25:21<14:42, 55.19s/it]"
          ]
        },
        {
          "name": "stdout",
          "output_type": "stream",
          "text": [
            "Test Accuracy of NN: 95.48192771084338 % Best: 96.98795180722891 %\n"
          ]
        },
        {
          "name": "stderr",
          "output_type": "stream",
          "text": []
        },
        {
          "name": "stdout",
          "output_type": "stream",
          "text": [
            "Ordinary Epoch [285/300], Step [1/83] Loss: 0.0002\n"
          ]
        },
        {
          "name": "stderr",
          "output_type": "stream",
          "text": [
            "83it [00:44,  1.86it/s]\n",
            " 95%|█████████▌| 285/300 [4:26:17<13:50, 55.35s/it]"
          ]
        },
        {
          "name": "stdout",
          "output_type": "stream",
          "text": [
            "Test Accuracy of NN: 96.08433734939759 % Best: 96.98795180722891 %\n"
          ]
        },
        {
          "name": "stderr",
          "output_type": "stream",
          "text": []
        },
        {
          "name": "stdout",
          "output_type": "stream",
          "text": [
            "Ordinary Epoch [286/300], Step [1/83] Loss: 0.0017\n"
          ]
        },
        {
          "name": "stderr",
          "output_type": "stream",
          "text": [
            "83it [00:44,  1.88it/s]\n",
            " 95%|█████████▌| 286/300 [4:27:12<12:54, 55.35s/it]"
          ]
        },
        {
          "name": "stdout",
          "output_type": "stream",
          "text": [
            "Test Accuracy of NN: 96.23493975903614 % Best: 96.98795180722891 %\n"
          ]
        },
        {
          "name": "stderr",
          "output_type": "stream",
          "text": []
        },
        {
          "name": "stdout",
          "output_type": "stream",
          "text": [
            "Ordinary Epoch [287/300], Step [1/83] Loss: 0.0008\n"
          ]
        },
        {
          "name": "stderr",
          "output_type": "stream",
          "text": [
            "83it [00:44,  1.88it/s]\n",
            " 96%|█████████▌| 287/300 [4:28:07<11:58, 55.30s/it]"
          ]
        },
        {
          "name": "stdout",
          "output_type": "stream",
          "text": [
            "Test Accuracy of NN: 95.93373493975903 % Best: 96.98795180722891 %\n"
          ]
        },
        {
          "name": "stderr",
          "output_type": "stream",
          "text": []
        },
        {
          "name": "stdout",
          "output_type": "stream",
          "text": [
            "Ordinary Epoch [288/300], Step [1/83] Loss: 0.0008\n"
          ]
        },
        {
          "name": "stderr",
          "output_type": "stream",
          "text": [
            "83it [00:44,  1.88it/s]\n",
            " 96%|█████████▌| 288/300 [4:29:03<11:03, 55.32s/it]"
          ]
        },
        {
          "name": "stdout",
          "output_type": "stream",
          "text": [
            "Test Accuracy of NN: 95.78313253012048 % Best: 96.98795180722891 %\n"
          ]
        },
        {
          "name": "stderr",
          "output_type": "stream",
          "text": []
        },
        {
          "name": "stdout",
          "output_type": "stream",
          "text": [
            "Ordinary Epoch [289/300], Step [1/83] Loss: 0.0013\n"
          ]
        },
        {
          "name": "stderr",
          "output_type": "stream",
          "text": [
            "83it [00:43,  1.90it/s]\n",
            " 96%|█████████▋| 289/300 [4:29:57<10:07, 55.18s/it]"
          ]
        },
        {
          "name": "stdout",
          "output_type": "stream",
          "text": [
            "Test Accuracy of NN: 96.3855421686747 % Best: 96.98795180722891 %\n"
          ]
        },
        {
          "name": "stderr",
          "output_type": "stream",
          "text": []
        },
        {
          "name": "stdout",
          "output_type": "stream",
          "text": [
            "Ordinary Epoch [290/300], Step [1/83] Loss: 0.0021\n"
          ]
        },
        {
          "name": "stderr",
          "output_type": "stream",
          "text": [
            "83it [00:44,  1.88it/s]\n",
            " 97%|█████████▋| 290/300 [4:30:53<09:12, 55.28s/it]"
          ]
        },
        {
          "name": "stdout",
          "output_type": "stream",
          "text": [
            "Test Accuracy of NN: 96.3855421686747 % Best: 96.98795180722891 %\n"
          ]
        },
        {
          "name": "stderr",
          "output_type": "stream",
          "text": []
        },
        {
          "name": "stdout",
          "output_type": "stream",
          "text": [
            "Ordinary Epoch [291/300], Step [1/83] Loss: 0.0002\n"
          ]
        },
        {
          "name": "stderr",
          "output_type": "stream",
          "text": [
            "83it [00:43,  1.90it/s]\n",
            " 97%|█████████▋| 291/300 [4:31:48<08:16, 55.18s/it]"
          ]
        },
        {
          "name": "stdout",
          "output_type": "stream",
          "text": [
            "Test Accuracy of NN: 80.2710843373494 % Best: 96.98795180722891 %\n"
          ]
        },
        {
          "name": "stderr",
          "output_type": "stream",
          "text": []
        },
        {
          "name": "stdout",
          "output_type": "stream",
          "text": [
            "Ordinary Epoch [292/300], Step [1/83] Loss: 0.2489\n"
          ]
        },
        {
          "name": "stderr",
          "output_type": "stream",
          "text": [
            "83it [00:43,  1.90it/s]\n",
            " 97%|█████████▋| 292/300 [4:32:43<07:20, 55.09s/it]"
          ]
        },
        {
          "name": "stdout",
          "output_type": "stream",
          "text": [
            "Test Accuracy of NN: 94.42771084337349 % Best: 96.98795180722891 %\n"
          ]
        },
        {
          "name": "stderr",
          "output_type": "stream",
          "text": []
        },
        {
          "name": "stdout",
          "output_type": "stream",
          "text": [
            "Ordinary Epoch [293/300], Step [1/83] Loss: 0.0002\n"
          ]
        },
        {
          "name": "stderr",
          "output_type": "stream",
          "text": [
            "83it [00:43,  1.91it/s]\n",
            " 98%|█████████▊| 293/300 [4:33:37<06:24, 54.92s/it]"
          ]
        },
        {
          "name": "stdout",
          "output_type": "stream",
          "text": [
            "Test Accuracy of NN: 94.87951807228916 % Best: 96.98795180722891 %\n"
          ]
        },
        {
          "name": "stderr",
          "output_type": "stream",
          "text": []
        },
        {
          "name": "stdout",
          "output_type": "stream",
          "text": [
            "Ordinary Epoch [294/300], Step [1/83] Loss: 0.0012\n"
          ]
        },
        {
          "name": "stderr",
          "output_type": "stream",
          "text": [
            "83it [00:44,  1.89it/s]\n",
            " 98%|█████████▊| 294/300 [4:34:32<05:30, 55.01s/it]"
          ]
        },
        {
          "name": "stdout",
          "output_type": "stream",
          "text": [
            "Test Accuracy of NN: 94.87951807228916 % Best: 96.98795180722891 %\n"
          ]
        },
        {
          "name": "stderr",
          "output_type": "stream",
          "text": []
        },
        {
          "name": "stdout",
          "output_type": "stream",
          "text": [
            "Ordinary Epoch [295/300], Step [1/83] Loss: 0.0003\n"
          ]
        },
        {
          "name": "stderr",
          "output_type": "stream",
          "text": [
            "83it [00:43,  1.89it/s]\n",
            " 98%|█████████▊| 295/300 [4:35:28<04:35, 55.04s/it]"
          ]
        },
        {
          "name": "stdout",
          "output_type": "stream",
          "text": [
            "Test Accuracy of NN: 95.48192771084338 % Best: 96.98795180722891 %\n"
          ]
        },
        {
          "name": "stderr",
          "output_type": "stream",
          "text": []
        },
        {
          "name": "stdout",
          "output_type": "stream",
          "text": [
            "Ordinary Epoch [296/300], Step [1/83] Loss: 0.0012\n"
          ]
        },
        {
          "name": "stderr",
          "output_type": "stream",
          "text": [
            "83it [00:43,  1.89it/s]\n",
            " 99%|█████████▊| 296/300 [4:36:23<03:40, 55.07s/it]"
          ]
        },
        {
          "name": "stdout",
          "output_type": "stream",
          "text": [
            "Test Accuracy of NN: 94.42771084337349 % Best: 96.98795180722891 %\n"
          ]
        },
        {
          "name": "stderr",
          "output_type": "stream",
          "text": []
        },
        {
          "name": "stdout",
          "output_type": "stream",
          "text": [
            "Ordinary Epoch [297/300], Step [1/83] Loss: 0.0004\n"
          ]
        },
        {
          "name": "stderr",
          "output_type": "stream",
          "text": [
            "83it [00:44,  1.85it/s]\n",
            " 99%|█████████▉| 297/300 [4:37:19<02:45, 55.33s/it]"
          ]
        },
        {
          "name": "stdout",
          "output_type": "stream",
          "text": [
            "Test Accuracy of NN: 95.63253012048193 % Best: 96.98795180722891 %\n"
          ]
        },
        {
          "name": "stderr",
          "output_type": "stream",
          "text": []
        },
        {
          "name": "stdout",
          "output_type": "stream",
          "text": [
            "Ordinary Epoch [298/300], Step [1/83] Loss: 0.0014\n"
          ]
        },
        {
          "name": "stderr",
          "output_type": "stream",
          "text": [
            "83it [00:44,  1.88it/s]\n",
            " 99%|█████████▉| 298/300 [4:38:14<01:50, 55.26s/it]"
          ]
        },
        {
          "name": "stdout",
          "output_type": "stream",
          "text": [
            "Test Accuracy of NN: 95.03012048192771 % Best: 96.98795180722891 %\n"
          ]
        },
        {
          "name": "stderr",
          "output_type": "stream",
          "text": []
        },
        {
          "name": "stdout",
          "output_type": "stream",
          "text": [
            "Ordinary Epoch [299/300], Step [1/83] Loss: 0.0001\n"
          ]
        },
        {
          "name": "stderr",
          "output_type": "stream",
          "text": [
            "83it [00:43,  1.89it/s]\n",
            "100%|█████████▉| 299/300 [4:39:09<00:55, 55.23s/it]"
          ]
        },
        {
          "name": "stdout",
          "output_type": "stream",
          "text": [
            "Test Accuracy of NN: 94.7289156626506 % Best: 96.98795180722891 %\n"
          ]
        },
        {
          "name": "stderr",
          "output_type": "stream",
          "text": []
        },
        {
          "name": "stdout",
          "output_type": "stream",
          "text": [
            "Ordinary Epoch [300/300], Step [1/83] Loss: 0.0026\n"
          ]
        },
        {
          "name": "stderr",
          "output_type": "stream",
          "text": [
            "83it [00:43,  1.89it/s]\n",
            "100%|██████████| 300/300 [4:40:04<00:00, 56.01s/it]"
          ]
        },
        {
          "name": "stdout",
          "output_type": "stream",
          "text": [
            "Test Accuracy of NN: 95.03012048192771 % Best: 96.98795180722891 %\n"
          ]
        },
        {
          "name": "stderr",
          "output_type": "stream",
          "text": [
            "\n"
          ]
        }
      ],
      "source": [
        "total_step = len(train_loader)\n",
        "best_accuracy1 = 0\n",
        "epochs = []\n",
        "vals = []\n",
        "\n",
        "tp = tn = fp = fn = 0\n",
        "\n",
        "for epoch in tqdm(range(num_epochs)):\n",
        "    epochs.append(epoch)\n",
        "    for i, (images, labels) in tqdm(enumerate(train_loader)):\n",
        "        images = images.to(device)\n",
        "        labels = labels.to(device)\n",
        "\n",
        "        # Forward pass\n",
        "        outputs = model1(images)\n",
        "        loss1 = criterion(outputs, labels)\n",
        "\n",
        "        # Backward and optimize\n",
        "        optimizer1.zero_grad()\n",
        "        loss1.backward()\n",
        "        optimizer1.step()\n",
        "\n",
        "        if i % 1000 == 0:\n",
        "            print (\"Ordinary Epoch [{}/{}], Step [{}/{}] Loss: {:.4f}\"\n",
        "                   .format(epoch+1, num_epochs, i+1, total_step, loss1.item()))\n",
        "\n",
        "    model1.eval()\n",
        "    with torch.no_grad():\n",
        "        correct1 = 0\n",
        "        total1 = 0\n",
        "\n",
        "        for images, labels in test_loader:\n",
        "            images = images.to(device)\n",
        "            labels = labels.to(device)\n",
        "\n",
        "\n",
        "            outputs = model1(images)\n",
        "            _, predicted = torch.max(outputs.data, 1)\n",
        "            total1 += labels.size(0)\n",
        "            correct1 += (predicted == labels).sum().item()\n",
        "            tp += ((predicted == 1) & (labels == 1)).sum().item()\n",
        "            tn += ((predicted == 0) & (labels == 0)).sum().item()\n",
        "            fp += ((predicted == 1) & (labels == 0)).sum().item()\n",
        "            fn += ((predicted == 0) & (labels == 1)).sum().item()\n",
        "\n",
        "        if best_accuracy1>= correct1 / total1:\n",
        "            curr_lr1 = learning_rate*np.ndarray.item(pow(np.random.rand(1),3))\n",
        "            update_lr(optimizer1, curr_lr1)\n",
        "            print('Test Accuracy of NN: {} % Best: {} %'.format(100 * correct1 / total1, 100*best_accuracy1))\n",
        "            vals.append(100 * best_accuracy1)\n",
        "        else:\n",
        "            best_accuracy1 = correct1 / total1\n",
        "            net_opt1 = model1\n",
        "            print('Test Accuracy of NN: {} % (improvement)'.format(100 * correct1 / total1))\n",
        "            vals.append(best_accuracy1)\n",
        "            torch.save(model1.state_dict(), \"model_large_rect_optimal.h5\")\n",
        "\n",
        "        torch.save(model1.state_dict(), \"model_large_final.h5\")\n",
        "\n",
        "        model1.train()\n"
      ]
    },
    {
      "cell_type": "code",
      "execution_count": 17,
      "metadata": {},
      "outputs": [
        {
          "name": "stdout",
          "output_type": "stream",
          "text": [
            "[0.5331325301204819, 0.5391566265060241, 0.6280120481927711, 62.80120481927711, 62.80120481927711, 86.8975903614458, 86.8975903614458, 88.85542168674698, 88.85542168674698, 88.85542168674698, 88.85542168674698, 88.85542168674698, 88.85542168674698, 90.66265060240963, 90.66265060240963, 90.66265060240963, 91.56626506024097, 91.56626506024097, 91.56626506024097, 91.56626506024097, 92.62048192771084, 92.62048192771084, 92.62048192771084, 92.62048192771084, 92.62048192771084, 92.62048192771084, 93.07228915662651, 93.07228915662651, 93.82530120481928, 93.82530120481928, 93.82530120481928, 94.42771084337349, 94.42771084337349, 94.42771084337349, 94.42771084337349, 94.42771084337349, 94.42771084337349, 94.42771084337349, 94.42771084337349, 94.42771084337349, 95.18072289156626, 95.18072289156626, 95.18072289156626, 95.18072289156626, 95.18072289156626, 95.18072289156626, 95.18072289156626, 95.18072289156626, 95.18072289156626, 95.18072289156626, 95.18072289156626, 95.18072289156626, 95.18072289156626, 95.18072289156626, 95.18072289156626, 95.18072289156626, 95.18072289156626, 95.18072289156626, 95.18072289156626, 95.18072289156626, 95.18072289156626, 95.18072289156626, 95.18072289156626, 95.18072289156626, 95.18072289156626, 95.18072289156626, 95.18072289156626, 95.18072289156626, 95.18072289156626, 95.18072289156626, 95.18072289156626, 95.18072289156626, 95.18072289156626, 95.18072289156626, 95.18072289156626, 95.18072289156626, 95.78313253012048, 95.78313253012048, 95.78313253012048, 95.78313253012048, 95.78313253012048, 95.78313253012048, 95.78313253012048, 95.78313253012048, 95.78313253012048, 95.78313253012048, 95.78313253012048, 95.78313253012048, 95.78313253012048, 95.78313253012048, 95.78313253012048, 95.78313253012048, 95.78313253012048, 95.78313253012048, 95.78313253012048, 95.78313253012048, 95.78313253012048, 95.78313253012048, 95.78313253012048, 95.78313253012048, 95.78313253012048, 95.78313253012048, 95.78313253012048, 96.53614457831326, 96.53614457831326, 96.53614457831326, 96.53614457831326, 96.53614457831326, 96.53614457831326, 96.53614457831326, 96.53614457831326, 96.53614457831326, 96.53614457831326, 96.53614457831326, 96.53614457831326, 96.53614457831326, 96.53614457831326, 96.53614457831326, 96.53614457831326, 96.53614457831326, 96.83734939759037, 96.83734939759037, 96.83734939759037, 96.83734939759037, 96.83734939759037, 96.83734939759037, 96.83734939759037, 96.83734939759037, 96.83734939759037, 96.83734939759037, 96.83734939759037, 96.83734939759037, 96.83734939759037, 96.83734939759037, 96.83734939759037, 96.83734939759037, 96.83734939759037, 96.83734939759037, 96.83734939759037, 96.83734939759037, 96.83734939759037, 96.83734939759037, 96.83734939759037, 96.83734939759037, 96.83734939759037, 96.83734939759037, 96.83734939759037, 96.83734939759037, 96.83734939759037, 96.83734939759037, 96.83734939759037, 96.83734939759037, 96.83734939759037, 96.83734939759037, 96.83734939759037, 96.83734939759037, 96.83734939759037, 96.83734939759037, 96.83734939759037, 96.83734939759037, 96.83734939759037, 96.83734939759037, 96.83734939759037, 96.83734939759037, 96.83734939759037, 96.83734939759037, 96.83734939759037, 96.83734939759037, 96.83734939759037, 96.83734939759037, 96.83734939759037, 96.83734939759037, 96.83734939759037, 96.83734939759037, 96.83734939759037, 96.83734939759037, 96.83734939759037, 96.83734939759037, 96.83734939759037, 96.83734939759037, 96.83734939759037, 96.83734939759037, 96.83734939759037, 96.83734939759037, 96.83734939759037, 96.83734939759037, 96.83734939759037, 96.83734939759037, 96.83734939759037, 96.83734939759037, 96.83734939759037, 96.83734939759037, 96.83734939759037, 96.83734939759037, 96.83734939759037, 96.83734939759037, 96.83734939759037, 96.83734939759037, 96.83734939759037, 96.83734939759037, 96.83734939759037, 96.83734939759037, 96.83734939759037, 96.83734939759037, 96.83734939759037, 96.83734939759037, 96.83734939759037, 96.83734939759037, 96.83734939759037, 96.83734939759037, 96.83734939759037, 96.83734939759037, 96.83734939759037, 96.83734939759037, 96.83734939759037, 96.83734939759037, 96.83734939759037, 96.83734939759037, 96.83734939759037, 96.83734939759037, 96.83734939759037, 96.83734939759037, 96.83734939759037, 96.83734939759037, 96.83734939759037, 96.83734939759037, 96.83734939759037, 96.83734939759037, 96.83734939759037, 96.83734939759037, 96.83734939759037, 96.83734939759037, 96.83734939759037, 96.83734939759037, 96.83734939759037, 96.83734939759037, 96.83734939759037, 96.83734939759037, 96.83734939759037, 96.83734939759037, 96.83734939759037, 96.83734939759037, 96.83734939759037, 96.83734939759037, 96.83734939759037, 96.83734939759037, 96.83734939759037, 96.83734939759037, 96.83734939759037, 96.83734939759037, 96.83734939759037, 96.83734939759037, 96.83734939759037, 96.83734939759037, 96.83734939759037, 96.83734939759037, 96.83734939759037, 96.83734939759037, 96.83734939759037, 96.83734939759037, 96.83734939759037, 96.98795180722891, 96.98795180722891, 96.98795180722891, 96.98795180722891, 96.98795180722891, 96.98795180722891, 96.98795180722891, 96.98795180722891, 96.98795180722891, 96.98795180722891, 96.98795180722891, 96.98795180722891, 96.98795180722891, 96.98795180722891, 96.98795180722891, 96.98795180722891, 96.98795180722891, 96.98795180722891, 96.98795180722891, 96.98795180722891, 96.98795180722891, 96.98795180722891, 96.98795180722891, 96.98795180722891, 96.98795180722891, 96.98795180722891, 96.98795180722891, 96.98795180722891, 96.98795180722891, 96.98795180722891, 96.98795180722891, 96.98795180722891, 96.98795180722891, 96.98795180722891, 96.98795180722891, 96.98795180722891, 96.98795180722891, 96.98795180722891, 96.98795180722891]\n"
          ]
        }
      ],
      "source": [
        "# epochs.pop()\n",
        "# original_list = [4, 2, 7, 1, 9, 3, 6]\n",
        "\n",
        "max_values_list = []\n",
        "max_value = float('-inf')  # Initialize max_value as negative infinity\n",
        "\n",
        "for num in vals:\n",
        "    max_value = max(max_value, num)\n",
        "    max_values_list.append(max_value)\n",
        "\n",
        "print(max_values_list)\n"
      ]
    },
    {
      "cell_type": "code",
      "execution_count": 18,
      "metadata": {
        "id": "hiQPQ19bO_OO"
      },
      "outputs": [
        {
          "data": {
            "text/plain": [
              "Text(0, 0.5, '% Accuracy')"
            ]
          },
          "execution_count": 18,
          "metadata": {},
          "output_type": "execute_result"
        },
        {
          "data": {
            "image/png": "[encoded data removed]",
            "text/plain": [
              "<Figure size 640x480 with 1 Axes>"
            ]
          },
          "metadata": {},
          "output_type": "display_data"
        }
      ],
      "source": [
        "plt.plot(epochs,max_values_list)\n",
        "plt.ylim(0,100)\n",
        "plt.xlabel(\"Epochs\")\n",
        "plt.ylabel(\"% Accuracy\")"
      ]
    },
    {
      "cell_type": "code",
      "execution_count": 19,
      "metadata": {},
      "outputs": [
        {
          "data": {
            "text/plain": [
              "96.98795180722891"
            ]
          },
          "execution_count": 19,
          "metadata": {},
          "output_type": "execute_result"
        }
      ],
      "source": [
        "max_values_list[-1]"
      ]
    },
    {
      "cell_type": "code",
      "execution_count": 20,
      "metadata": {},
      "outputs": [],
      "source": [
        "model_accuracy= (tp+tn)/(tp+fp+tn+fn)\n",
        "model_precision= tp/(tp+fp)\n",
        "model_recall= tp/(tp+fn)\n",
        "model_f= 2*model_precision*model_recall/(model_precision+model_recall)"
      ]
    },
    {
      "cell_type": "code",
      "execution_count": 21,
      "metadata": {},
      "outputs": [
        {
          "name": "stdout",
          "output_type": "stream",
          "text": [
            "F-Score=0.861, Precision=0.793, Recall=0.943 ,model_accuracy=0.858379\n"
          ]
        }
      ],
      "source": [
        "print('F-Score=%.3f, Precision=%.3f, Recall=%.3f ,model_accuracy=%f' % (model_f, model_precision, model_recall, model_accuracy))"
      ]
    },
    {
      "cell_type": "code",
      "execution_count": 22,
      "metadata": {},
      "outputs": [
        {
          "name": "stdout",
          "output_type": "stream",
          "text": [
            "87675 22886 5325 83314\n"
          ]
        }
      ],
      "source": [
        "print(tp,fp,fn,tn)"
      ]
    }
  ],
  "metadata": {
    "accelerator": "GPU",
    "colab": {
      "gpuType": "T4",
      "provenance": []
    },
    "kernelspec": {
      "display_name": "Python 3",
      "name": "python3"
    },
    "language_info": {
      "codemirror_mode": {
        "name": "ipython",
        "version": 3
      },
      "file_extension": ".py",
      "mimetype": "text/x-python",
      "name": "python",
      "nbconvert_exporter": "python",
      "pygments_lexer": "ipython3",
      "version": "3.11.5"
    },
    "widgets": {
      "application/vnd.jupyter.widget-state+json": {
        "016fdeae011a4317b2dffc976755eb40": {
          "model_module": "@jupyter-widgets/controls",
          "model_module_version": "1.5.0",
          "model_name": "HTMLModel",
          "state": {
            "_dom_classes": [],
            "_model_module": "@jupyter-widgets/controls",
            "_model_module_version": "1.5.0",
            "_model_name": "HTMLModel",
            "_view_count": null,
            "_view_module": "@jupyter-widgets/controls",
            "_view_module_version": "1.5.0",
            "_view_name": "HTMLView",
            "description": "",
            "description_tooltip": null,
            "layout": "IPY_MODEL_b0f9bf55ee2e47728d5548da14623160",
            "placeholder": "​",
            "style": "IPY_MODEL_3587c1b973fd474e95ec49e0e4287f01",
            "value": ""
          }
        },
        "01d6987737db40d6a70db199cd161fe3": {
          "model_module": "@jupyter-widgets/controls",
          "model_module_version": "1.5.0",
          "model_name": "HTMLModel",
          "state": {
            "_dom_classes": [],
            "_model_module": "@jupyter-widgets/controls",
            "_model_module_version": "1.5.0",
            "_model_name": "HTMLModel",
            "_view_count": null,
            "_view_module": "@jupyter-widgets/controls",
            "_view_module_version": "1.5.0",
            "_view_name": "HTMLView",
            "description": "",
            "description_tooltip": null,
            "layout": "IPY_MODEL_c98bc4230bd6477880984bf4c168efd9",
            "placeholder": "​",
            "style": "IPY_MODEL_e7dbce0fc4c54404ace04dff09cb7428",
            "value": " 19/? [00:07&lt;00:00,  2.96it/s]"
          }
        },
        "03f176d797eb4d4db8f80e48b1e452a8": {
          "model_module": "@jupyter-widgets/controls",
          "model_module_version": "1.5.0",
          "model_name": "DescriptionStyleModel",
          "state": {
            "_model_module": "@jupyter-widgets/controls",
            "_model_module_version": "1.5.0",
            "_model_name": "DescriptionStyleModel",
            "_view_count": null,
            "_view_module": "@jupyter-widgets/base",
            "_view_module_version": "1.2.0",
            "_view_name": "StyleView",
            "description_width": ""
          }
        },
        "041650f499db45de812b15b13311524b": {
          "model_module": "@jupyter-widgets/controls",
          "model_module_version": "1.5.0",
          "model_name": "FloatProgressModel",
          "state": {
            "_dom_classes": [],
            "_model_module": "@jupyter-widgets/controls",
            "_model_module_version": "1.5.0",
            "_model_name": "FloatProgressModel",
            "_view_count": null,
            "_view_module": "@jupyter-widgets/controls",
            "_view_module_version": "1.5.0",
            "_view_name": "ProgressView",
            "bar_style": "success",
            "description": "",
            "description_tooltip": null,
            "layout": "IPY_MODEL_0808c743c35349f29b7b82a5c533f9d9",
            "max": 1,
            "min": 0,
            "orientation": "horizontal",
            "style": "IPY_MODEL_c489a490d48042b98936ea39f2da1b54",
            "value": 1
          }
        },
        "076f61be78984460b7737f4e0d0d1413": {
          "model_module": "@jupyter-widgets/base",
          "model_module_version": "1.2.0",
          "model_name": "LayoutModel",
          "state": {
            "_model_module": "@jupyter-widgets/base",
            "_model_module_version": "1.2.0",
            "_model_name": "LayoutModel",
            "_view_count": null,
            "_view_module": "@jupyter-widgets/base",
            "_view_module_version": "1.2.0",
            "_view_name": "LayoutView",
            "align_content": null,
            "align_items": null,
            "align_self": null,
            "border": null,
            "bottom": null,
            "display": null,
            "flex": null,
            "flex_flow": null,
            "grid_area": null,
            "grid_auto_columns": null,
            "grid_auto_flow": null,
            "grid_auto_rows": null,
            "grid_column": null,
            "grid_gap": null,
            "grid_row": null,
            "grid_template_areas": null,
            "grid_template_columns": null,
            "grid_template_rows": null,
            "height": null,
            "justify_content": null,
            "justify_items": null,
            "left": null,
            "margin": null,
            "max_height": null,
            "max_width": null,
            "min_height": null,
            "min_width": null,
            "object_fit": null,
            "object_position": null,
            "order": null,
            "overflow": null,
            "overflow_x": null,
            "overflow_y": null,
            "padding": null,
            "right": null,
            "top": null,
            "visibility": null,
            "width": null
          }
        },
        "07ca51df0f1f419086c7dab250d67e45": {
          "model_module": "@jupyter-widgets/controls",
          "model_module_version": "1.5.0",
          "model_name": "DescriptionStyleModel",
          "state": {
            "_model_module": "@jupyter-widgets/controls",
            "_model_module_version": "1.5.0",
            "_model_name": "DescriptionStyleModel",
            "_view_count": null,
            "_view_module": "@jupyter-widgets/base",
            "_view_module_version": "1.2.0",
            "_view_name": "StyleView",
            "description_width": ""
          }
        },
        "0808c743c35349f29b7b82a5c533f9d9": {
          "model_module": "@jupyter-widgets/base",
          "model_module_version": "1.2.0",
          "model_name": "LayoutModel",
          "state": {
            "_model_module": "@jupyter-widgets/base",
            "_model_module_version": "1.2.0",
            "_model_name": "LayoutModel",
            "_view_count": null,
            "_view_module": "@jupyter-widgets/base",
            "_view_module_version": "1.2.0",
            "_view_name": "LayoutView",
            "align_content": null,
            "align_items": null,
            "align_self": null,
            "border": null,
            "bottom": null,
            "display": null,
            "flex": null,
            "flex_flow": null,
            "grid_area": null,
            "grid_auto_columns": null,
            "grid_auto_flow": null,
            "grid_auto_rows": null,
            "grid_column": null,
            "grid_gap": null,
            "grid_row": null,
            "grid_template_areas": null,
            "grid_template_columns": null,
            "grid_template_rows": null,
            "height": null,
            "justify_content": null,
            "justify_items": null,
            "left": null,
            "margin": null,
            "max_height": null,
            "max_width": null,
            "min_height": null,
            "min_width": null,
            "object_fit": null,
            "object_position": null,
            "order": null,
            "overflow": null,
            "overflow_x": null,
            "overflow_y": null,
            "padding": null,
            "right": null,
            "top": null,
            "visibility": null,
            "width": "20px"
          }
        },
        "0e98dd86d7334e41926545aac3756d09": {
          "model_module": "@jupyter-widgets/base",
          "model_module_version": "1.2.0",
          "model_name": "LayoutModel",
          "state": {
            "_model_module": "@jupyter-widgets/base",
            "_model_module_version": "1.2.0",
            "_model_name": "LayoutModel",
            "_view_count": null,
            "_view_module": "@jupyter-widgets/base",
            "_view_module_version": "1.2.0",
            "_view_name": "LayoutView",
            "align_content": null,
            "align_items": null,
            "align_self": null,
            "border": null,
            "bottom": null,
            "display": null,
            "flex": null,
            "flex_flow": null,
            "grid_area": null,
            "grid_auto_columns": null,
            "grid_auto_flow": null,
            "grid_auto_rows": null,
            "grid_column": null,
            "grid_gap": null,
            "grid_row": null,
            "grid_template_areas": null,
            "grid_template_columns": null,
            "grid_template_rows": null,
            "height": null,
            "justify_content": null,
            "justify_items": null,
            "left": null,
            "margin": null,
            "max_height": null,
            "max_width": null,
            "min_height": null,
            "min_width": null,
            "object_fit": null,
            "object_position": null,
            "order": null,
            "overflow": null,
            "overflow_x": null,
            "overflow_y": null,
            "padding": null,
            "right": null,
            "top": null,
            "visibility": null,
            "width": null
          }
        },
        "11ac08e090454a4e82ff9a915e375082": {
          "model_module": "@jupyter-widgets/controls",
          "model_module_version": "1.5.0",
          "model_name": "HBoxModel",
          "state": {
            "_dom_classes": [],
            "_model_module": "@jupyter-widgets/controls",
            "_model_module_version": "1.5.0",
            "_model_name": "HBoxModel",
            "_view_count": null,
            "_view_module": "@jupyter-widgets/controls",
            "_view_module_version": "1.5.0",
            "_view_name": "HBoxView",
            "box_style": "",
            "children": [
              "IPY_MODEL_c528ccf0c3c04ad0b76fcb74d2cf0f5e",
              "IPY_MODEL_dfca444753214a7f9def7f857b8e1b17",
              "IPY_MODEL_2f44a59a68bd4dd093b91082796e4884"
            ],
            "layout": "IPY_MODEL_76dbfdb2e21c4bc48a279995f6300886"
          }
        },
        "11c669350194464c84e06cf266b60b90": {
          "model_module": "@jupyter-widgets/controls",
          "model_module_version": "1.5.0",
          "model_name": "FloatProgressModel",
          "state": {
            "_dom_classes": [],
            "_model_module": "@jupyter-widgets/controls",
            "_model_module_version": "1.5.0",
            "_model_name": "FloatProgressModel",
            "_view_count": null,
            "_view_module": "@jupyter-widgets/controls",
            "_view_module_version": "1.5.0",
            "_view_name": "ProgressView",
            "bar_style": "success",
            "description": "",
            "description_tooltip": null,
            "layout": "IPY_MODEL_8dab7857345e483aab46e487c6f098bc",
            "max": 1,
            "min": 0,
            "orientation": "horizontal",
            "style": "IPY_MODEL_4860930bf6484633990c384d8209daff",
            "value": 1
          }
        },
        "12be6b89f3a0483481a8dae7285827eb": {
          "model_module": "@jupyter-widgets/controls",
          "model_module_version": "1.5.0",
          "model_name": "ProgressStyleModel",
          "state": {
            "_model_module": "@jupyter-widgets/controls",
            "_model_module_version": "1.5.0",
            "_model_name": "ProgressStyleModel",
            "_view_count": null,
            "_view_module": "@jupyter-widgets/base",
            "_view_module_version": "1.2.0",
            "_view_name": "StyleView",
            "bar_color": null,
            "description_width": ""
          }
        },
        "13387f3928994ac6beafeaef3a68331d": {
          "model_module": "@jupyter-widgets/base",
          "model_module_version": "1.2.0",
          "model_name": "LayoutModel",
          "state": {
            "_model_module": "@jupyter-widgets/base",
            "_model_module_version": "1.2.0",
            "_model_name": "LayoutModel",
            "_view_count": null,
            "_view_module": "@jupyter-widgets/base",
            "_view_module_version": "1.2.0",
            "_view_name": "LayoutView",
            "align_content": null,
            "align_items": null,
            "align_self": null,
            "border": null,
            "bottom": null,
            "display": null,
            "flex": null,
            "flex_flow": null,
            "grid_area": null,
            "grid_auto_columns": null,
            "grid_auto_flow": null,
            "grid_auto_rows": null,
            "grid_column": null,
            "grid_gap": null,
            "grid_row": null,
            "grid_template_areas": null,
            "grid_template_columns": null,
            "grid_template_rows": null,
            "height": null,
            "justify_content": null,
            "justify_items": null,
            "left": null,
            "margin": null,
            "max_height": null,
            "max_width": null,
            "min_height": null,
            "min_width": null,
            "object_fit": null,
            "object_position": null,
            "order": null,
            "overflow": null,
            "overflow_x": null,
            "overflow_y": null,
            "padding": null,
            "right": null,
            "top": null,
            "visibility": null,
            "width": null
          }
        },
        "161ea520a7f840aba3d683903e9ec457": {
          "model_module": "@jupyter-widgets/controls",
          "model_module_version": "1.5.0",
          "model_name": "ProgressStyleModel",
          "state": {
            "_model_module": "@jupyter-widgets/controls",
            "_model_module_version": "1.5.0",
            "_model_name": "ProgressStyleModel",
            "_view_count": null,
            "_view_module": "@jupyter-widgets/base",
            "_view_module_version": "1.2.0",
            "_view_name": "StyleView",
            "bar_color": null,
            "description_width": ""
          }
        },
        "19c34e2025f2468aba951da12275ff55": {
          "model_module": "@jupyter-widgets/controls",
          "model_module_version": "1.5.0",
          "model_name": "HBoxModel",
          "state": {
            "_dom_classes": [],
            "_model_module": "@jupyter-widgets/controls",
            "_model_module_version": "1.5.0",
            "_model_name": "HBoxModel",
            "_view_count": null,
            "_view_module": "@jupyter-widgets/controls",
            "_view_module_version": "1.5.0",
            "_view_name": "HBoxView",
            "box_style": "",
            "children": [
              "IPY_MODEL_ec9becf5f2f64bba92775185bfe0b8db",
              "IPY_MODEL_91c94e0eb5784f06b7774bc6a6f514f7",
              "IPY_MODEL_46f039fc9b654964be1ea1e23a7c629b"
            ],
            "layout": "IPY_MODEL_ddb099de98ce4083b80e45570bc67432"
          }
        },
        "21a2355a1b8f4619b92f49debdf2e8c0": {
          "model_module": "@jupyter-widgets/controls",
          "model_module_version": "1.5.0",
          "model_name": "ProgressStyleModel",
          "state": {
            "_model_module": "@jupyter-widgets/controls",
            "_model_module_version": "1.5.0",
            "_model_name": "ProgressStyleModel",
            "_view_count": null,
            "_view_module": "@jupyter-widgets/base",
            "_view_module_version": "1.2.0",
            "_view_name": "StyleView",
            "bar_color": null,
            "description_width": ""
          }
        },
        "2315c45d3c9c4a15b2cebfef46041208": {
          "model_module": "@jupyter-widgets/controls",
          "model_module_version": "1.5.0",
          "model_name": "DescriptionStyleModel",
          "state": {
            "_model_module": "@jupyter-widgets/controls",
            "_model_module_version": "1.5.0",
            "_model_name": "DescriptionStyleModel",
            "_view_count": null,
            "_view_module": "@jupyter-widgets/base",
            "_view_module_version": "1.2.0",
            "_view_name": "StyleView",
            "description_width": ""
          }
        },
        "277fd7db78724bea9ea50a6467d39879": {
          "model_module": "@jupyter-widgets/base",
          "model_module_version": "1.2.0",
          "model_name": "LayoutModel",
          "state": {
            "_model_module": "@jupyter-widgets/base",
            "_model_module_version": "1.2.0",
            "_model_name": "LayoutModel",
            "_view_count": null,
            "_view_module": "@jupyter-widgets/base",
            "_view_module_version": "1.2.0",
            "_view_name": "LayoutView",
            "align_content": null,
            "align_items": null,
            "align_self": null,
            "border": null,
            "bottom": null,
            "display": null,
            "flex": null,
            "flex_flow": null,
            "grid_area": null,
            "grid_auto_columns": null,
            "grid_auto_flow": null,
            "grid_auto_rows": null,
            "grid_column": null,
            "grid_gap": null,
            "grid_row": null,
            "grid_template_areas": null,
            "grid_template_columns": null,
            "grid_template_rows": null,
            "height": null,
            "justify_content": null,
            "justify_items": null,
            "left": null,
            "margin": null,
            "max_height": null,
            "max_width": null,
            "min_height": null,
            "min_width": null,
            "object_fit": null,
            "object_position": null,
            "order": null,
            "overflow": null,
            "overflow_x": null,
            "overflow_y": null,
            "padding": null,
            "right": null,
            "top": null,
            "visibility": null,
            "width": null
          }
        },
        "2877e649708a4c1eb61b0c9750e1a081": {
          "model_module": "@jupyter-widgets/controls",
          "model_module_version": "1.5.0",
          "model_name": "HBoxModel",
          "state": {
            "_dom_classes": [],
            "_model_module": "@jupyter-widgets/controls",
            "_model_module_version": "1.5.0",
            "_model_name": "HBoxModel",
            "_view_count": null,
            "_view_module": "@jupyter-widgets/controls",
            "_view_module_version": "1.5.0",
            "_view_name": "HBoxView",
            "box_style": "",
            "children": [
              "IPY_MODEL_2a651b1ff94f4539899f9362928c794b",
              "IPY_MODEL_c65779dd435c498a88bf6943361b9fd0",
              "IPY_MODEL_b8082d9e2e4b4beabf9e37510c736eb8"
            ],
            "layout": "IPY_MODEL_e65e99661c764c7c950302cbaa4e357f"
          }
        },
        "2a14a8c2f4584b36b5f47bbcab28cfbd": {
          "model_module": "@jupyter-widgets/base",
          "model_module_version": "1.2.0",
          "model_name": "LayoutModel",
          "state": {
            "_model_module": "@jupyter-widgets/base",
            "_model_module_version": "1.2.0",
            "_model_name": "LayoutModel",
            "_view_count": null,
            "_view_module": "@jupyter-widgets/base",
            "_view_module_version": "1.2.0",
            "_view_name": "LayoutView",
            "align_content": null,
            "align_items": null,
            "align_self": null,
            "border": null,
            "bottom": null,
            "display": null,
            "flex": null,
            "flex_flow": null,
            "grid_area": null,
            "grid_auto_columns": null,
            "grid_auto_flow": null,
            "grid_auto_rows": null,
            "grid_column": null,
            "grid_gap": null,
            "grid_row": null,
            "grid_template_areas": null,
            "grid_template_columns": null,
            "grid_template_rows": null,
            "height": null,
            "justify_content": null,
            "justify_items": null,
            "left": null,
            "margin": null,
            "max_height": null,
            "max_width": null,
            "min_height": null,
            "min_width": null,
            "object_fit": null,
            "object_position": null,
            "order": null,
            "overflow": null,
            "overflow_x": null,
            "overflow_y": null,
            "padding": null,
            "right": null,
            "top": null,
            "visibility": null,
            "width": null
          }
        },
        "2a651b1ff94f4539899f9362928c794b": {
          "model_module": "@jupyter-widgets/controls",
          "model_module_version": "1.5.0",
          "model_name": "HTMLModel",
          "state": {
            "_dom_classes": [],
            "_model_module": "@jupyter-widgets/controls",
            "_model_module_version": "1.5.0",
            "_model_name": "HTMLModel",
            "_view_count": null,
            "_view_module": "@jupyter-widgets/controls",
            "_view_module_version": "1.5.0",
            "_view_name": "HTMLView",
            "description": "",
            "description_tooltip": null,
            "layout": "IPY_MODEL_356a7903bda94a41801c1a6b75d05ccf",
            "placeholder": "​",
            "style": "IPY_MODEL_03f176d797eb4d4db8f80e48b1e452a8",
            "value": ""
          }
        },
        "2f44a59a68bd4dd093b91082796e4884": {
          "model_module": "@jupyter-widgets/controls",
          "model_module_version": "1.5.0",
          "model_name": "HTMLModel",
          "state": {
            "_dom_classes": [],
            "_model_module": "@jupyter-widgets/controls",
            "_model_module_version": "1.5.0",
            "_model_name": "HTMLModel",
            "_view_count": null,
            "_view_module": "@jupyter-widgets/controls",
            "_view_module_version": "1.5.0",
            "_view_name": "HTMLView",
            "description": "",
            "description_tooltip": null,
            "layout": "IPY_MODEL_de649be7dcf94ce5878664a94f99eead",
            "placeholder": "​",
            "style": "IPY_MODEL_7e75f08f847e42c8b4af87146e43907c",
            "value": " 8/100 [10:43&lt;2:02:22, 79.81s/it]"
          }
        },
        "3158a0f9f06942b08d144a5bcc4fa846": {
          "model_module": "@jupyter-widgets/controls",
          "model_module_version": "1.5.0",
          "model_name": "FloatProgressModel",
          "state": {
            "_dom_classes": [],
            "_model_module": "@jupyter-widgets/controls",
            "_model_module_version": "1.5.0",
            "_model_name": "FloatProgressModel",
            "_view_count": null,
            "_view_module": "@jupyter-widgets/controls",
            "_view_module_version": "1.5.0",
            "_view_name": "ProgressView",
            "bar_style": "success",
            "description": "",
            "description_tooltip": null,
            "layout": "IPY_MODEL_444b991e836e488d9c45f918c2ba2934",
            "max": 1,
            "min": 0,
            "orientation": "horizontal",
            "style": "IPY_MODEL_161ea520a7f840aba3d683903e9ec457",
            "value": 1
          }
        },
        "31d7c17b57b74775bb55c8ee80f43e93": {
          "model_module": "@jupyter-widgets/controls",
          "model_module_version": "1.5.0",
          "model_name": "HBoxModel",
          "state": {
            "_dom_classes": [],
            "_model_module": "@jupyter-widgets/controls",
            "_model_module_version": "1.5.0",
            "_model_name": "HBoxModel",
            "_view_count": null,
            "_view_module": "@jupyter-widgets/controls",
            "_view_module_version": "1.5.0",
            "_view_name": "HBoxView",
            "box_style": "",
            "children": [
              "IPY_MODEL_f2fdd402727d4c07ae1a144fd28ef6d0",
              "IPY_MODEL_b051ecfafb9d4e2f896430dec206c24b",
              "IPY_MODEL_01d6987737db40d6a70db199cd161fe3"
            ],
            "layout": "IPY_MODEL_55ef53c126954d5ebe9e732fad44cc7f"
          }
        },
        "356a7903bda94a41801c1a6b75d05ccf": {
          "model_module": "@jupyter-widgets/base",
          "model_module_version": "1.2.0",
          "model_name": "LayoutModel",
          "state": {
            "_model_module": "@jupyter-widgets/base",
            "_model_module_version": "1.2.0",
            "_model_name": "LayoutModel",
            "_view_count": null,
            "_view_module": "@jupyter-widgets/base",
            "_view_module_version": "1.2.0",
            "_view_name": "LayoutView",
            "align_content": null,
            "align_items": null,
            "align_self": null,
            "border": null,
            "bottom": null,
            "display": null,
            "flex": null,
            "flex_flow": null,
            "grid_area": null,
            "grid_auto_columns": null,
            "grid_auto_flow": null,
            "grid_auto_rows": null,
            "grid_column": null,
            "grid_gap": null,
            "grid_row": null,
            "grid_template_areas": null,
            "grid_template_columns": null,
            "grid_template_rows": null,
            "height": null,
            "justify_content": null,
            "justify_items": null,
            "left": null,
            "margin": null,
            "max_height": null,
            "max_width": null,
            "min_height": null,
            "min_width": null,
            "object_fit": null,
            "object_position": null,
            "order": null,
            "overflow": null,
            "overflow_x": null,
            "overflow_y": null,
            "padding": null,
            "right": null,
            "top": null,
            "visibility": null,
            "width": null
          }
        },
        "3587c1b973fd474e95ec49e0e4287f01": {
          "model_module": "@jupyter-widgets/controls",
          "model_module_version": "1.5.0",
          "model_name": "DescriptionStyleModel",
          "state": {
            "_model_module": "@jupyter-widgets/controls",
            "_model_module_version": "1.5.0",
            "_model_name": "DescriptionStyleModel",
            "_view_count": null,
            "_view_module": "@jupyter-widgets/base",
            "_view_module_version": "1.2.0",
            "_view_name": "StyleView",
            "description_width": ""
          }
        },
        "36ff38e04e1c43c6b923969b6323ec0c": {
          "model_module": "@jupyter-widgets/controls",
          "model_module_version": "1.5.0",
          "model_name": "DescriptionStyleModel",
          "state": {
            "_model_module": "@jupyter-widgets/controls",
            "_model_module_version": "1.5.0",
            "_model_name": "DescriptionStyleModel",
            "_view_count": null,
            "_view_module": "@jupyter-widgets/base",
            "_view_module_version": "1.2.0",
            "_view_name": "StyleView",
            "description_width": ""
          }
        },
        "37b188628c89408e925b59b359bc6084": {
          "model_module": "@jupyter-widgets/controls",
          "model_module_version": "1.5.0",
          "model_name": "DescriptionStyleModel",
          "state": {
            "_model_module": "@jupyter-widgets/controls",
            "_model_module_version": "1.5.0",
            "_model_name": "DescriptionStyleModel",
            "_view_count": null,
            "_view_module": "@jupyter-widgets/base",
            "_view_module_version": "1.2.0",
            "_view_name": "StyleView",
            "description_width": ""
          }
        },
        "37c8502267c5482485d44af361fcd61b": {
          "model_module": "@jupyter-widgets/base",
          "model_module_version": "1.2.0",
          "model_name": "LayoutModel",
          "state": {
            "_model_module": "@jupyter-widgets/base",
            "_model_module_version": "1.2.0",
            "_model_name": "LayoutModel",
            "_view_count": null,
            "_view_module": "@jupyter-widgets/base",
            "_view_module_version": "1.2.0",
            "_view_name": "LayoutView",
            "align_content": null,
            "align_items": null,
            "align_self": null,
            "border": null,
            "bottom": null,
            "display": null,
            "flex": null,
            "flex_flow": null,
            "grid_area": null,
            "grid_auto_columns": null,
            "grid_auto_flow": null,
            "grid_auto_rows": null,
            "grid_column": null,
            "grid_gap": null,
            "grid_row": null,
            "grid_template_areas": null,
            "grid_template_columns": null,
            "grid_template_rows": null,
            "height": null,
            "justify_content": null,
            "justify_items": null,
            "left": null,
            "margin": null,
            "max_height": null,
            "max_width": null,
            "min_height": null,
            "min_width": null,
            "object_fit": null,
            "object_position": null,
            "order": null,
            "overflow": null,
            "overflow_x": null,
            "overflow_y": null,
            "padding": null,
            "right": null,
            "top": null,
            "visibility": null,
            "width": null
          }
        },
        "3c65a701c4fe4547ade8f114a35a7627": {
          "model_module": "@jupyter-widgets/controls",
          "model_module_version": "1.5.0",
          "model_name": "FloatProgressModel",
          "state": {
            "_dom_classes": [],
            "_model_module": "@jupyter-widgets/controls",
            "_model_module_version": "1.5.0",
            "_model_name": "FloatProgressModel",
            "_view_count": null,
            "_view_module": "@jupyter-widgets/controls",
            "_view_module_version": "1.5.0",
            "_view_name": "ProgressView",
            "bar_style": "success",
            "description": "",
            "description_tooltip": null,
            "layout": "IPY_MODEL_ff98afe7f8d14a869ed566da7802984b",
            "max": 1,
            "min": 0,
            "orientation": "horizontal",
            "style": "IPY_MODEL_72006944b12e4cc888d6ef921cdaa0a4",
            "value": 1
          }
        },
        "3f04fdd498dd4fdf937f8372762fb6cd": {
          "model_module": "@jupyter-widgets/controls",
          "model_module_version": "1.5.0",
          "model_name": "ProgressStyleModel",
          "state": {
            "_model_module": "@jupyter-widgets/controls",
            "_model_module_version": "1.5.0",
            "_model_name": "ProgressStyleModel",
            "_view_count": null,
            "_view_module": "@jupyter-widgets/base",
            "_view_module_version": "1.2.0",
            "_view_name": "StyleView",
            "bar_color": null,
            "description_width": ""
          }
        },
        "4033bb7daf034e32b9faa9fadf23f2b2": {
          "model_module": "@jupyter-widgets/controls",
          "model_module_version": "1.5.0",
          "model_name": "HTMLModel",
          "state": {
            "_dom_classes": [],
            "_model_module": "@jupyter-widgets/controls",
            "_model_module_version": "1.5.0",
            "_model_name": "HTMLModel",
            "_view_count": null,
            "_view_module": "@jupyter-widgets/controls",
            "_view_module_version": "1.5.0",
            "_view_name": "HTMLView",
            "description": "",
            "description_tooltip": null,
            "layout": "IPY_MODEL_b46847621334413fa827242a3394de81",
            "placeholder": "​",
            "style": "IPY_MODEL_950cde7733c94c11b89cb254f88a00bd",
            "value": " 187/? [01:10&lt;00:00,  3.17it/s]"
          }
        },
        "41c516323d3d47288242ff82a5d8e21a": {
          "model_module": "@jupyter-widgets/controls",
          "model_module_version": "1.5.0",
          "model_name": "DescriptionStyleModel",
          "state": {
            "_model_module": "@jupyter-widgets/controls",
            "_model_module_version": "1.5.0",
            "_model_name": "DescriptionStyleModel",
            "_view_count": null,
            "_view_module": "@jupyter-widgets/base",
            "_view_module_version": "1.2.0",
            "_view_name": "StyleView",
            "description_width": ""
          }
        },
        "4432bad7ee584743accdadc09771d212": {
          "model_module": "@jupyter-widgets/base",
          "model_module_version": "1.2.0",
          "model_name": "LayoutModel",
          "state": {
            "_model_module": "@jupyter-widgets/base",
            "_model_module_version": "1.2.0",
            "_model_name": "LayoutModel",
            "_view_count": null,
            "_view_module": "@jupyter-widgets/base",
            "_view_module_version": "1.2.0",
            "_view_name": "LayoutView",
            "align_content": null,
            "align_items": null,
            "align_self": null,
            "border": null,
            "bottom": null,
            "display": null,
            "flex": null,
            "flex_flow": null,
            "grid_area": null,
            "grid_auto_columns": null,
            "grid_auto_flow": null,
            "grid_auto_rows": null,
            "grid_column": null,
            "grid_gap": null,
            "grid_row": null,
            "grid_template_areas": null,
            "grid_template_columns": null,
            "grid_template_rows": null,
            "height": null,
            "justify_content": null,
            "justify_items": null,
            "left": null,
            "margin": null,
            "max_height": null,
            "max_width": null,
            "min_height": null,
            "min_width": null,
            "object_fit": null,
            "object_position": null,
            "order": null,
            "overflow": null,
            "overflow_x": null,
            "overflow_y": null,
            "padding": null,
            "right": null,
            "top": null,
            "visibility": null,
            "width": null
          }
        },
        "444b991e836e488d9c45f918c2ba2934": {
          "model_module": "@jupyter-widgets/base",
          "model_module_version": "1.2.0",
          "model_name": "LayoutModel",
          "state": {
            "_model_module": "@jupyter-widgets/base",
            "_model_module_version": "1.2.0",
            "_model_name": "LayoutModel",
            "_view_count": null,
            "_view_module": "@jupyter-widgets/base",
            "_view_module_version": "1.2.0",
            "_view_name": "LayoutView",
            "align_content": null,
            "align_items": null,
            "align_self": null,
            "border": null,
            "bottom": null,
            "display": null,
            "flex": null,
            "flex_flow": null,
            "grid_area": null,
            "grid_auto_columns": null,
            "grid_auto_flow": null,
            "grid_auto_rows": null,
            "grid_column": null,
            "grid_gap": null,
            "grid_row": null,
            "grid_template_areas": null,
            "grid_template_columns": null,
            "grid_template_rows": null,
            "height": null,
            "justify_content": null,
            "justify_items": null,
            "left": null,
            "margin": null,
            "max_height": null,
            "max_width": null,
            "min_height": null,
            "min_width": null,
            "object_fit": null,
            "object_position": null,
            "order": null,
            "overflow": null,
            "overflow_x": null,
            "overflow_y": null,
            "padding": null,
            "right": null,
            "top": null,
            "visibility": null,
            "width": "20px"
          }
        },
        "46f039fc9b654964be1ea1e23a7c629b": {
          "model_module": "@jupyter-widgets/controls",
          "model_module_version": "1.5.0",
          "model_name": "HTMLModel",
          "state": {
            "_dom_classes": [],
            "_model_module": "@jupyter-widgets/controls",
            "_model_module_version": "1.5.0",
            "_model_name": "HTMLModel",
            "_view_count": null,
            "_view_module": "@jupyter-widgets/controls",
            "_view_module_version": "1.5.0",
            "_view_name": "HTMLView",
            "description": "",
            "description_tooltip": null,
            "layout": "IPY_MODEL_5782247564644008ac331789b9cb2eea",
            "placeholder": "​",
            "style": "IPY_MODEL_f06c11f797694368bc800ed5dd690c20",
            "value": " 187/? [01:11&lt;00:00,  3.19it/s]"
          }
        },
        "47df2e7b6e914639a97a5be59feb6913": {
          "model_module": "@jupyter-widgets/base",
          "model_module_version": "1.2.0",
          "model_name": "LayoutModel",
          "state": {
            "_model_module": "@jupyter-widgets/base",
            "_model_module_version": "1.2.0",
            "_model_name": "LayoutModel",
            "_view_count": null,
            "_view_module": "@jupyter-widgets/base",
            "_view_module_version": "1.2.0",
            "_view_name": "LayoutView",
            "align_content": null,
            "align_items": null,
            "align_self": null,
            "border": null,
            "bottom": null,
            "display": null,
            "flex": null,
            "flex_flow": null,
            "grid_area": null,
            "grid_auto_columns": null,
            "grid_auto_flow": null,
            "grid_auto_rows": null,
            "grid_column": null,
            "grid_gap": null,
            "grid_row": null,
            "grid_template_areas": null,
            "grid_template_columns": null,
            "grid_template_rows": null,
            "height": null,
            "justify_content": null,
            "justify_items": null,
            "left": null,
            "margin": null,
            "max_height": null,
            "max_width": null,
            "min_height": null,
            "min_width": null,
            "object_fit": null,
            "object_position": null,
            "order": null,
            "overflow": null,
            "overflow_x": null,
            "overflow_y": null,
            "padding": null,
            "right": null,
            "top": null,
            "visibility": null,
            "width": null
          }
        },
        "4860930bf6484633990c384d8209daff": {
          "model_module": "@jupyter-widgets/controls",
          "model_module_version": "1.5.0",
          "model_name": "ProgressStyleModel",
          "state": {
            "_model_module": "@jupyter-widgets/controls",
            "_model_module_version": "1.5.0",
            "_model_name": "ProgressStyleModel",
            "_view_count": null,
            "_view_module": "@jupyter-widgets/base",
            "_view_module_version": "1.2.0",
            "_view_name": "StyleView",
            "bar_color": null,
            "description_width": ""
          }
        },
        "4d76586a56da4968a6f96b7504b7b24c": {
          "model_module": "@jupyter-widgets/controls",
          "model_module_version": "1.5.0",
          "model_name": "HTMLModel",
          "state": {
            "_dom_classes": [],
            "_model_module": "@jupyter-widgets/controls",
            "_model_module_version": "1.5.0",
            "_model_name": "HTMLModel",
            "_view_count": null,
            "_view_module": "@jupyter-widgets/controls",
            "_view_module_version": "1.5.0",
            "_view_name": "HTMLView",
            "description": "",
            "description_tooltip": null,
            "layout": "IPY_MODEL_d5fb2ab030814d309bd98fb0452c9c4a",
            "placeholder": "​",
            "style": "IPY_MODEL_2315c45d3c9c4a15b2cebfef46041208",
            "value": ""
          }
        },
        "4e24ab7154d942a79f0d600bbc581d9b": {
          "model_module": "@jupyter-widgets/base",
          "model_module_version": "1.2.0",
          "model_name": "LayoutModel",
          "state": {
            "_model_module": "@jupyter-widgets/base",
            "_model_module_version": "1.2.0",
            "_model_name": "LayoutModel",
            "_view_count": null,
            "_view_module": "@jupyter-widgets/base",
            "_view_module_version": "1.2.0",
            "_view_name": "LayoutView",
            "align_content": null,
            "align_items": null,
            "align_self": null,
            "border": null,
            "bottom": null,
            "display": null,
            "flex": null,
            "flex_flow": null,
            "grid_area": null,
            "grid_auto_columns": null,
            "grid_auto_flow": null,
            "grid_auto_rows": null,
            "grid_column": null,
            "grid_gap": null,
            "grid_row": null,
            "grid_template_areas": null,
            "grid_template_columns": null,
            "grid_template_rows": null,
            "height": null,
            "justify_content": null,
            "justify_items": null,
            "left": null,
            "margin": null,
            "max_height": null,
            "max_width": null,
            "min_height": null,
            "min_width": null,
            "object_fit": null,
            "object_position": null,
            "order": null,
            "overflow": null,
            "overflow_x": null,
            "overflow_y": null,
            "padding": null,
            "right": null,
            "top": null,
            "visibility": null,
            "width": null
          }
        },
        "4eac7dfa5cd94cb4a28fefb45b83c4a2": {
          "model_module": "@jupyter-widgets/controls",
          "model_module_version": "1.5.0",
          "model_name": "FloatProgressModel",
          "state": {
            "_dom_classes": [],
            "_model_module": "@jupyter-widgets/controls",
            "_model_module_version": "1.5.0",
            "_model_name": "FloatProgressModel",
            "_view_count": null,
            "_view_module": "@jupyter-widgets/controls",
            "_view_module_version": "1.5.0",
            "_view_name": "ProgressView",
            "bar_style": "success",
            "description": "",
            "description_tooltip": null,
            "layout": "IPY_MODEL_b169cd2b92514963bb8d5cc079fa51d2",
            "max": 1,
            "min": 0,
            "orientation": "horizontal",
            "style": "IPY_MODEL_12be6b89f3a0483481a8dae7285827eb",
            "value": 1
          }
        },
        "51246acf2e8c441fae0f2b24c080e8af": {
          "model_module": "@jupyter-widgets/controls",
          "model_module_version": "1.5.0",
          "model_name": "HBoxModel",
          "state": {
            "_dom_classes": [],
            "_model_module": "@jupyter-widgets/controls",
            "_model_module_version": "1.5.0",
            "_model_name": "HBoxModel",
            "_view_count": null,
            "_view_module": "@jupyter-widgets/controls",
            "_view_module_version": "1.5.0",
            "_view_name": "HBoxView",
            "box_style": "",
            "children": [
              "IPY_MODEL_5e7dba4b390a4d3ea122fb9c6b59fea0",
              "IPY_MODEL_aa346d54e53c461e9ad8402b1f312ac5",
              "IPY_MODEL_b4db0d58b4a449d1989961639d6ff9d3"
            ],
            "layout": "IPY_MODEL_931fc0c35fbd4175a01475a96554f50b"
          }
        },
        "54f11f073b1d47db85ca65867fa40831": {
          "model_module": "@jupyter-widgets/controls",
          "model_module_version": "1.5.0",
          "model_name": "HBoxModel",
          "state": {
            "_dom_classes": [],
            "_model_module": "@jupyter-widgets/controls",
            "_model_module_version": "1.5.0",
            "_model_name": "HBoxModel",
            "_view_count": null,
            "_view_module": "@jupyter-widgets/controls",
            "_view_module_version": "1.5.0",
            "_view_name": "HBoxView",
            "box_style": "",
            "children": [
              "IPY_MODEL_4d76586a56da4968a6f96b7504b7b24c",
              "IPY_MODEL_3c65a701c4fe4547ade8f114a35a7627",
              "IPY_MODEL_4033bb7daf034e32b9faa9fadf23f2b2"
            ],
            "layout": "IPY_MODEL_37c8502267c5482485d44af361fcd61b"
          }
        },
        "55ef53c126954d5ebe9e732fad44cc7f": {
          "model_module": "@jupyter-widgets/base",
          "model_module_version": "1.2.0",
          "model_name": "LayoutModel",
          "state": {
            "_model_module": "@jupyter-widgets/base",
            "_model_module_version": "1.2.0",
            "_model_name": "LayoutModel",
            "_view_count": null,
            "_view_module": "@jupyter-widgets/base",
            "_view_module_version": "1.2.0",
            "_view_name": "LayoutView",
            "align_content": null,
            "align_items": null,
            "align_self": null,
            "border": null,
            "bottom": null,
            "display": null,
            "flex": null,
            "flex_flow": null,
            "grid_area": null,
            "grid_auto_columns": null,
            "grid_auto_flow": null,
            "grid_auto_rows": null,
            "grid_column": null,
            "grid_gap": null,
            "grid_row": null,
            "grid_template_areas": null,
            "grid_template_columns": null,
            "grid_template_rows": null,
            "height": null,
            "justify_content": null,
            "justify_items": null,
            "left": null,
            "margin": null,
            "max_height": null,
            "max_width": null,
            "min_height": null,
            "min_width": null,
            "object_fit": null,
            "object_position": null,
            "order": null,
            "overflow": null,
            "overflow_x": null,
            "overflow_y": null,
            "padding": null,
            "right": null,
            "top": null,
            "visibility": null,
            "width": null
          }
        },
        "5782247564644008ac331789b9cb2eea": {
          "model_module": "@jupyter-widgets/base",
          "model_module_version": "1.2.0",
          "model_name": "LayoutModel",
          "state": {
            "_model_module": "@jupyter-widgets/base",
            "_model_module_version": "1.2.0",
            "_model_name": "LayoutModel",
            "_view_count": null,
            "_view_module": "@jupyter-widgets/base",
            "_view_module_version": "1.2.0",
            "_view_name": "LayoutView",
            "align_content": null,
            "align_items": null,
            "align_self": null,
            "border": null,
            "bottom": null,
            "display": null,
            "flex": null,
            "flex_flow": null,
            "grid_area": null,
            "grid_auto_columns": null,
            "grid_auto_flow": null,
            "grid_auto_rows": null,
            "grid_column": null,
            "grid_gap": null,
            "grid_row": null,
            "grid_template_areas": null,
            "grid_template_columns": null,
            "grid_template_rows": null,
            "height": null,
            "justify_content": null,
            "justify_items": null,
            "left": null,
            "margin": null,
            "max_height": null,
            "max_width": null,
            "min_height": null,
            "min_width": null,
            "object_fit": null,
            "object_position": null,
            "order": null,
            "overflow": null,
            "overflow_x": null,
            "overflow_y": null,
            "padding": null,
            "right": null,
            "top": null,
            "visibility": null,
            "width": null
          }
        },
        "58a4414cec784bdfba552acd689b0005": {
          "model_module": "@jupyter-widgets/base",
          "model_module_version": "1.2.0",
          "model_name": "LayoutModel",
          "state": {
            "_model_module": "@jupyter-widgets/base",
            "_model_module_version": "1.2.0",
            "_model_name": "LayoutModel",
            "_view_count": null,
            "_view_module": "@jupyter-widgets/base",
            "_view_module_version": "1.2.0",
            "_view_name": "LayoutView",
            "align_content": null,
            "align_items": null,
            "align_self": null,
            "border": null,
            "bottom": null,
            "display": null,
            "flex": null,
            "flex_flow": null,
            "grid_area": null,
            "grid_auto_columns": null,
            "grid_auto_flow": null,
            "grid_auto_rows": null,
            "grid_column": null,
            "grid_gap": null,
            "grid_row": null,
            "grid_template_areas": null,
            "grid_template_columns": null,
            "grid_template_rows": null,
            "height": null,
            "justify_content": null,
            "justify_items": null,
            "left": null,
            "margin": null,
            "max_height": null,
            "max_width": null,
            "min_height": null,
            "min_width": null,
            "object_fit": null,
            "object_position": null,
            "order": null,
            "overflow": null,
            "overflow_x": null,
            "overflow_y": null,
            "padding": null,
            "right": null,
            "top": null,
            "visibility": null,
            "width": null
          }
        },
        "5948cfaabad54ff1a8a559aaba8d7af6": {
          "model_module": "@jupyter-widgets/controls",
          "model_module_version": "1.5.0",
          "model_name": "HTMLModel",
          "state": {
            "_dom_classes": [],
            "_model_module": "@jupyter-widgets/controls",
            "_model_module_version": "1.5.0",
            "_model_name": "HTMLModel",
            "_view_count": null,
            "_view_module": "@jupyter-widgets/controls",
            "_view_module_version": "1.5.0",
            "_view_name": "HTMLView",
            "description": "",
            "description_tooltip": null,
            "layout": "IPY_MODEL_ef895acdda814bd987741c3110c94fc3",
            "placeholder": "​",
            "style": "IPY_MODEL_07ca51df0f1f419086c7dab250d67e45",
            "value": " 187/? [01:09&lt;00:00,  2.86it/s]"
          }
        },
        "5c81142f56804ced80059d181429c9f0": {
          "model_module": "@jupyter-widgets/base",
          "model_module_version": "1.2.0",
          "model_name": "LayoutModel",
          "state": {
            "_model_module": "@jupyter-widgets/base",
            "_model_module_version": "1.2.0",
            "_model_name": "LayoutModel",
            "_view_count": null,
            "_view_module": "@jupyter-widgets/base",
            "_view_module_version": "1.2.0",
            "_view_name": "LayoutView",
            "align_content": null,
            "align_items": null,
            "align_self": null,
            "border": null,
            "bottom": null,
            "display": null,
            "flex": null,
            "flex_flow": null,
            "grid_area": null,
            "grid_auto_columns": null,
            "grid_auto_flow": null,
            "grid_auto_rows": null,
            "grid_column": null,
            "grid_gap": null,
            "grid_row": null,
            "grid_template_areas": null,
            "grid_template_columns": null,
            "grid_template_rows": null,
            "height": null,
            "justify_content": null,
            "justify_items": null,
            "left": null,
            "margin": null,
            "max_height": null,
            "max_width": null,
            "min_height": null,
            "min_width": null,
            "object_fit": null,
            "object_position": null,
            "order": null,
            "overflow": null,
            "overflow_x": null,
            "overflow_y": null,
            "padding": null,
            "right": null,
            "top": null,
            "visibility": null,
            "width": null
          }
        },
        "5ca78c31788b4580b92e83e0fa02eac4": {
          "model_module": "@jupyter-widgets/base",
          "model_module_version": "1.2.0",
          "model_name": "LayoutModel",
          "state": {
            "_model_module": "@jupyter-widgets/base",
            "_model_module_version": "1.2.0",
            "_model_name": "LayoutModel",
            "_view_count": null,
            "_view_module": "@jupyter-widgets/base",
            "_view_module_version": "1.2.0",
            "_view_name": "LayoutView",
            "align_content": null,
            "align_items": null,
            "align_self": null,
            "border": null,
            "bottom": null,
            "display": null,
            "flex": null,
            "flex_flow": null,
            "grid_area": null,
            "grid_auto_columns": null,
            "grid_auto_flow": null,
            "grid_auto_rows": null,
            "grid_column": null,
            "grid_gap": null,
            "grid_row": null,
            "grid_template_areas": null,
            "grid_template_columns": null,
            "grid_template_rows": null,
            "height": null,
            "justify_content": null,
            "justify_items": null,
            "left": null,
            "margin": null,
            "max_height": null,
            "max_width": null,
            "min_height": null,
            "min_width": null,
            "object_fit": null,
            "object_position": null,
            "order": null,
            "overflow": null,
            "overflow_x": null,
            "overflow_y": null,
            "padding": null,
            "right": null,
            "top": null,
            "visibility": null,
            "width": null
          }
        },
        "5e7dba4b390a4d3ea122fb9c6b59fea0": {
          "model_module": "@jupyter-widgets/controls",
          "model_module_version": "1.5.0",
          "model_name": "HTMLModel",
          "state": {
            "_dom_classes": [],
            "_model_module": "@jupyter-widgets/controls",
            "_model_module_version": "1.5.0",
            "_model_name": "HTMLModel",
            "_view_count": null,
            "_view_module": "@jupyter-widgets/controls",
            "_view_module_version": "1.5.0",
            "_view_name": "HTMLView",
            "description": "",
            "description_tooltip": null,
            "layout": "IPY_MODEL_4e24ab7154d942a79f0d600bbc581d9b",
            "placeholder": "​",
            "style": "IPY_MODEL_36ff38e04e1c43c6b923969b6323ec0c",
            "value": ""
          }
        },
        "63ce5b968bf94f3f855144b536a15c04": {
          "model_module": "@jupyter-widgets/base",
          "model_module_version": "1.2.0",
          "model_name": "LayoutModel",
          "state": {
            "_model_module": "@jupyter-widgets/base",
            "_model_module_version": "1.2.0",
            "_model_name": "LayoutModel",
            "_view_count": null,
            "_view_module": "@jupyter-widgets/base",
            "_view_module_version": "1.2.0",
            "_view_name": "LayoutView",
            "align_content": null,
            "align_items": null,
            "align_self": null,
            "border": null,
            "bottom": null,
            "display": null,
            "flex": null,
            "flex_flow": null,
            "grid_area": null,
            "grid_auto_columns": null,
            "grid_auto_flow": null,
            "grid_auto_rows": null,
            "grid_column": null,
            "grid_gap": null,
            "grid_row": null,
            "grid_template_areas": null,
            "grid_template_columns": null,
            "grid_template_rows": null,
            "height": null,
            "justify_content": null,
            "justify_items": null,
            "left": null,
            "margin": null,
            "max_height": null,
            "max_width": null,
            "min_height": null,
            "min_width": null,
            "object_fit": null,
            "object_position": null,
            "order": null,
            "overflow": null,
            "overflow_x": null,
            "overflow_y": null,
            "padding": null,
            "right": null,
            "top": null,
            "visibility": null,
            "width": null
          }
        },
        "677e18abf5114e49944f64cca1998bb2": {
          "model_module": "@jupyter-widgets/controls",
          "model_module_version": "1.5.0",
          "model_name": "HTMLModel",
          "state": {
            "_dom_classes": [],
            "_model_module": "@jupyter-widgets/controls",
            "_model_module_version": "1.5.0",
            "_model_name": "HTMLModel",
            "_view_count": null,
            "_view_module": "@jupyter-widgets/controls",
            "_view_module_version": "1.5.0",
            "_view_name": "HTMLView",
            "description": "",
            "description_tooltip": null,
            "layout": "IPY_MODEL_d28b3904129642c789b78426dc644522",
            "placeholder": "​",
            "style": "IPY_MODEL_dc7b4c39a2df4bcfa3801095344f3679",
            "value": " 187/? [01:10&lt;00:00,  3.14it/s]"
          }
        },
        "6894f97793e747e5a87b347146c06f7b": {
          "model_module": "@jupyter-widgets/base",
          "model_module_version": "1.2.0",
          "model_name": "LayoutModel",
          "state": {
            "_model_module": "@jupyter-widgets/base",
            "_model_module_version": "1.2.0",
            "_model_name": "LayoutModel",
            "_view_count": null,
            "_view_module": "@jupyter-widgets/base",
            "_view_module_version": "1.2.0",
            "_view_name": "LayoutView",
            "align_content": null,
            "align_items": null,
            "align_self": null,
            "border": null,
            "bottom": null,
            "display": null,
            "flex": null,
            "flex_flow": null,
            "grid_area": null,
            "grid_auto_columns": null,
            "grid_auto_flow": null,
            "grid_auto_rows": null,
            "grid_column": null,
            "grid_gap": null,
            "grid_row": null,
            "grid_template_areas": null,
            "grid_template_columns": null,
            "grid_template_rows": null,
            "height": null,
            "justify_content": null,
            "justify_items": null,
            "left": null,
            "margin": null,
            "max_height": null,
            "max_width": null,
            "min_height": null,
            "min_width": null,
            "object_fit": null,
            "object_position": null,
            "order": null,
            "overflow": null,
            "overflow_x": null,
            "overflow_y": null,
            "padding": null,
            "right": null,
            "top": null,
            "visibility": null,
            "width": "20px"
          }
        },
        "6ea4882317b645e2b24f870aca8bb25e": {
          "model_module": "@jupyter-widgets/base",
          "model_module_version": "1.2.0",
          "model_name": "LayoutModel",
          "state": {
            "_model_module": "@jupyter-widgets/base",
            "_model_module_version": "1.2.0",
            "_model_name": "LayoutModel",
            "_view_count": null,
            "_view_module": "@jupyter-widgets/base",
            "_view_module_version": "1.2.0",
            "_view_name": "LayoutView",
            "align_content": null,
            "align_items": null,
            "align_self": null,
            "border": null,
            "bottom": null,
            "display": null,
            "flex": null,
            "flex_flow": null,
            "grid_area": null,
            "grid_auto_columns": null,
            "grid_auto_flow": null,
            "grid_auto_rows": null,
            "grid_column": null,
            "grid_gap": null,
            "grid_row": null,
            "grid_template_areas": null,
            "grid_template_columns": null,
            "grid_template_rows": null,
            "height": null,
            "justify_content": null,
            "justify_items": null,
            "left": null,
            "margin": null,
            "max_height": null,
            "max_width": null,
            "min_height": null,
            "min_width": null,
            "object_fit": null,
            "object_position": null,
            "order": null,
            "overflow": null,
            "overflow_x": null,
            "overflow_y": null,
            "padding": null,
            "right": null,
            "top": null,
            "visibility": null,
            "width": null
          }
        },
        "70be4cfb6a95402e92e3faaeddd45e1b": {
          "model_module": "@jupyter-widgets/controls",
          "model_module_version": "1.5.0",
          "model_name": "DescriptionStyleModel",
          "state": {
            "_model_module": "@jupyter-widgets/controls",
            "_model_module_version": "1.5.0",
            "_model_name": "DescriptionStyleModel",
            "_view_count": null,
            "_view_module": "@jupyter-widgets/base",
            "_view_module_version": "1.2.0",
            "_view_name": "StyleView",
            "description_width": ""
          }
        },
        "72006944b12e4cc888d6ef921cdaa0a4": {
          "model_module": "@jupyter-widgets/controls",
          "model_module_version": "1.5.0",
          "model_name": "ProgressStyleModel",
          "state": {
            "_model_module": "@jupyter-widgets/controls",
            "_model_module_version": "1.5.0",
            "_model_name": "ProgressStyleModel",
            "_view_count": null,
            "_view_module": "@jupyter-widgets/base",
            "_view_module_version": "1.2.0",
            "_view_name": "StyleView",
            "bar_color": null,
            "description_width": ""
          }
        },
        "7401704a6976486da0905f269e663b69": {
          "model_module": "@jupyter-widgets/controls",
          "model_module_version": "1.5.0",
          "model_name": "DescriptionStyleModel",
          "state": {
            "_model_module": "@jupyter-widgets/controls",
            "_model_module_version": "1.5.0",
            "_model_name": "DescriptionStyleModel",
            "_view_count": null,
            "_view_module": "@jupyter-widgets/base",
            "_view_module_version": "1.2.0",
            "_view_name": "StyleView",
            "description_width": ""
          }
        },
        "75e7410b0abd45ee9bb097172a792e90": {
          "model_module": "@jupyter-widgets/controls",
          "model_module_version": "1.5.0",
          "model_name": "HBoxModel",
          "state": {
            "_dom_classes": [],
            "_model_module": "@jupyter-widgets/controls",
            "_model_module_version": "1.5.0",
            "_model_name": "HBoxModel",
            "_view_count": null,
            "_view_module": "@jupyter-widgets/controls",
            "_view_module_version": "1.5.0",
            "_view_name": "HBoxView",
            "box_style": "",
            "children": [
              "IPY_MODEL_b0ae28d55e0646eaabb69dfd24cf0a14",
              "IPY_MODEL_3158a0f9f06942b08d144a5bcc4fa846",
              "IPY_MODEL_81b5151e02cd4998bfb02bff7a84674f"
            ],
            "layout": "IPY_MODEL_076f61be78984460b7737f4e0d0d1413"
          }
        },
        "76dbfdb2e21c4bc48a279995f6300886": {
          "model_module": "@jupyter-widgets/base",
          "model_module_version": "1.2.0",
          "model_name": "LayoutModel",
          "state": {
            "_model_module": "@jupyter-widgets/base",
            "_model_module_version": "1.2.0",
            "_model_name": "LayoutModel",
            "_view_count": null,
            "_view_module": "@jupyter-widgets/base",
            "_view_module_version": "1.2.0",
            "_view_name": "LayoutView",
            "align_content": null,
            "align_items": null,
            "align_self": null,
            "border": null,
            "bottom": null,
            "display": null,
            "flex": null,
            "flex_flow": null,
            "grid_area": null,
            "grid_auto_columns": null,
            "grid_auto_flow": null,
            "grid_auto_rows": null,
            "grid_column": null,
            "grid_gap": null,
            "grid_row": null,
            "grid_template_areas": null,
            "grid_template_columns": null,
            "grid_template_rows": null,
            "height": null,
            "justify_content": null,
            "justify_items": null,
            "left": null,
            "margin": null,
            "max_height": null,
            "max_width": null,
            "min_height": null,
            "min_width": null,
            "object_fit": null,
            "object_position": null,
            "order": null,
            "overflow": null,
            "overflow_x": null,
            "overflow_y": null,
            "padding": null,
            "right": null,
            "top": null,
            "visibility": null,
            "width": null
          }
        },
        "7aa309698e984b52bc7b391e32b61c16": {
          "model_module": "@jupyter-widgets/controls",
          "model_module_version": "1.5.0",
          "model_name": "ProgressStyleModel",
          "state": {
            "_model_module": "@jupyter-widgets/controls",
            "_model_module_version": "1.5.0",
            "_model_name": "ProgressStyleModel",
            "_view_count": null,
            "_view_module": "@jupyter-widgets/base",
            "_view_module_version": "1.2.0",
            "_view_name": "StyleView",
            "bar_color": null,
            "description_width": ""
          }
        },
        "7e75f08f847e42c8b4af87146e43907c": {
          "model_module": "@jupyter-widgets/controls",
          "model_module_version": "1.5.0",
          "model_name": "DescriptionStyleModel",
          "state": {
            "_model_module": "@jupyter-widgets/controls",
            "_model_module_version": "1.5.0",
            "_model_name": "DescriptionStyleModel",
            "_view_count": null,
            "_view_module": "@jupyter-widgets/base",
            "_view_module_version": "1.2.0",
            "_view_name": "StyleView",
            "description_width": ""
          }
        },
        "7ef4bdc7d93e4a22ae219460b05d01f4": {
          "model_module": "@jupyter-widgets/controls",
          "model_module_version": "1.5.0",
          "model_name": "DescriptionStyleModel",
          "state": {
            "_model_module": "@jupyter-widgets/controls",
            "_model_module_version": "1.5.0",
            "_model_name": "DescriptionStyleModel",
            "_view_count": null,
            "_view_module": "@jupyter-widgets/base",
            "_view_module_version": "1.2.0",
            "_view_name": "StyleView",
            "description_width": ""
          }
        },
        "7f8a4905c58242e98f1c18a512044173": {
          "model_module": "@jupyter-widgets/base",
          "model_module_version": "1.2.0",
          "model_name": "LayoutModel",
          "state": {
            "_model_module": "@jupyter-widgets/base",
            "_model_module_version": "1.2.0",
            "_model_name": "LayoutModel",
            "_view_count": null,
            "_view_module": "@jupyter-widgets/base",
            "_view_module_version": "1.2.0",
            "_view_name": "LayoutView",
            "align_content": null,
            "align_items": null,
            "align_self": null,
            "border": null,
            "bottom": null,
            "display": null,
            "flex": null,
            "flex_flow": null,
            "grid_area": null,
            "grid_auto_columns": null,
            "grid_auto_flow": null,
            "grid_auto_rows": null,
            "grid_column": null,
            "grid_gap": null,
            "grid_row": null,
            "grid_template_areas": null,
            "grid_template_columns": null,
            "grid_template_rows": null,
            "height": null,
            "justify_content": null,
            "justify_items": null,
            "left": null,
            "margin": null,
            "max_height": null,
            "max_width": null,
            "min_height": null,
            "min_width": null,
            "object_fit": null,
            "object_position": null,
            "order": null,
            "overflow": null,
            "overflow_x": null,
            "overflow_y": null,
            "padding": null,
            "right": null,
            "top": null,
            "visibility": null,
            "width": "20px"
          }
        },
        "81b5151e02cd4998bfb02bff7a84674f": {
          "model_module": "@jupyter-widgets/controls",
          "model_module_version": "1.5.0",
          "model_name": "HTMLModel",
          "state": {
            "_dom_classes": [],
            "_model_module": "@jupyter-widgets/controls",
            "_model_module_version": "1.5.0",
            "_model_name": "HTMLModel",
            "_view_count": null,
            "_view_module": "@jupyter-widgets/controls",
            "_view_module_version": "1.5.0",
            "_view_name": "HTMLView",
            "description": "",
            "description_tooltip": null,
            "layout": "IPY_MODEL_9ef3e4e822334bc1996a559703d49321",
            "placeholder": "​",
            "style": "IPY_MODEL_37b188628c89408e925b59b359bc6084",
            "value": " 187/? [01:11&lt;00:00,  3.18it/s]"
          }
        },
        "86b787d8236d4bd09eb4be5de2b8637b": {
          "model_module": "@jupyter-widgets/controls",
          "model_module_version": "1.5.0",
          "model_name": "ProgressStyleModel",
          "state": {
            "_model_module": "@jupyter-widgets/controls",
            "_model_module_version": "1.5.0",
            "_model_name": "ProgressStyleModel",
            "_view_count": null,
            "_view_module": "@jupyter-widgets/base",
            "_view_module_version": "1.2.0",
            "_view_name": "StyleView",
            "bar_color": null,
            "description_width": ""
          }
        },
        "8c1a2221cd894a82909349ff4ffd45d5": {
          "model_module": "@jupyter-widgets/controls",
          "model_module_version": "1.5.0",
          "model_name": "DescriptionStyleModel",
          "state": {
            "_model_module": "@jupyter-widgets/controls",
            "_model_module_version": "1.5.0",
            "_model_name": "DescriptionStyleModel",
            "_view_count": null,
            "_view_module": "@jupyter-widgets/base",
            "_view_module_version": "1.2.0",
            "_view_name": "StyleView",
            "description_width": ""
          }
        },
        "8dab7857345e483aab46e487c6f098bc": {
          "model_module": "@jupyter-widgets/base",
          "model_module_version": "1.2.0",
          "model_name": "LayoutModel",
          "state": {
            "_model_module": "@jupyter-widgets/base",
            "_model_module_version": "1.2.0",
            "_model_name": "LayoutModel",
            "_view_count": null,
            "_view_module": "@jupyter-widgets/base",
            "_view_module_version": "1.2.0",
            "_view_name": "LayoutView",
            "align_content": null,
            "align_items": null,
            "align_self": null,
            "border": null,
            "bottom": null,
            "display": null,
            "flex": null,
            "flex_flow": null,
            "grid_area": null,
            "grid_auto_columns": null,
            "grid_auto_flow": null,
            "grid_auto_rows": null,
            "grid_column": null,
            "grid_gap": null,
            "grid_row": null,
            "grid_template_areas": null,
            "grid_template_columns": null,
            "grid_template_rows": null,
            "height": null,
            "justify_content": null,
            "justify_items": null,
            "left": null,
            "margin": null,
            "max_height": null,
            "max_width": null,
            "min_height": null,
            "min_width": null,
            "object_fit": null,
            "object_position": null,
            "order": null,
            "overflow": null,
            "overflow_x": null,
            "overflow_y": null,
            "padding": null,
            "right": null,
            "top": null,
            "visibility": null,
            "width": "20px"
          }
        },
        "91c94e0eb5784f06b7774bc6a6f514f7": {
          "model_module": "@jupyter-widgets/controls",
          "model_module_version": "1.5.0",
          "model_name": "FloatProgressModel",
          "state": {
            "_dom_classes": [],
            "_model_module": "@jupyter-widgets/controls",
            "_model_module_version": "1.5.0",
            "_model_name": "FloatProgressModel",
            "_view_count": null,
            "_view_module": "@jupyter-widgets/controls",
            "_view_module_version": "1.5.0",
            "_view_name": "ProgressView",
            "bar_style": "success",
            "description": "",
            "description_tooltip": null,
            "layout": "IPY_MODEL_6894f97793e747e5a87b347146c06f7b",
            "max": 1,
            "min": 0,
            "orientation": "horizontal",
            "style": "IPY_MODEL_a40ba787290f4169b43fc8558ddbb94d",
            "value": 1
          }
        },
        "92d55c3072434c27af4c7dbd2afaa975": {
          "model_module": "@jupyter-widgets/controls",
          "model_module_version": "1.5.0",
          "model_name": "DescriptionStyleModel",
          "state": {
            "_model_module": "@jupyter-widgets/controls",
            "_model_module_version": "1.5.0",
            "_model_name": "DescriptionStyleModel",
            "_view_count": null,
            "_view_module": "@jupyter-widgets/base",
            "_view_module_version": "1.2.0",
            "_view_name": "StyleView",
            "description_width": ""
          }
        },
        "931fc0c35fbd4175a01475a96554f50b": {
          "model_module": "@jupyter-widgets/base",
          "model_module_version": "1.2.0",
          "model_name": "LayoutModel",
          "state": {
            "_model_module": "@jupyter-widgets/base",
            "_model_module_version": "1.2.0",
            "_model_name": "LayoutModel",
            "_view_count": null,
            "_view_module": "@jupyter-widgets/base",
            "_view_module_version": "1.2.0",
            "_view_name": "LayoutView",
            "align_content": null,
            "align_items": null,
            "align_self": null,
            "border": null,
            "bottom": null,
            "display": null,
            "flex": null,
            "flex_flow": null,
            "grid_area": null,
            "grid_auto_columns": null,
            "grid_auto_flow": null,
            "grid_auto_rows": null,
            "grid_column": null,
            "grid_gap": null,
            "grid_row": null,
            "grid_template_areas": null,
            "grid_template_columns": null,
            "grid_template_rows": null,
            "height": null,
            "justify_content": null,
            "justify_items": null,
            "left": null,
            "margin": null,
            "max_height": null,
            "max_width": null,
            "min_height": null,
            "min_width": null,
            "object_fit": null,
            "object_position": null,
            "order": null,
            "overflow": null,
            "overflow_x": null,
            "overflow_y": null,
            "padding": null,
            "right": null,
            "top": null,
            "visibility": null,
            "width": null
          }
        },
        "950cde7733c94c11b89cb254f88a00bd": {
          "model_module": "@jupyter-widgets/controls",
          "model_module_version": "1.5.0",
          "model_name": "DescriptionStyleModel",
          "state": {
            "_model_module": "@jupyter-widgets/controls",
            "_model_module_version": "1.5.0",
            "_model_name": "DescriptionStyleModel",
            "_view_count": null,
            "_view_module": "@jupyter-widgets/base",
            "_view_module_version": "1.2.0",
            "_view_name": "StyleView",
            "description_width": ""
          }
        },
        "954ce19737914847a346763b72092e5a": {
          "model_module": "@jupyter-widgets/base",
          "model_module_version": "1.2.0",
          "model_name": "LayoutModel",
          "state": {
            "_model_module": "@jupyter-widgets/base",
            "_model_module_version": "1.2.0",
            "_model_name": "LayoutModel",
            "_view_count": null,
            "_view_module": "@jupyter-widgets/base",
            "_view_module_version": "1.2.0",
            "_view_name": "LayoutView",
            "align_content": null,
            "align_items": null,
            "align_self": null,
            "border": null,
            "bottom": null,
            "display": null,
            "flex": null,
            "flex_flow": null,
            "grid_area": null,
            "grid_auto_columns": null,
            "grid_auto_flow": null,
            "grid_auto_rows": null,
            "grid_column": null,
            "grid_gap": null,
            "grid_row": null,
            "grid_template_areas": null,
            "grid_template_columns": null,
            "grid_template_rows": null,
            "height": null,
            "justify_content": null,
            "justify_items": null,
            "left": null,
            "margin": null,
            "max_height": null,
            "max_width": null,
            "min_height": null,
            "min_width": null,
            "object_fit": null,
            "object_position": null,
            "order": null,
            "overflow": null,
            "overflow_x": null,
            "overflow_y": null,
            "padding": null,
            "right": null,
            "top": null,
            "visibility": null,
            "width": "20px"
          }
        },
        "9e2ec12c970c428a9149d281c1c0a005": {
          "model_module": "@jupyter-widgets/base",
          "model_module_version": "1.2.0",
          "model_name": "LayoutModel",
          "state": {
            "_model_module": "@jupyter-widgets/base",
            "_model_module_version": "1.2.0",
            "_model_name": "LayoutModel",
            "_view_count": null,
            "_view_module": "@jupyter-widgets/base",
            "_view_module_version": "1.2.0",
            "_view_name": "LayoutView",
            "align_content": null,
            "align_items": null,
            "align_self": null,
            "border": null,
            "bottom": null,
            "display": null,
            "flex": null,
            "flex_flow": null,
            "grid_area": null,
            "grid_auto_columns": null,
            "grid_auto_flow": null,
            "grid_auto_rows": null,
            "grid_column": null,
            "grid_gap": null,
            "grid_row": null,
            "grid_template_areas": null,
            "grid_template_columns": null,
            "grid_template_rows": null,
            "height": null,
            "justify_content": null,
            "justify_items": null,
            "left": null,
            "margin": null,
            "max_height": null,
            "max_width": null,
            "min_height": null,
            "min_width": null,
            "object_fit": null,
            "object_position": null,
            "order": null,
            "overflow": null,
            "overflow_x": null,
            "overflow_y": null,
            "padding": null,
            "right": null,
            "top": null,
            "visibility": null,
            "width": null
          }
        },
        "9ef3e4e822334bc1996a559703d49321": {
          "model_module": "@jupyter-widgets/base",
          "model_module_version": "1.2.0",
          "model_name": "LayoutModel",
          "state": {
            "_model_module": "@jupyter-widgets/base",
            "_model_module_version": "1.2.0",
            "_model_name": "LayoutModel",
            "_view_count": null,
            "_view_module": "@jupyter-widgets/base",
            "_view_module_version": "1.2.0",
            "_view_name": "LayoutView",
            "align_content": null,
            "align_items": null,
            "align_self": null,
            "border": null,
            "bottom": null,
            "display": null,
            "flex": null,
            "flex_flow": null,
            "grid_area": null,
            "grid_auto_columns": null,
            "grid_auto_flow": null,
            "grid_auto_rows": null,
            "grid_column": null,
            "grid_gap": null,
            "grid_row": null,
            "grid_template_areas": null,
            "grid_template_columns": null,
            "grid_template_rows": null,
            "height": null,
            "justify_content": null,
            "justify_items": null,
            "left": null,
            "margin": null,
            "max_height": null,
            "max_width": null,
            "min_height": null,
            "min_width": null,
            "object_fit": null,
            "object_position": null,
            "order": null,
            "overflow": null,
            "overflow_x": null,
            "overflow_y": null,
            "padding": null,
            "right": null,
            "top": null,
            "visibility": null,
            "width": null
          }
        },
        "a07fae883bd74692b154e2bc666d2dd3": {
          "model_module": "@jupyter-widgets/controls",
          "model_module_version": "1.5.0",
          "model_name": "HTMLModel",
          "state": {
            "_dom_classes": [],
            "_model_module": "@jupyter-widgets/controls",
            "_model_module_version": "1.5.0",
            "_model_name": "HTMLModel",
            "_view_count": null,
            "_view_module": "@jupyter-widgets/controls",
            "_view_module_version": "1.5.0",
            "_view_name": "HTMLView",
            "description": "",
            "description_tooltip": null,
            "layout": "IPY_MODEL_9e2ec12c970c428a9149d281c1c0a005",
            "placeholder": "​",
            "style": "IPY_MODEL_8c1a2221cd894a82909349ff4ffd45d5",
            "value": ""
          }
        },
        "a40ba787290f4169b43fc8558ddbb94d": {
          "model_module": "@jupyter-widgets/controls",
          "model_module_version": "1.5.0",
          "model_name": "ProgressStyleModel",
          "state": {
            "_model_module": "@jupyter-widgets/controls",
            "_model_module_version": "1.5.0",
            "_model_name": "ProgressStyleModel",
            "_view_count": null,
            "_view_module": "@jupyter-widgets/base",
            "_view_module_version": "1.2.0",
            "_view_name": "StyleView",
            "bar_color": null,
            "description_width": ""
          }
        },
        "aa346d54e53c461e9ad8402b1f312ac5": {
          "model_module": "@jupyter-widgets/controls",
          "model_module_version": "1.5.0",
          "model_name": "FloatProgressModel",
          "state": {
            "_dom_classes": [],
            "_model_module": "@jupyter-widgets/controls",
            "_model_module_version": "1.5.0",
            "_model_name": "FloatProgressModel",
            "_view_count": null,
            "_view_module": "@jupyter-widgets/controls",
            "_view_module_version": "1.5.0",
            "_view_name": "ProgressView",
            "bar_style": "success",
            "description": "",
            "description_tooltip": null,
            "layout": "IPY_MODEL_7f8a4905c58242e98f1c18a512044173",
            "max": 1,
            "min": 0,
            "orientation": "horizontal",
            "style": "IPY_MODEL_3f04fdd498dd4fdf937f8372762fb6cd",
            "value": 1
          }
        },
        "b051ecfafb9d4e2f896430dec206c24b": {
          "model_module": "@jupyter-widgets/controls",
          "model_module_version": "1.5.0",
          "model_name": "FloatProgressModel",
          "state": {
            "_dom_classes": [],
            "_model_module": "@jupyter-widgets/controls",
            "_model_module_version": "1.5.0",
            "_model_name": "FloatProgressModel",
            "_view_count": null,
            "_view_module": "@jupyter-widgets/controls",
            "_view_module_version": "1.5.0",
            "_view_name": "ProgressView",
            "bar_style": "info",
            "description": "",
            "description_tooltip": null,
            "layout": "IPY_MODEL_bd1e0876ec824e82b916ca457554c514",
            "max": 1,
            "min": 0,
            "orientation": "horizontal",
            "style": "IPY_MODEL_7aa309698e984b52bc7b391e32b61c16",
            "value": 1
          }
        },
        "b0ae28d55e0646eaabb69dfd24cf0a14": {
          "model_module": "@jupyter-widgets/controls",
          "model_module_version": "1.5.0",
          "model_name": "HTMLModel",
          "state": {
            "_dom_classes": [],
            "_model_module": "@jupyter-widgets/controls",
            "_model_module_version": "1.5.0",
            "_model_name": "HTMLModel",
            "_view_count": null,
            "_view_module": "@jupyter-widgets/controls",
            "_view_module_version": "1.5.0",
            "_view_name": "HTMLView",
            "description": "",
            "description_tooltip": null,
            "layout": "IPY_MODEL_58a4414cec784bdfba552acd689b0005",
            "placeholder": "​",
            "style": "IPY_MODEL_92d55c3072434c27af4c7dbd2afaa975",
            "value": ""
          }
        },
        "b0f9bf55ee2e47728d5548da14623160": {
          "model_module": "@jupyter-widgets/base",
          "model_module_version": "1.2.0",
          "model_name": "LayoutModel",
          "state": {
            "_model_module": "@jupyter-widgets/base",
            "_model_module_version": "1.2.0",
            "_model_name": "LayoutModel",
            "_view_count": null,
            "_view_module": "@jupyter-widgets/base",
            "_view_module_version": "1.2.0",
            "_view_name": "LayoutView",
            "align_content": null,
            "align_items": null,
            "align_self": null,
            "border": null,
            "bottom": null,
            "display": null,
            "flex": null,
            "flex_flow": null,
            "grid_area": null,
            "grid_auto_columns": null,
            "grid_auto_flow": null,
            "grid_auto_rows": null,
            "grid_column": null,
            "grid_gap": null,
            "grid_row": null,
            "grid_template_areas": null,
            "grid_template_columns": null,
            "grid_template_rows": null,
            "height": null,
            "justify_content": null,
            "justify_items": null,
            "left": null,
            "margin": null,
            "max_height": null,
            "max_width": null,
            "min_height": null,
            "min_width": null,
            "object_fit": null,
            "object_position": null,
            "order": null,
            "overflow": null,
            "overflow_x": null,
            "overflow_y": null,
            "padding": null,
            "right": null,
            "top": null,
            "visibility": null,
            "width": null
          }
        },
        "b169cd2b92514963bb8d5cc079fa51d2": {
          "model_module": "@jupyter-widgets/base",
          "model_module_version": "1.2.0",
          "model_name": "LayoutModel",
          "state": {
            "_model_module": "@jupyter-widgets/base",
            "_model_module_version": "1.2.0",
            "_model_name": "LayoutModel",
            "_view_count": null,
            "_view_module": "@jupyter-widgets/base",
            "_view_module_version": "1.2.0",
            "_view_name": "LayoutView",
            "align_content": null,
            "align_items": null,
            "align_self": null,
            "border": null,
            "bottom": null,
            "display": null,
            "flex": null,
            "flex_flow": null,
            "grid_area": null,
            "grid_auto_columns": null,
            "grid_auto_flow": null,
            "grid_auto_rows": null,
            "grid_column": null,
            "grid_gap": null,
            "grid_row": null,
            "grid_template_areas": null,
            "grid_template_columns": null,
            "grid_template_rows": null,
            "height": null,
            "justify_content": null,
            "justify_items": null,
            "left": null,
            "margin": null,
            "max_height": null,
            "max_width": null,
            "min_height": null,
            "min_width": null,
            "object_fit": null,
            "object_position": null,
            "order": null,
            "overflow": null,
            "overflow_x": null,
            "overflow_y": null,
            "padding": null,
            "right": null,
            "top": null,
            "visibility": null,
            "width": "20px"
          }
        },
        "b46847621334413fa827242a3394de81": {
          "model_module": "@jupyter-widgets/base",
          "model_module_version": "1.2.0",
          "model_name": "LayoutModel",
          "state": {
            "_model_module": "@jupyter-widgets/base",
            "_model_module_version": "1.2.0",
            "_model_name": "LayoutModel",
            "_view_count": null,
            "_view_module": "@jupyter-widgets/base",
            "_view_module_version": "1.2.0",
            "_view_name": "LayoutView",
            "align_content": null,
            "align_items": null,
            "align_self": null,
            "border": null,
            "bottom": null,
            "display": null,
            "flex": null,
            "flex_flow": null,
            "grid_area": null,
            "grid_auto_columns": null,
            "grid_auto_flow": null,
            "grid_auto_rows": null,
            "grid_column": null,
            "grid_gap": null,
            "grid_row": null,
            "grid_template_areas": null,
            "grid_template_columns": null,
            "grid_template_rows": null,
            "height": null,
            "justify_content": null,
            "justify_items": null,
            "left": null,
            "margin": null,
            "max_height": null,
            "max_width": null,
            "min_height": null,
            "min_width": null,
            "object_fit": null,
            "object_position": null,
            "order": null,
            "overflow": null,
            "overflow_x": null,
            "overflow_y": null,
            "padding": null,
            "right": null,
            "top": null,
            "visibility": null,
            "width": null
          }
        },
        "b4db0d58b4a449d1989961639d6ff9d3": {
          "model_module": "@jupyter-widgets/controls",
          "model_module_version": "1.5.0",
          "model_name": "HTMLModel",
          "state": {
            "_dom_classes": [],
            "_model_module": "@jupyter-widgets/controls",
            "_model_module_version": "1.5.0",
            "_model_name": "HTMLModel",
            "_view_count": null,
            "_view_module": "@jupyter-widgets/controls",
            "_view_module_version": "1.5.0",
            "_view_name": "HTMLView",
            "description": "",
            "description_tooltip": null,
            "layout": "IPY_MODEL_6ea4882317b645e2b24f870aca8bb25e",
            "placeholder": "​",
            "style": "IPY_MODEL_be279e8943af42198e1cb5d91cce2819",
            "value": " 187/? [01:10&lt;00:00,  3.07it/s]"
          }
        },
        "b8082d9e2e4b4beabf9e37510c736eb8": {
          "model_module": "@jupyter-widgets/controls",
          "model_module_version": "1.5.0",
          "model_name": "HTMLModel",
          "state": {
            "_dom_classes": [],
            "_model_module": "@jupyter-widgets/controls",
            "_model_module_version": "1.5.0",
            "_model_name": "HTMLModel",
            "_view_count": null,
            "_view_module": "@jupyter-widgets/controls",
            "_view_module_version": "1.5.0",
            "_view_name": "HTMLView",
            "description": "",
            "description_tooltip": null,
            "layout": "IPY_MODEL_d9d3b9b6212a4a6a99a051e329eef764",
            "placeholder": "​",
            "style": "IPY_MODEL_7ef4bdc7d93e4a22ae219460b05d01f4",
            "value": " 187/? [01:11&lt;00:00,  3.16it/s]"
          }
        },
        "b970b33f76dd480ab70168c1ade888a3": {
          "model_module": "@jupyter-widgets/controls",
          "model_module_version": "1.5.0",
          "model_name": "DescriptionStyleModel",
          "state": {
            "_model_module": "@jupyter-widgets/controls",
            "_model_module_version": "1.5.0",
            "_model_name": "DescriptionStyleModel",
            "_view_count": null,
            "_view_module": "@jupyter-widgets/base",
            "_view_module_version": "1.2.0",
            "_view_name": "StyleView",
            "description_width": ""
          }
        },
        "bd1e0876ec824e82b916ca457554c514": {
          "model_module": "@jupyter-widgets/base",
          "model_module_version": "1.2.0",
          "model_name": "LayoutModel",
          "state": {
            "_model_module": "@jupyter-widgets/base",
            "_model_module_version": "1.2.0",
            "_model_name": "LayoutModel",
            "_view_count": null,
            "_view_module": "@jupyter-widgets/base",
            "_view_module_version": "1.2.0",
            "_view_name": "LayoutView",
            "align_content": null,
            "align_items": null,
            "align_self": null,
            "border": null,
            "bottom": null,
            "display": null,
            "flex": null,
            "flex_flow": null,
            "grid_area": null,
            "grid_auto_columns": null,
            "grid_auto_flow": null,
            "grid_auto_rows": null,
            "grid_column": null,
            "grid_gap": null,
            "grid_row": null,
            "grid_template_areas": null,
            "grid_template_columns": null,
            "grid_template_rows": null,
            "height": null,
            "justify_content": null,
            "justify_items": null,
            "left": null,
            "margin": null,
            "max_height": null,
            "max_width": null,
            "min_height": null,
            "min_width": null,
            "object_fit": null,
            "object_position": null,
            "order": null,
            "overflow": null,
            "overflow_x": null,
            "overflow_y": null,
            "padding": null,
            "right": null,
            "top": null,
            "visibility": null,
            "width": "20px"
          }
        },
        "be279e8943af42198e1cb5d91cce2819": {
          "model_module": "@jupyter-widgets/controls",
          "model_module_version": "1.5.0",
          "model_name": "DescriptionStyleModel",
          "state": {
            "_model_module": "@jupyter-widgets/controls",
            "_model_module_version": "1.5.0",
            "_model_name": "DescriptionStyleModel",
            "_view_count": null,
            "_view_module": "@jupyter-widgets/base",
            "_view_module_version": "1.2.0",
            "_view_name": "StyleView",
            "description_width": ""
          }
        },
        "be735b40dd574bc5947b56f590a59205": {
          "model_module": "@jupyter-widgets/controls",
          "model_module_version": "1.5.0",
          "model_name": "HTMLModel",
          "state": {
            "_dom_classes": [],
            "_model_module": "@jupyter-widgets/controls",
            "_model_module_version": "1.5.0",
            "_model_name": "HTMLModel",
            "_view_count": null,
            "_view_module": "@jupyter-widgets/controls",
            "_view_module_version": "1.5.0",
            "_view_name": "HTMLView",
            "description": "",
            "description_tooltip": null,
            "layout": "IPY_MODEL_63ce5b968bf94f3f855144b536a15c04",
            "placeholder": "​",
            "style": "IPY_MODEL_70be4cfb6a95402e92e3faaeddd45e1b",
            "value": ""
          }
        },
        "c090b39807014949a3638c99db67a8e8": {
          "model_module": "@jupyter-widgets/controls",
          "model_module_version": "1.5.0",
          "model_name": "DescriptionStyleModel",
          "state": {
            "_model_module": "@jupyter-widgets/controls",
            "_model_module_version": "1.5.0",
            "_model_name": "DescriptionStyleModel",
            "_view_count": null,
            "_view_module": "@jupyter-widgets/base",
            "_view_module_version": "1.2.0",
            "_view_name": "StyleView",
            "description_width": ""
          }
        },
        "c489a490d48042b98936ea39f2da1b54": {
          "model_module": "@jupyter-widgets/controls",
          "model_module_version": "1.5.0",
          "model_name": "ProgressStyleModel",
          "state": {
            "_model_module": "@jupyter-widgets/controls",
            "_model_module_version": "1.5.0",
            "_model_name": "ProgressStyleModel",
            "_view_count": null,
            "_view_module": "@jupyter-widgets/base",
            "_view_module_version": "1.2.0",
            "_view_name": "StyleView",
            "bar_color": null,
            "description_width": ""
          }
        },
        "c528ccf0c3c04ad0b76fcb74d2cf0f5e": {
          "model_module": "@jupyter-widgets/controls",
          "model_module_version": "1.5.0",
          "model_name": "HTMLModel",
          "state": {
            "_dom_classes": [],
            "_model_module": "@jupyter-widgets/controls",
            "_model_module_version": "1.5.0",
            "_model_name": "HTMLModel",
            "_view_count": null,
            "_view_module": "@jupyter-widgets/controls",
            "_view_module_version": "1.5.0",
            "_view_name": "HTMLView",
            "description": "",
            "description_tooltip": null,
            "layout": "IPY_MODEL_4432bad7ee584743accdadc09771d212",
            "placeholder": "​",
            "style": "IPY_MODEL_41c516323d3d47288242ff82a5d8e21a",
            "value": "  8%"
          }
        },
        "c65779dd435c498a88bf6943361b9fd0": {
          "model_module": "@jupyter-widgets/controls",
          "model_module_version": "1.5.0",
          "model_name": "FloatProgressModel",
          "state": {
            "_dom_classes": [],
            "_model_module": "@jupyter-widgets/controls",
            "_model_module_version": "1.5.0",
            "_model_name": "FloatProgressModel",
            "_view_count": null,
            "_view_module": "@jupyter-widgets/controls",
            "_view_module_version": "1.5.0",
            "_view_name": "ProgressView",
            "bar_style": "success",
            "description": "",
            "description_tooltip": null,
            "layout": "IPY_MODEL_954ce19737914847a346763b72092e5a",
            "max": 1,
            "min": 0,
            "orientation": "horizontal",
            "style": "IPY_MODEL_86b787d8236d4bd09eb4be5de2b8637b",
            "value": 1
          }
        },
        "c98bc4230bd6477880984bf4c168efd9": {
          "model_module": "@jupyter-widgets/base",
          "model_module_version": "1.2.0",
          "model_name": "LayoutModel",
          "state": {
            "_model_module": "@jupyter-widgets/base",
            "_model_module_version": "1.2.0",
            "_model_name": "LayoutModel",
            "_view_count": null,
            "_view_module": "@jupyter-widgets/base",
            "_view_module_version": "1.2.0",
            "_view_name": "LayoutView",
            "align_content": null,
            "align_items": null,
            "align_self": null,
            "border": null,
            "bottom": null,
            "display": null,
            "flex": null,
            "flex_flow": null,
            "grid_area": null,
            "grid_auto_columns": null,
            "grid_auto_flow": null,
            "grid_auto_rows": null,
            "grid_column": null,
            "grid_gap": null,
            "grid_row": null,
            "grid_template_areas": null,
            "grid_template_columns": null,
            "grid_template_rows": null,
            "height": null,
            "justify_content": null,
            "justify_items": null,
            "left": null,
            "margin": null,
            "max_height": null,
            "max_width": null,
            "min_height": null,
            "min_width": null,
            "object_fit": null,
            "object_position": null,
            "order": null,
            "overflow": null,
            "overflow_x": null,
            "overflow_y": null,
            "padding": null,
            "right": null,
            "top": null,
            "visibility": null,
            "width": null
          }
        },
        "cbddb459762b40d8bc5afcf5bbfe30bb": {
          "model_module": "@jupyter-widgets/controls",
          "model_module_version": "1.5.0",
          "model_name": "HBoxModel",
          "state": {
            "_dom_classes": [],
            "_model_module": "@jupyter-widgets/controls",
            "_model_module_version": "1.5.0",
            "_model_name": "HBoxModel",
            "_view_count": null,
            "_view_module": "@jupyter-widgets/controls",
            "_view_module_version": "1.5.0",
            "_view_name": "HBoxView",
            "box_style": "",
            "children": [
              "IPY_MODEL_a07fae883bd74692b154e2bc666d2dd3",
              "IPY_MODEL_4eac7dfa5cd94cb4a28fefb45b83c4a2",
              "IPY_MODEL_5948cfaabad54ff1a8a559aaba8d7af6"
            ],
            "layout": "IPY_MODEL_47df2e7b6e914639a97a5be59feb6913"
          }
        },
        "d1d972f12de547bd86e292433df0727b": {
          "model_module": "@jupyter-widgets/controls",
          "model_module_version": "1.5.0",
          "model_name": "HBoxModel",
          "state": {
            "_dom_classes": [],
            "_model_module": "@jupyter-widgets/controls",
            "_model_module_version": "1.5.0",
            "_model_name": "HBoxModel",
            "_view_count": null,
            "_view_module": "@jupyter-widgets/controls",
            "_view_module_version": "1.5.0",
            "_view_name": "HBoxView",
            "box_style": "",
            "children": [
              "IPY_MODEL_be735b40dd574bc5947b56f590a59205",
              "IPY_MODEL_11c669350194464c84e06cf266b60b90",
              "IPY_MODEL_677e18abf5114e49944f64cca1998bb2"
            ],
            "layout": "IPY_MODEL_13387f3928994ac6beafeaef3a68331d"
          }
        },
        "d28b3904129642c789b78426dc644522": {
          "model_module": "@jupyter-widgets/base",
          "model_module_version": "1.2.0",
          "model_name": "LayoutModel",
          "state": {
            "_model_module": "@jupyter-widgets/base",
            "_model_module_version": "1.2.0",
            "_model_name": "LayoutModel",
            "_view_count": null,
            "_view_module": "@jupyter-widgets/base",
            "_view_module_version": "1.2.0",
            "_view_name": "LayoutView",
            "align_content": null,
            "align_items": null,
            "align_self": null,
            "border": null,
            "bottom": null,
            "display": null,
            "flex": null,
            "flex_flow": null,
            "grid_area": null,
            "grid_auto_columns": null,
            "grid_auto_flow": null,
            "grid_auto_rows": null,
            "grid_column": null,
            "grid_gap": null,
            "grid_row": null,
            "grid_template_areas": null,
            "grid_template_columns": null,
            "grid_template_rows": null,
            "height": null,
            "justify_content": null,
            "justify_items": null,
            "left": null,
            "margin": null,
            "max_height": null,
            "max_width": null,
            "min_height": null,
            "min_width": null,
            "object_fit": null,
            "object_position": null,
            "order": null,
            "overflow": null,
            "overflow_x": null,
            "overflow_y": null,
            "padding": null,
            "right": null,
            "top": null,
            "visibility": null,
            "width": null
          }
        },
        "d5fb2ab030814d309bd98fb0452c9c4a": {
          "model_module": "@jupyter-widgets/base",
          "model_module_version": "1.2.0",
          "model_name": "LayoutModel",
          "state": {
            "_model_module": "@jupyter-widgets/base",
            "_model_module_version": "1.2.0",
            "_model_name": "LayoutModel",
            "_view_count": null,
            "_view_module": "@jupyter-widgets/base",
            "_view_module_version": "1.2.0",
            "_view_name": "LayoutView",
            "align_content": null,
            "align_items": null,
            "align_self": null,
            "border": null,
            "bottom": null,
            "display": null,
            "flex": null,
            "flex_flow": null,
            "grid_area": null,
            "grid_auto_columns": null,
            "grid_auto_flow": null,
            "grid_auto_rows": null,
            "grid_column": null,
            "grid_gap": null,
            "grid_row": null,
            "grid_template_areas": null,
            "grid_template_columns": null,
            "grid_template_rows": null,
            "height": null,
            "justify_content": null,
            "justify_items": null,
            "left": null,
            "margin": null,
            "max_height": null,
            "max_width": null,
            "min_height": null,
            "min_width": null,
            "object_fit": null,
            "object_position": null,
            "order": null,
            "overflow": null,
            "overflow_x": null,
            "overflow_y": null,
            "padding": null,
            "right": null,
            "top": null,
            "visibility": null,
            "width": null
          }
        },
        "d9d3b9b6212a4a6a99a051e329eef764": {
          "model_module": "@jupyter-widgets/base",
          "model_module_version": "1.2.0",
          "model_name": "LayoutModel",
          "state": {
            "_model_module": "@jupyter-widgets/base",
            "_model_module_version": "1.2.0",
            "_model_name": "LayoutModel",
            "_view_count": null,
            "_view_module": "@jupyter-widgets/base",
            "_view_module_version": "1.2.0",
            "_view_name": "LayoutView",
            "align_content": null,
            "align_items": null,
            "align_self": null,
            "border": null,
            "bottom": null,
            "display": null,
            "flex": null,
            "flex_flow": null,
            "grid_area": null,
            "grid_auto_columns": null,
            "grid_auto_flow": null,
            "grid_auto_rows": null,
            "grid_column": null,
            "grid_gap": null,
            "grid_row": null,
            "grid_template_areas": null,
            "grid_template_columns": null,
            "grid_template_rows": null,
            "height": null,
            "justify_content": null,
            "justify_items": null,
            "left": null,
            "margin": null,
            "max_height": null,
            "max_width": null,
            "min_height": null,
            "min_width": null,
            "object_fit": null,
            "object_position": null,
            "order": null,
            "overflow": null,
            "overflow_x": null,
            "overflow_y": null,
            "padding": null,
            "right": null,
            "top": null,
            "visibility": null,
            "width": null
          }
        },
        "da7ab8f3f24142149f897fb09d6aeadc": {
          "model_module": "@jupyter-widgets/controls",
          "model_module_version": "1.5.0",
          "model_name": "HTMLModel",
          "state": {
            "_dom_classes": [],
            "_model_module": "@jupyter-widgets/controls",
            "_model_module_version": "1.5.0",
            "_model_name": "HTMLModel",
            "_view_count": null,
            "_view_module": "@jupyter-widgets/controls",
            "_view_module_version": "1.5.0",
            "_view_name": "HTMLView",
            "description": "",
            "description_tooltip": null,
            "layout": "IPY_MODEL_5c81142f56804ced80059d181429c9f0",
            "placeholder": "​",
            "style": "IPY_MODEL_b970b33f76dd480ab70168c1ade888a3",
            "value": " 187/? [01:11&lt;00:00,  3.16it/s]"
          }
        },
        "dc7b4c39a2df4bcfa3801095344f3679": {
          "model_module": "@jupyter-widgets/controls",
          "model_module_version": "1.5.0",
          "model_name": "DescriptionStyleModel",
          "state": {
            "_model_module": "@jupyter-widgets/controls",
            "_model_module_version": "1.5.0",
            "_model_name": "DescriptionStyleModel",
            "_view_count": null,
            "_view_module": "@jupyter-widgets/base",
            "_view_module_version": "1.2.0",
            "_view_name": "StyleView",
            "description_width": ""
          }
        },
        "ddb099de98ce4083b80e45570bc67432": {
          "model_module": "@jupyter-widgets/base",
          "model_module_version": "1.2.0",
          "model_name": "LayoutModel",
          "state": {
            "_model_module": "@jupyter-widgets/base",
            "_model_module_version": "1.2.0",
            "_model_name": "LayoutModel",
            "_view_count": null,
            "_view_module": "@jupyter-widgets/base",
            "_view_module_version": "1.2.0",
            "_view_name": "LayoutView",
            "align_content": null,
            "align_items": null,
            "align_self": null,
            "border": null,
            "bottom": null,
            "display": null,
            "flex": null,
            "flex_flow": null,
            "grid_area": null,
            "grid_auto_columns": null,
            "grid_auto_flow": null,
            "grid_auto_rows": null,
            "grid_column": null,
            "grid_gap": null,
            "grid_row": null,
            "grid_template_areas": null,
            "grid_template_columns": null,
            "grid_template_rows": null,
            "height": null,
            "justify_content": null,
            "justify_items": null,
            "left": null,
            "margin": null,
            "max_height": null,
            "max_width": null,
            "min_height": null,
            "min_width": null,
            "object_fit": null,
            "object_position": null,
            "order": null,
            "overflow": null,
            "overflow_x": null,
            "overflow_y": null,
            "padding": null,
            "right": null,
            "top": null,
            "visibility": null,
            "width": null
          }
        },
        "de649be7dcf94ce5878664a94f99eead": {
          "model_module": "@jupyter-widgets/base",
          "model_module_version": "1.2.0",
          "model_name": "LayoutModel",
          "state": {
            "_model_module": "@jupyter-widgets/base",
            "_model_module_version": "1.2.0",
            "_model_name": "LayoutModel",
            "_view_count": null,
            "_view_module": "@jupyter-widgets/base",
            "_view_module_version": "1.2.0",
            "_view_name": "LayoutView",
            "align_content": null,
            "align_items": null,
            "align_self": null,
            "border": null,
            "bottom": null,
            "display": null,
            "flex": null,
            "flex_flow": null,
            "grid_area": null,
            "grid_auto_columns": null,
            "grid_auto_flow": null,
            "grid_auto_rows": null,
            "grid_column": null,
            "grid_gap": null,
            "grid_row": null,
            "grid_template_areas": null,
            "grid_template_columns": null,
            "grid_template_rows": null,
            "height": null,
            "justify_content": null,
            "justify_items": null,
            "left": null,
            "margin": null,
            "max_height": null,
            "max_width": null,
            "min_height": null,
            "min_width": null,
            "object_fit": null,
            "object_position": null,
            "order": null,
            "overflow": null,
            "overflow_x": null,
            "overflow_y": null,
            "padding": null,
            "right": null,
            "top": null,
            "visibility": null,
            "width": null
          }
        },
        "dfca444753214a7f9def7f857b8e1b17": {
          "model_module": "@jupyter-widgets/controls",
          "model_module_version": "1.5.0",
          "model_name": "FloatProgressModel",
          "state": {
            "_dom_classes": [],
            "_model_module": "@jupyter-widgets/controls",
            "_model_module_version": "1.5.0",
            "_model_name": "FloatProgressModel",
            "_view_count": null,
            "_view_module": "@jupyter-widgets/controls",
            "_view_module_version": "1.5.0",
            "_view_name": "ProgressView",
            "bar_style": "",
            "description": "",
            "description_tooltip": null,
            "layout": "IPY_MODEL_5ca78c31788b4580b92e83e0fa02eac4",
            "max": 100,
            "min": 0,
            "orientation": "horizontal",
            "style": "IPY_MODEL_21a2355a1b8f4619b92f49debdf2e8c0",
            "value": 8
          }
        },
        "e65e99661c764c7c950302cbaa4e357f": {
          "model_module": "@jupyter-widgets/base",
          "model_module_version": "1.2.0",
          "model_name": "LayoutModel",
          "state": {
            "_model_module": "@jupyter-widgets/base",
            "_model_module_version": "1.2.0",
            "_model_name": "LayoutModel",
            "_view_count": null,
            "_view_module": "@jupyter-widgets/base",
            "_view_module_version": "1.2.0",
            "_view_name": "LayoutView",
            "align_content": null,
            "align_items": null,
            "align_self": null,
            "border": null,
            "bottom": null,
            "display": null,
            "flex": null,
            "flex_flow": null,
            "grid_area": null,
            "grid_auto_columns": null,
            "grid_auto_flow": null,
            "grid_auto_rows": null,
            "grid_column": null,
            "grid_gap": null,
            "grid_row": null,
            "grid_template_areas": null,
            "grid_template_columns": null,
            "grid_template_rows": null,
            "height": null,
            "justify_content": null,
            "justify_items": null,
            "left": null,
            "margin": null,
            "max_height": null,
            "max_width": null,
            "min_height": null,
            "min_width": null,
            "object_fit": null,
            "object_position": null,
            "order": null,
            "overflow": null,
            "overflow_x": null,
            "overflow_y": null,
            "padding": null,
            "right": null,
            "top": null,
            "visibility": null,
            "width": null
          }
        },
        "e7dbce0fc4c54404ace04dff09cb7428": {
          "model_module": "@jupyter-widgets/controls",
          "model_module_version": "1.5.0",
          "model_name": "DescriptionStyleModel",
          "state": {
            "_model_module": "@jupyter-widgets/controls",
            "_model_module_version": "1.5.0",
            "_model_name": "DescriptionStyleModel",
            "_view_count": null,
            "_view_module": "@jupyter-widgets/base",
            "_view_module_version": "1.2.0",
            "_view_name": "StyleView",
            "description_width": ""
          }
        },
        "e82a345c65734ca09307857608259298": {
          "model_module": "@jupyter-widgets/controls",
          "model_module_version": "1.5.0",
          "model_name": "HBoxModel",
          "state": {
            "_dom_classes": [],
            "_model_module": "@jupyter-widgets/controls",
            "_model_module_version": "1.5.0",
            "_model_name": "HBoxModel",
            "_view_count": null,
            "_view_module": "@jupyter-widgets/controls",
            "_view_module_version": "1.5.0",
            "_view_name": "HBoxView",
            "box_style": "",
            "children": [
              "IPY_MODEL_016fdeae011a4317b2dffc976755eb40",
              "IPY_MODEL_041650f499db45de812b15b13311524b",
              "IPY_MODEL_da7ab8f3f24142149f897fb09d6aeadc"
            ],
            "layout": "IPY_MODEL_2a14a8c2f4584b36b5f47bbcab28cfbd"
          }
        },
        "ec9becf5f2f64bba92775185bfe0b8db": {
          "model_module": "@jupyter-widgets/controls",
          "model_module_version": "1.5.0",
          "model_name": "HTMLModel",
          "state": {
            "_dom_classes": [],
            "_model_module": "@jupyter-widgets/controls",
            "_model_module_version": "1.5.0",
            "_model_name": "HTMLModel",
            "_view_count": null,
            "_view_module": "@jupyter-widgets/controls",
            "_view_module_version": "1.5.0",
            "_view_name": "HTMLView",
            "description": "",
            "description_tooltip": null,
            "layout": "IPY_MODEL_0e98dd86d7334e41926545aac3756d09",
            "placeholder": "​",
            "style": "IPY_MODEL_c090b39807014949a3638c99db67a8e8",
            "value": ""
          }
        },
        "ef895acdda814bd987741c3110c94fc3": {
          "model_module": "@jupyter-widgets/base",
          "model_module_version": "1.2.0",
          "model_name": "LayoutModel",
          "state": {
            "_model_module": "@jupyter-widgets/base",
            "_model_module_version": "1.2.0",
            "_model_name": "LayoutModel",
            "_view_count": null,
            "_view_module": "@jupyter-widgets/base",
            "_view_module_version": "1.2.0",
            "_view_name": "LayoutView",
            "align_content": null,
            "align_items": null,
            "align_self": null,
            "border": null,
            "bottom": null,
            "display": null,
            "flex": null,
            "flex_flow": null,
            "grid_area": null,
            "grid_auto_columns": null,
            "grid_auto_flow": null,
            "grid_auto_rows": null,
            "grid_column": null,
            "grid_gap": null,
            "grid_row": null,
            "grid_template_areas": null,
            "grid_template_columns": null,
            "grid_template_rows": null,
            "height": null,
            "justify_content": null,
            "justify_items": null,
            "left": null,
            "margin": null,
            "max_height": null,
            "max_width": null,
            "min_height": null,
            "min_width": null,
            "object_fit": null,
            "object_position": null,
            "order": null,
            "overflow": null,
            "overflow_x": null,
            "overflow_y": null,
            "padding": null,
            "right": null,
            "top": null,
            "visibility": null,
            "width": null
          }
        },
        "f06c11f797694368bc800ed5dd690c20": {
          "model_module": "@jupyter-widgets/controls",
          "model_module_version": "1.5.0",
          "model_name": "DescriptionStyleModel",
          "state": {
            "_model_module": "@jupyter-widgets/controls",
            "_model_module_version": "1.5.0",
            "_model_name": "DescriptionStyleModel",
            "_view_count": null,
            "_view_module": "@jupyter-widgets/base",
            "_view_module_version": "1.2.0",
            "_view_name": "StyleView",
            "description_width": ""
          }
        },
        "f2fdd402727d4c07ae1a144fd28ef6d0": {
          "model_module": "@jupyter-widgets/controls",
          "model_module_version": "1.5.0",
          "model_name": "HTMLModel",
          "state": {
            "_dom_classes": [],
            "_model_module": "@jupyter-widgets/controls",
            "_model_module_version": "1.5.0",
            "_model_name": "HTMLModel",
            "_view_count": null,
            "_view_module": "@jupyter-widgets/controls",
            "_view_module_version": "1.5.0",
            "_view_name": "HTMLView",
            "description": "",
            "description_tooltip": null,
            "layout": "IPY_MODEL_277fd7db78724bea9ea50a6467d39879",
            "placeholder": "​",
            "style": "IPY_MODEL_7401704a6976486da0905f269e663b69",
            "value": ""
          }
        },
        "ff98afe7f8d14a869ed566da7802984b": {
          "model_module": "@jupyter-widgets/base",
          "model_module_version": "1.2.0",
          "model_name": "LayoutModel",
          "state": {
            "_model_module": "@jupyter-widgets/base",
            "_model_module_version": "1.2.0",
            "_model_name": "LayoutModel",
            "_view_count": null,
            "_view_module": "@jupyter-widgets/base",
            "_view_module_version": "1.2.0",
            "_view_name": "LayoutView",
            "align_content": null,
            "align_items": null,
            "align_self": null,
            "border": null,
            "bottom": null,
            "display": null,
            "flex": null,
            "flex_flow": null,
            "grid_area": null,
            "grid_auto_columns": null,
            "grid_auto_flow": null,
            "grid_auto_rows": null,
            "grid_column": null,
            "grid_gap": null,
            "grid_row": null,
            "grid_template_areas": null,
            "grid_template_columns": null,
            "grid_template_rows": null,
            "height": null,
            "justify_content": null,
            "justify_items": null,
            "left": null,
            "margin": null,
            "max_height": null,
            "max_width": null,
            "min_height": null,
            "min_width": null,
            "object_fit": null,
            "object_position": null,
            "order": null,
            "overflow": null,
            "overflow_x": null,
            "overflow_y": null,
            "padding": null,
            "right": null,
            "top": null,
            "visibility": null,
            "width": "20px"
          }
        }
      }
    }
  },
  "nbformat": 4,
  "nbformat_minor": 0
}
